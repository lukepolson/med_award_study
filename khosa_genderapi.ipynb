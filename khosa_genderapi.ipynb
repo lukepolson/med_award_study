{
 "cells": [
  {
   "cell_type": "markdown",
   "metadata": {},
   "source": [
    "* contingency table\n",
    "* chi2 test for independence (big data)\n",
    "* Fischer Test (small data)\n",
    "* log-linear models for contingency tables"
   ]
  },
  {
   "cell_type": "code",
   "execution_count": 1,
   "metadata": {},
   "outputs": [],
   "source": [
    "import numpy as np\n",
    "import pandas as pd\n",
    "import json\n",
    "from urllib.request import urlopen"
   ]
  },
  {
   "cell_type": "code",
   "execution_count": 25,
   "metadata": {},
   "outputs": [],
   "source": [
    "def get_genders(names):\n",
    "    pred_genders = []\n",
    "    myKey = \"JljB4rjnA72npkDnX9kBzqVneqV8BQZRU2Zz\"\n",
    "    for name in names:\n",
    "        url = \"https://gender-api.com/get?key=\" + myKey + \"&split={}\".format(name)\n",
    "        response = urlopen(url)\n",
    "        decoded = response.read().decode('utf-8')\n",
    "        data = json.loads(decoded)\n",
    "        pred_genders.append(data['gender'])\n",
    "    return pred_genders\n",
    "\n",
    "def remove_char(arr, char):\n",
    "    return ' '.join(list(filter(lambda x:char not in x, arr.split())))"
   ]
  },
  {
   "cell_type": "code",
   "execution_count": 26,
   "metadata": {},
   "outputs": [],
   "source": [
    "df = pd.read_csv('master2.csv')"
   ]
  },
  {
   "cell_type": "code",
   "execution_count": 34,
   "metadata": {},
   "outputs": [],
   "source": [
    "arr = df['Name'].to_numpy()\n",
    "arr = np.array([a.split(',')[0] for a in arr])\n",
    "arr = np.array([a.split(':')[-1] for a in arr])\n",
    "arr = np.vectorize(remove_char)(arr, '*')\n",
    "arr = np.vectorize(remove_char)(arr, '.')\n",
    "arr = np.vectorize(remove_char)(arr, '(')\n",
    "\n",
    "f_name = [a.split(' ')[0] for a in arr]\n",
    "l_name = [a.split(' ')[-1] for a in arr]\n",
    "\n",
    "f_name = [f.encode() for f in f_name]\n",
    "l_name = [l.encode() for l in l_name]"
   ]
  },
  {
   "cell_type": "code",
   "execution_count": 35,
   "metadata": {},
   "outputs": [],
   "source": [
    "genders_pred = get_genders(f_name)"
   ]
  },
  {
   "cell_type": "code",
   "execution_count": 36,
   "metadata": {},
   "outputs": [],
   "source": [
    "df['pred_gender'] = genders_pred"
   ]
  },
  {
   "cell_type": "code",
   "execution_count": 37,
   "metadata": {},
   "outputs": [],
   "source": [
    "df.to_csv('master2_withpred')"
   ]
  },
  {
   "cell_type": "code",
   "execution_count": null,
   "metadata": {},
   "outputs": [],
   "source": []
  },
  {
   "cell_type": "markdown",
   "metadata": {},
   "source": [
    "# Once its saved"
   ]
  },
  {
   "cell_type": "code",
   "execution_count": 37,
   "metadata": {},
   "outputs": [
    {
     "data": {
      "text/plain": [
       "array(['American Academy of Oral Maxillofacial Radiology',\n",
       "       'American Association for Women Radiologists ',\n",
       "       'American Roentgen Ray Society',\n",
       "       'American Society of Emergency Radiology',\n",
       "       'American Society of Head and Neck Radiology',\n",
       "       'American Society of Neuroradiology ',\n",
       "       'American Society of Spine Radiology',\n",
       "       'American college of radiology',\n",
       "       'Association of Program Directors in Radiology',\n",
       "       'Association of University Radiologists',\n",
       "       'Canadian Association of Radiologists',\n",
       "       'North American Society of Cardiovascular Imaging ',\n",
       "       'Radiological society of North America',\n",
       "       'Society for Abdominal Radiology',\n",
       "       'Society for Cardiovascular Magnetic Resonance',\n",
       "       'Society for Pediatric Radiology', 'Society of Breast Imaging',\n",
       "       'Society of Neurointerventional Surgery',\n",
       "       'Society of Nuclear Medicine & Molecular Imaging',\n",
       "       'Society of Radiologists in Ultrasound',\n",
       "       'Society of Skeletal Radiology ', 'Society of Thoracic Radiology'],\n",
       "      dtype=object)"
      ]
     },
     "execution_count": 37,
     "metadata": {},
     "output_type": "execute_result"
    }
   ],
   "source": [
    "np.unique(df.Society.values)"
   ]
  },
  {
   "cell_type": "code",
   "execution_count": 2,
   "metadata": {},
   "outputs": [],
   "source": [
    "df = pd.read_csv('master2_withpred')"
   ]
  },
  {
   "cell_type": "code",
   "execution_count": 4,
   "metadata": {},
   "outputs": [],
   "source": [
    "df.pred_gender = df.pred_gender.replace({'male': 1, 'female':2, 'unknown':0})\n",
    "df.Gender = df.Gender.fillna(0)"
   ]
  },
  {
   "cell_type": "code",
   "execution_count": 11,
   "metadata": {},
   "outputs": [],
   "source": [
    "df_filled = df[(df['Gender']!=0)&(df['pred_gender']!=0)]"
   ]
  },
  {
   "cell_type": "code",
   "execution_count": 21,
   "metadata": {},
   "outputs": [
    {
     "data": {
      "text/plain": [
       "0       False\n",
       "1       False\n",
       "2       False\n",
       "3       False\n",
       "5       False\n",
       "        ...  \n",
       "1909    False\n",
       "1928    False\n",
       "1931    False\n",
       "1934    False\n",
       "1950    False\n",
       "Length: 927, dtype: bool"
      ]
     },
     "execution_count": 21,
     "metadata": {},
     "output_type": "execute_result"
    }
   ],
   "source": [
    "df_filled.Gender==df_filled.pred_gender"
   ]
  },
  {
   "cell_type": "code",
   "execution_count": 19,
   "metadata": {},
   "outputs": [
    {
     "data": {
      "text/plain": [
       "0.09385113268608414"
      ]
     },
     "execution_count": 19,
     "metadata": {},
     "output_type": "execute_result"
    }
   ],
   "source": [
    "n/N"
   ]
  },
  {
   "cell_type": "code",
   "execution_count": 57,
   "metadata": {},
   "outputs": [],
   "source": [
    "df[['Society', 'Award', 'Gender', 'pred_gender']].to_csv('radiology_gender_data.csv')"
   ]
  },
  {
   "cell_type": "code",
   "execution_count": null,
   "metadata": {},
   "outputs": [],
   "source": []
  }
 ],
 "metadata": {
  "kernelspec": {
   "display_name": "Python 3",
   "language": "python",
   "name": "python3"
  },
  "language_info": {
   "codemirror_mode": {
    "name": "ipython",
    "version": 3
   },
   "file_extension": ".py",
   "mimetype": "text/x-python",
   "name": "python",
   "nbconvert_exporter": "python",
   "pygments_lexer": "ipython3",
   "version": "3.8.5"
  }
 },
 "nbformat": 4,
 "nbformat_minor": 4
}
