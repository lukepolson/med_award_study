{
 "cells": [
  {
   "cell_type": "code",
   "execution_count": 56,
   "metadata": {},
   "outputs": [],
   "source": [
    "import json\n",
    "from urllib.request import urlopen\n",
    "import numpy as np\n",
    "import pandas as pd\n",
    "import matplotlib.pyplot as plt\n",
    "import matplotlib\n",
    "import scipy.stats\n",
    "from collections import Counter\n",
    "plt.style.use('seaborn')\n",
    "\n",
    "def annotate_bars(ax):\n",
    "    for p in ax.patches:\n",
    "        ax.annotate('{}'.format(p.get_height()), (p.get_x()+p.get_width()/2, p.get_height()),\n",
    "                   bbox={'facecolor': 'white', 'alpha': 1, 'pad': 1}, ha='center', fontsize=10)"
   ]
  },
  {
   "cell_type": "markdown",
   "metadata": {},
   "source": [
    "* Gender\n",
    "* Change Kupura to female\n",
    "* Award Recipients Y axis\n",
    "* X axis all labels\n",
    "* 2019-2021 all societies"
   ]
  },
  {
   "cell_type": "code",
   "execution_count": 57,
   "metadata": {},
   "outputs": [],
   "source": [
    "award_cnt_label='Total Number of Award Recipients'"
   ]
  },
  {
   "cell_type": "code",
   "execution_count": 58,
   "metadata": {},
   "outputs": [],
   "source": [
    "df = pd.read_csv('gender_data3.csv', delimiter=',', usecols=np.arange(0,6))"
   ]
  },
  {
   "cell_type": "code",
   "execution_count": 60,
   "metadata": {},
   "outputs": [
    {
     "name": "stderr",
     "output_type": "stream",
     "text": [
      "<ipython-input-60-aaec7cf2b4aa>:14: SettingWithCopyWarning: \n",
      "A value is trying to be set on a copy of a slice from a DataFrame\n",
      "\n",
      "See the caveats in the documentation: https://pandas.pydata.org/pandas-docs/stable/user_guide/indexing.html#returning-a-view-versus-a-copy\n",
      "  df['Society'][df['Society']=='Eye physicians and surgeons of Ontario'] = 'EPS'\n",
      "<ipython-input-60-aaec7cf2b4aa>:15: SettingWithCopyWarning: \n",
      "A value is trying to be set on a copy of a slice from a DataFrame\n",
      "\n",
      "See the caveats in the documentation: https://pandas.pydata.org/pandas-docs/stable/user_guide/indexing.html#returning-a-view-versus-a-copy\n",
      "  df['Society'][df['Society']=='*COS'] = 'COS'\n"
     ]
    },
    {
     "data": {
      "text/html": [
       "<div>\n",
       "<style scoped>\n",
       "    .dataframe tbody tr th:only-of-type {\n",
       "        vertical-align: middle;\n",
       "    }\n",
       "\n",
       "    .dataframe tbody tr th {\n",
       "        vertical-align: top;\n",
       "    }\n",
       "\n",
       "    .dataframe thead th {\n",
       "        text-align: right;\n",
       "    }\n",
       "</style>\n",
       "<table border=\"1\" class=\"dataframe\">\n",
       "  <thead>\n",
       "    <tr style=\"text-align: right;\">\n",
       "      <th></th>\n",
       "      <th>Society</th>\n",
       "      <th>Award Type</th>\n",
       "      <th>Year</th>\n",
       "      <th>Award Winner</th>\n",
       "      <th>Training Level</th>\n",
       "      <th>Gender</th>\n",
       "      <th>Male</th>\n",
       "      <th>Female</th>\n",
       "      <th>FName</th>\n",
       "      <th>LName</th>\n",
       "    </tr>\n",
       "  </thead>\n",
       "  <tbody>\n",
       "    <tr>\n",
       "      <th>0</th>\n",
       "      <td>COS</td>\n",
       "      <td>3</td>\n",
       "      <td>2021</td>\n",
       "      <td>Brian Leonard</td>\n",
       "      <td>1</td>\n",
       "      <td>1</td>\n",
       "      <td>True</td>\n",
       "      <td>False</td>\n",
       "      <td>Brian</td>\n",
       "      <td>Leonard</td>\n",
       "    </tr>\n",
       "    <tr>\n",
       "      <th>1</th>\n",
       "      <td>COS</td>\n",
       "      <td>3</td>\n",
       "      <td>2020</td>\n",
       "      <td>Simon Holland</td>\n",
       "      <td>1</td>\n",
       "      <td>1</td>\n",
       "      <td>True</td>\n",
       "      <td>False</td>\n",
       "      <td>Simon</td>\n",
       "      <td>Holland</td>\n",
       "    </tr>\n",
       "    <tr>\n",
       "      <th>2</th>\n",
       "      <td>COS</td>\n",
       "      <td>3</td>\n",
       "      <td>2019</td>\n",
       "      <td>Helene Boisjoly</td>\n",
       "      <td>1</td>\n",
       "      <td>2</td>\n",
       "      <td>False</td>\n",
       "      <td>True</td>\n",
       "      <td>Helene</td>\n",
       "      <td>Boisjoly</td>\n",
       "    </tr>\n",
       "    <tr>\n",
       "      <th>3</th>\n",
       "      <td>COS</td>\n",
       "      <td>3</td>\n",
       "      <td>2018</td>\n",
       "      <td>Graham Trope</td>\n",
       "      <td>3</td>\n",
       "      <td>1</td>\n",
       "      <td>True</td>\n",
       "      <td>False</td>\n",
       "      <td>Graham</td>\n",
       "      <td>Trope</td>\n",
       "    </tr>\n",
       "    <tr>\n",
       "      <th>4</th>\n",
       "      <td>COS</td>\n",
       "      <td>3</td>\n",
       "      <td>2017</td>\n",
       "      <td>Seymour Brownstein</td>\n",
       "      <td>1</td>\n",
       "      <td>1</td>\n",
       "      <td>True</td>\n",
       "      <td>False</td>\n",
       "      <td>Seymour</td>\n",
       "      <td>Brownstein</td>\n",
       "    </tr>\n",
       "  </tbody>\n",
       "</table>\n",
       "</div>"
      ],
      "text/plain": [
       "  Society  Award Type  Year        Award Winner  Training Level  Gender  \\\n",
       "0     COS           3  2021       Brian Leonard               1       1   \n",
       "1     COS           3  2020       Simon Holland               1       1   \n",
       "2     COS           3  2019     Helene Boisjoly               1       2   \n",
       "3     COS           3  2018        Graham Trope               3       1   \n",
       "4     COS           3  2017  Seymour Brownstein               1       1   \n",
       "\n",
       "    Male  Female    FName       LName  \n",
       "0   True   False    Brian     Leonard  \n",
       "1   True   False    Simon     Holland  \n",
       "2  False    True   Helene    Boisjoly  \n",
       "3   True   False   Graham       Trope  \n",
       "4   True   False  Seymour  Brownstein  "
      ]
     },
     "execution_count": 60,
     "metadata": {},
     "output_type": "execute_result"
    }
   ],
   "source": [
    "def open_df(path, dropna=True):\n",
    "    df = pd.read_csv(path, delimiter=',', usecols=np.arange(0,6))\n",
    "    #df['Training Level'] = df['Training Level'].str.extract('(\\d+)')\n",
    "    df['Year'] = df['Year'].str.extract('(\\d+)').astype(int)\n",
    "    if dropna:\n",
    "        df = df.dropna()\n",
    "    df = df.replace(np.NaN, -1)\n",
    "    df['Training Level'] = df['Training Level'].values.astype(int)\n",
    "    df['Gender'] =df['Gender'].values.astype(int)\n",
    "    df['Male'] = df['Gender']==1\n",
    "    df['Female'] = df['Gender']==2\n",
    "    df['FName'] = df['Award Winner'].apply(lambda x: x.split(' ')[0])\n",
    "    df['LName'] = df['Award Winner'].apply(lambda x: x.split(' ')[1])\n",
    "    df['Society'][df['Society']=='Eye physicians and surgeons of Ontario'] = 'EPS'\n",
    "    df['Society'][df['Society']=='*COS'] = 'COS'\n",
    "    df[\"Training Level\"].replace({-1: 5}, inplace=True)\n",
    "    return df\n",
    "\n",
    "df = open_df('gender_data3.csv')\n",
    "df.head()"
   ]
  },
  {
   "cell_type": "markdown",
   "metadata": {},
   "source": [
    "# Open Predicted Gender Data"
   ]
  },
  {
   "cell_type": "code",
   "execution_count": 61,
   "metadata": {},
   "outputs": [
    {
     "name": "stderr",
     "output_type": "stream",
     "text": [
      "<ipython-input-61-09d2c9652ce0>:4: SettingWithCopyWarning: \n",
      "A value is trying to be set on a copy of a slice from a DataFrame\n",
      "\n",
      "See the caveats in the documentation: https://pandas.pydata.org/pandas-docs/stable/user_guide/indexing.html#returning-a-view-versus-a-copy\n",
      "  df['Society'][df['Society']=='Eye physicians and surgeons of Ontario'] = 'EPS'\n",
      "C:\\Users\\lukep\\anaconda3\\lib\\site-packages\\pandas\\core\\indexing.py:670: SettingWithCopyWarning: \n",
      "A value is trying to be set on a copy of a slice from a DataFrame\n",
      "\n",
      "See the caveats in the documentation: https://pandas.pydata.org/pandas-docs/stable/user_guide/indexing.html#returning-a-view-versus-a-copy\n",
      "  iloc._setitem_with_indexer(indexer, value)\n"
     ]
    }
   ],
   "source": [
    "df = pd.read_csv('gender_data_predicted.csv')\n",
    "df['Male_p'] = df['pred_genders'].values=='male'\n",
    "df['Female_p'] = df['pred_genders'].values=='female'\n",
    "df['Society'][df['Society']=='Eye physicians and surgeons of Ontario'] = 'EPS'\n",
    "#df[\"Training Level\"].replace({5: 1}, inplace=True)\n",
    "df[\"Training Level\"].replace({-1: 5}, inplace=True)\n",
    "df['Gender'].iloc[116] = 2\n",
    "df['Female'].iloc[116] = True"
   ]
  },
  {
   "cell_type": "code",
   "execution_count": 62,
   "metadata": {},
   "outputs": [],
   "source": [
    "training_dict = {1: 'MD', 2:'PhD', 3: 'MD/PhD', 4: 'Student', 5:'Unknown'}\n",
    "award_dict = {1: 'Educator', 2:'Leader', 3: 'Lifetime', 4: 'Research'}\n",
    "change_society = {'EPS': 'EPSO'}\n",
    "df[\"Training Level\"].replace(training_dict, inplace=True)\n",
    "df[\"Society\"].replace(change_society, inplace=True)\n",
    "df[\"Award Type\"].replace(award_dict, inplace=True)"
   ]
  },
  {
   "cell_type": "code",
   "execution_count": 63,
   "metadata": {},
   "outputs": [],
   "source": [
    "truths = df[df['Gender']!=-1]['Male'].values\n",
    "predicts = df[df['Gender']!=-1]['Male_p'].values"
   ]
  },
  {
   "cell_type": "code",
   "execution_count": 64,
   "metadata": {},
   "outputs": [
    {
     "data": {
      "text/plain": [
       "95.56650246305419"
      ]
     },
     "execution_count": 64,
     "metadata": {},
     "output_type": "execute_result"
    }
   ],
   "source": [
    "sum(truths==predicts)/len(truths) * 100"
   ]
  },
  {
   "cell_type": "code",
   "execution_count": 65,
   "metadata": {},
   "outputs": [
    {
     "data": {
      "text/html": [
       "<div>\n",
       "<style scoped>\n",
       "    .dataframe tbody tr th:only-of-type {\n",
       "        vertical-align: middle;\n",
       "    }\n",
       "\n",
       "    .dataframe tbody tr th {\n",
       "        vertical-align: top;\n",
       "    }\n",
       "\n",
       "    .dataframe thead th {\n",
       "        text-align: right;\n",
       "    }\n",
       "</style>\n",
       "<table border=\"1\" class=\"dataframe\">\n",
       "  <thead>\n",
       "    <tr style=\"text-align: right;\">\n",
       "      <th></th>\n",
       "      <th>Unnamed: 0</th>\n",
       "      <th>Society</th>\n",
       "      <th>Award Type</th>\n",
       "      <th>Year</th>\n",
       "      <th>Award Winner</th>\n",
       "      <th>Training Level</th>\n",
       "      <th>Gender</th>\n",
       "      <th>Male</th>\n",
       "      <th>Female</th>\n",
       "      <th>FName</th>\n",
       "      <th>LName</th>\n",
       "      <th>pred_genders</th>\n",
       "      <th>Male_p</th>\n",
       "      <th>Female_p</th>\n",
       "    </tr>\n",
       "  </thead>\n",
       "  <tbody>\n",
       "    <tr>\n",
       "      <th>0</th>\n",
       "      <td>0</td>\n",
       "      <td>COS</td>\n",
       "      <td>Lifetime</td>\n",
       "      <td>2021</td>\n",
       "      <td>Brian Leonard</td>\n",
       "      <td>MD</td>\n",
       "      <td>1</td>\n",
       "      <td>True</td>\n",
       "      <td>False</td>\n",
       "      <td>Brian</td>\n",
       "      <td>Leonard</td>\n",
       "      <td>male</td>\n",
       "      <td>True</td>\n",
       "      <td>False</td>\n",
       "    </tr>\n",
       "    <tr>\n",
       "      <th>1</th>\n",
       "      <td>1</td>\n",
       "      <td>COS</td>\n",
       "      <td>Lifetime</td>\n",
       "      <td>2020</td>\n",
       "      <td>Simon Holland</td>\n",
       "      <td>MD</td>\n",
       "      <td>1</td>\n",
       "      <td>True</td>\n",
       "      <td>False</td>\n",
       "      <td>Simon</td>\n",
       "      <td>Holland</td>\n",
       "      <td>male</td>\n",
       "      <td>True</td>\n",
       "      <td>False</td>\n",
       "    </tr>\n",
       "    <tr>\n",
       "      <th>2</th>\n",
       "      <td>2</td>\n",
       "      <td>COS</td>\n",
       "      <td>Lifetime</td>\n",
       "      <td>2019</td>\n",
       "      <td>Helene Boisjoly</td>\n",
       "      <td>MD</td>\n",
       "      <td>2</td>\n",
       "      <td>False</td>\n",
       "      <td>True</td>\n",
       "      <td>Helene</td>\n",
       "      <td>Boisjoly</td>\n",
       "      <td>female</td>\n",
       "      <td>False</td>\n",
       "      <td>True</td>\n",
       "    </tr>\n",
       "    <tr>\n",
       "      <th>3</th>\n",
       "      <td>3</td>\n",
       "      <td>COS</td>\n",
       "      <td>Lifetime</td>\n",
       "      <td>2018</td>\n",
       "      <td>Graham Trope</td>\n",
       "      <td>MD/PhD</td>\n",
       "      <td>1</td>\n",
       "      <td>True</td>\n",
       "      <td>False</td>\n",
       "      <td>Graham</td>\n",
       "      <td>Trope</td>\n",
       "      <td>male</td>\n",
       "      <td>True</td>\n",
       "      <td>False</td>\n",
       "    </tr>\n",
       "    <tr>\n",
       "      <th>4</th>\n",
       "      <td>4</td>\n",
       "      <td>COS</td>\n",
       "      <td>Lifetime</td>\n",
       "      <td>2017</td>\n",
       "      <td>Seymour Brownstein</td>\n",
       "      <td>MD</td>\n",
       "      <td>1</td>\n",
       "      <td>True</td>\n",
       "      <td>False</td>\n",
       "      <td>Seymour</td>\n",
       "      <td>Brownstein</td>\n",
       "      <td>male</td>\n",
       "      <td>True</td>\n",
       "      <td>False</td>\n",
       "    </tr>\n",
       "  </tbody>\n",
       "</table>\n",
       "</div>"
      ],
      "text/plain": [
       "   Unnamed: 0 Society Award Type  Year        Award Winner Training Level  \\\n",
       "0           0     COS   Lifetime  2021       Brian Leonard             MD   \n",
       "1           1     COS   Lifetime  2020       Simon Holland             MD   \n",
       "2           2     COS   Lifetime  2019     Helene Boisjoly             MD   \n",
       "3           3     COS   Lifetime  2018        Graham Trope         MD/PhD   \n",
       "4           4     COS   Lifetime  2017  Seymour Brownstein             MD   \n",
       "\n",
       "   Gender   Male  Female    FName       LName pred_genders  Male_p  Female_p  \n",
       "0       1   True   False    Brian     Leonard         male    True     False  \n",
       "1       1   True   False    Simon     Holland         male    True     False  \n",
       "2       2  False    True   Helene    Boisjoly       female   False      True  \n",
       "3       1   True   False   Graham       Trope         male    True     False  \n",
       "4       1   True   False  Seymour  Brownstein         male    True     False  "
      ]
     },
     "execution_count": 65,
     "metadata": {},
     "output_type": "execute_result"
    }
   ],
   "source": [
    "df.head()"
   ]
  },
  {
   "cell_type": "code",
   "execution_count": 66,
   "metadata": {},
   "outputs": [
    {
     "name": "stderr",
     "output_type": "stream",
     "text": [
      "<ipython-input-66-2fb68800400b>:1: SettingWithCopyWarning: \n",
      "A value is trying to be set on a copy of a slice from a DataFrame\n",
      "\n",
      "See the caveats in the documentation: https://pandas.pydata.org/pandas-docs/stable/user_guide/indexing.html#returning-a-view-versus-a-copy\n",
      "  df['Male'][df['Gender']==-1] = df['Male_p'][df['Gender']==-1]\n",
      "<ipython-input-66-2fb68800400b>:2: SettingWithCopyWarning: \n",
      "A value is trying to be set on a copy of a slice from a DataFrame\n",
      "\n",
      "See the caveats in the documentation: https://pandas.pydata.org/pandas-docs/stable/user_guide/indexing.html#returning-a-view-versus-a-copy\n",
      "  df['Female'][df['Gender']==-1] = df['Female_p'][df['Gender']==-1]\n"
     ]
    }
   ],
   "source": [
    "df['Male'][df['Gender']==-1] = df['Male_p'][df['Gender']==-1]\n",
    "df['Female'][df['Gender']==-1] = df['Female_p'][df['Gender']==-1]\n",
    "df['Male'] = df['Male'].astype(bool)\n",
    "df['Female'] = df['Female'].astype(bool)"
   ]
  },
  {
   "cell_type": "markdown",
   "metadata": {},
   "source": [
    "Validate gender predictions on the known data."
   ]
  },
  {
   "cell_type": "code",
   "execution_count": 67,
   "metadata": {},
   "outputs": [
    {
     "name": "stderr",
     "output_type": "stream",
     "text": [
      "<ipython-input-67-7b1aec9f79fc>:4: SettingWithCopyWarning: \n",
      "A value is trying to be set on a copy of a slice from a DataFrame.\n",
      "Try using .loc[row_indexer,col_indexer] = value instead\n",
      "\n",
      "See the caveats in the documentation: https://pandas.pydata.org/pandas-docs/stable/user_guide/indexing.html#returning-a-view-versus-a-copy\n",
      "  df_vg['corr_pred'] = corr_pred\n"
     ]
    },
    {
     "data": {
      "text/plain": [
       "0.9556650246305419"
      ]
     },
     "execution_count": 67,
     "metadata": {},
     "output_type": "execute_result"
    }
   ],
   "source": [
    "#\"Validate Genders\"\n",
    "df_vg = df[df['Gender']!=-1]\n",
    "corr_pred = df_vg['Male'].values==df_vg['Male_p'].values\n",
    "df_vg['corr_pred'] = corr_pred\n",
    "falses = df_vg[df_vg['corr_pred']==False].shape[0]\n",
    "trues = df_vg[df_vg['corr_pred']==True].shape[0]\n",
    "accuracy = trues/(trues+falses)\n",
    "accuracy"
   ]
  },
  {
   "cell_type": "markdown",
   "metadata": {},
   "source": [
    "# Stuff Asked"
   ]
  },
  {
   "cell_type": "markdown",
   "metadata": {},
   "source": [
    "## Total Number of Award Recipients"
   ]
  },
  {
   "cell_type": "code",
   "execution_count": 74,
   "metadata": {},
   "outputs": [
    {
     "data": {
      "text/plain": [
       "34"
      ]
     },
     "execution_count": 74,
     "metadata": {},
     "output_type": "execute_result"
    }
   ],
   "source": [
    "sum((df.Society=='CGS').values)"
   ]
  },
  {
   "cell_type": "code",
   "execution_count": 13,
   "metadata": {},
   "outputs": [
    {
     "data": {
      "text/plain": [
       "225"
      ]
     },
     "execution_count": 13,
     "metadata": {},
     "output_type": "execute_result"
    }
   ],
   "source": [
    "df['Award Winner'].size"
   ]
  },
  {
   "cell_type": "code",
   "execution_count": 14,
   "metadata": {},
   "outputs": [
    {
     "data": {
      "text/plain": [
       "22"
      ]
     },
     "execution_count": 14,
     "metadata": {},
     "output_type": "execute_result"
    }
   ],
   "source": [
    "df[df['Gender']==-1].shape[0]"
   ]
  },
  {
   "cell_type": "code",
   "execution_count": 15,
   "metadata": {},
   "outputs": [
    {
     "data": {
      "text/plain": [
       "0      1\n",
       "1      1\n",
       "2      2\n",
       "3      1\n",
       "4      1\n",
       "      ..\n",
       "220    1\n",
       "221    1\n",
       "222    1\n",
       "223    1\n",
       "224    1\n",
       "Name: Gender, Length: 225, dtype: int64"
      ]
     },
     "execution_count": 15,
     "metadata": {},
     "output_type": "execute_result"
    }
   ],
   "source": [
    "df['Gender']"
   ]
  },
  {
   "cell_type": "markdown",
   "metadata": {},
   "source": [
    "## Total Number of Males/Females"
   ]
  },
  {
   "cell_type": "code",
   "execution_count": 16,
   "metadata": {},
   "outputs": [
    {
     "name": "stdout",
     "output_type": "stream",
     "text": [
      "Men 161 \n",
      "Women 64 \n"
     ]
    }
   ],
   "source": [
    "print(f\"Men {df[df['Male']==True].shape[0]} \")\n",
    "print(f\"Women {df[df['Female']==True].shape[0]} \")"
   ]
  },
  {
   "cell_type": "code",
   "execution_count": 17,
   "metadata": {},
   "outputs": [
    {
     "data": {
      "image/png": "[encoded data removed]",
      "text/plain": [
       "<Figure size 576x396 with 1 Axes>"
      ]
     },
     "metadata": {},
     "output_type": "display_data"
    }
   ],
   "source": [
    "fig = plt.figure()\n",
    "ax = fig.add_axes([0,0,1,1])\n",
    "ax.axis('equal')\n",
    "labels = ['Men', 'Women']\n",
    "numbers = [df[df['Male']==True].shape[0], df[df['Female']==True].shape[0]]\n",
    "patches, texts, autotexts = ax.pie(numbers, colors=['grey', 'cyan'], autopct='%1.1f%%', radius=1)\n",
    "[text.set_fontsize(20) for text in texts]\n",
    "[autotext.set_fontsize(20) for autotext in autotexts]\n",
    "plt.legend(labels = ['Men', 'Women'], fontsize=20)\n",
    "plt.savefig('plots/pie_plot.png', dpi=200)\n",
    "plt.show()"
   ]
  },
  {
   "cell_type": "markdown",
   "metadata": {},
   "source": [
    "## Award Count"
   ]
  },
  {
   "cell_type": "code",
   "execution_count": 18,
   "metadata": {},
   "outputs": [
    {
     "name": "stdout",
     "output_type": "stream",
     "text": [
      "People with one award 162 \n",
      "People with two awards 27 \n",
      "People with three or more awards 3 \n",
      "Men with one award 113 \n",
      "Men with two awards 21 \n",
      "Men with three or more awards 2 \n",
      "Women with one award 49 \n",
      "Women with two awards 6 \n",
      "Women with three or more awards 1 \n",
      "Maximum Number Awards by man 3\n",
      "Maximum Number Awards by woman 3\n"
     ]
    }
   ],
   "source": [
    "num_awards = df.groupby('Award Winner').size()\n",
    "print(f\"People with one award {num_awards[num_awards==1].shape[0]} \")\n",
    "print(f\"People with two awards {num_awards[num_awards==2].shape[0]} \")\n",
    "print(f\"People with three or more awards {num_awards[num_awards>=3].shape[0]} \")\n",
    "num_awards_men = df[df['Male']==True].groupby('Award Winner').size()\n",
    "print(f\"Men with one award {num_awards_men[num_awards_men==1].shape[0]} \")\n",
    "print(f\"Men with two awards {num_awards_men[num_awards_men==2].shape[0]} \")\n",
    "print(f\"Men with three or more awards {num_awards_men[num_awards_men>=3].shape[0]} \")\n",
    "num_awards_women = df[df['Female']==True].groupby('Award Winner').size()\n",
    "print(f\"Women with one award {num_awards_women[num_awards_women==1].shape[0]} \")\n",
    "print(f\"Women with two awards {num_awards_women[num_awards_women==2].shape[0]} \")\n",
    "print(f\"Women with three or more awards {num_awards_women[num_awards_women>=3].shape[0]} \")\n",
    "##\n",
    "print(f\"Maximum Number Awards by man {num_awards_men.max()}\")\n",
    "print(f\"Maximum Number Awards by woman {num_awards_women.max()}\")"
   ]
  },
  {
   "cell_type": "code",
   "execution_count": 19,
   "metadata": {},
   "outputs": [
    {
     "data": {
      "text/html": [
       "<div>\n",
       "<style scoped>\n",
       "    .dataframe tbody tr th:only-of-type {\n",
       "        vertical-align: middle;\n",
       "    }\n",
       "\n",
       "    .dataframe tbody tr th {\n",
       "        vertical-align: top;\n",
       "    }\n",
       "\n",
       "    .dataframe thead th {\n",
       "        text-align: right;\n",
       "    }\n",
       "</style>\n",
       "<table border=\"1\" class=\"dataframe\">\n",
       "  <thead>\n",
       "    <tr style=\"text-align: right;\">\n",
       "      <th></th>\n",
       "      <th>Unnamed: 0</th>\n",
       "      <th>Society</th>\n",
       "      <th>Award Type</th>\n",
       "      <th>Year</th>\n",
       "      <th>Award Winner</th>\n",
       "      <th>Training Level</th>\n",
       "      <th>Gender</th>\n",
       "      <th>Male</th>\n",
       "      <th>Female</th>\n",
       "      <th>FName</th>\n",
       "      <th>LName</th>\n",
       "      <th>pred_genders</th>\n",
       "      <th>Male_p</th>\n",
       "      <th>Female_p</th>\n",
       "    </tr>\n",
       "  </thead>\n",
       "  <tbody>\n",
       "    <tr>\n",
       "      <th>0</th>\n",
       "      <td>0</td>\n",
       "      <td>COS</td>\n",
       "      <td>Lifetime</td>\n",
       "      <td>2021</td>\n",
       "      <td>Brian Leonard</td>\n",
       "      <td>MD</td>\n",
       "      <td>1</td>\n",
       "      <td>True</td>\n",
       "      <td>False</td>\n",
       "      <td>Brian</td>\n",
       "      <td>Leonard</td>\n",
       "      <td>male</td>\n",
       "      <td>True</td>\n",
       "      <td>False</td>\n",
       "    </tr>\n",
       "    <tr>\n",
       "      <th>1</th>\n",
       "      <td>1</td>\n",
       "      <td>COS</td>\n",
       "      <td>Lifetime</td>\n",
       "      <td>2020</td>\n",
       "      <td>Simon Holland</td>\n",
       "      <td>MD</td>\n",
       "      <td>1</td>\n",
       "      <td>True</td>\n",
       "      <td>False</td>\n",
       "      <td>Simon</td>\n",
       "      <td>Holland</td>\n",
       "      <td>male</td>\n",
       "      <td>True</td>\n",
       "      <td>False</td>\n",
       "    </tr>\n",
       "    <tr>\n",
       "      <th>2</th>\n",
       "      <td>2</td>\n",
       "      <td>COS</td>\n",
       "      <td>Lifetime</td>\n",
       "      <td>2019</td>\n",
       "      <td>Helene Boisjoly</td>\n",
       "      <td>MD</td>\n",
       "      <td>2</td>\n",
       "      <td>False</td>\n",
       "      <td>True</td>\n",
       "      <td>Helene</td>\n",
       "      <td>Boisjoly</td>\n",
       "      <td>female</td>\n",
       "      <td>False</td>\n",
       "      <td>True</td>\n",
       "    </tr>\n",
       "    <tr>\n",
       "      <th>3</th>\n",
       "      <td>3</td>\n",
       "      <td>COS</td>\n",
       "      <td>Lifetime</td>\n",
       "      <td>2018</td>\n",
       "      <td>Graham Trope</td>\n",
       "      <td>MD/PhD</td>\n",
       "      <td>1</td>\n",
       "      <td>True</td>\n",
       "      <td>False</td>\n",
       "      <td>Graham</td>\n",
       "      <td>Trope</td>\n",
       "      <td>male</td>\n",
       "      <td>True</td>\n",
       "      <td>False</td>\n",
       "    </tr>\n",
       "    <tr>\n",
       "      <th>4</th>\n",
       "      <td>4</td>\n",
       "      <td>COS</td>\n",
       "      <td>Lifetime</td>\n",
       "      <td>2017</td>\n",
       "      <td>Seymour Brownstein</td>\n",
       "      <td>MD</td>\n",
       "      <td>1</td>\n",
       "      <td>True</td>\n",
       "      <td>False</td>\n",
       "      <td>Seymour</td>\n",
       "      <td>Brownstein</td>\n",
       "      <td>male</td>\n",
       "      <td>True</td>\n",
       "      <td>False</td>\n",
       "    </tr>\n",
       "    <tr>\n",
       "      <th>...</th>\n",
       "      <td>...</td>\n",
       "      <td>...</td>\n",
       "      <td>...</td>\n",
       "      <td>...</td>\n",
       "      <td>...</td>\n",
       "      <td>...</td>\n",
       "      <td>...</td>\n",
       "      <td>...</td>\n",
       "      <td>...</td>\n",
       "      <td>...</td>\n",
       "      <td>...</td>\n",
       "      <td>...</td>\n",
       "      <td>...</td>\n",
       "      <td>...</td>\n",
       "    </tr>\n",
       "    <tr>\n",
       "      <th>220</th>\n",
       "      <td>220</td>\n",
       "      <td>EPSO</td>\n",
       "      <td>Lifetime</td>\n",
       "      <td>2013</td>\n",
       "      <td>Jeff Sher</td>\n",
       "      <td>MD</td>\n",
       "      <td>1</td>\n",
       "      <td>True</td>\n",
       "      <td>False</td>\n",
       "      <td>Jeff</td>\n",
       "      <td>Sher</td>\n",
       "      <td>male</td>\n",
       "      <td>True</td>\n",
       "      <td>False</td>\n",
       "    </tr>\n",
       "    <tr>\n",
       "      <th>221</th>\n",
       "      <td>221</td>\n",
       "      <td>EPSO</td>\n",
       "      <td>Lifetime</td>\n",
       "      <td>2012</td>\n",
       "      <td>Jeff Hurwitz</td>\n",
       "      <td>MD</td>\n",
       "      <td>1</td>\n",
       "      <td>True</td>\n",
       "      <td>False</td>\n",
       "      <td>Jeff</td>\n",
       "      <td>Hurwitz</td>\n",
       "      <td>male</td>\n",
       "      <td>True</td>\n",
       "      <td>False</td>\n",
       "    </tr>\n",
       "    <tr>\n",
       "      <th>222</th>\n",
       "      <td>222</td>\n",
       "      <td>EPSO</td>\n",
       "      <td>Lifetime</td>\n",
       "      <td>2011</td>\n",
       "      <td>John Fowler</td>\n",
       "      <td>MD</td>\n",
       "      <td>1</td>\n",
       "      <td>True</td>\n",
       "      <td>False</td>\n",
       "      <td>John</td>\n",
       "      <td>Fowler</td>\n",
       "      <td>male</td>\n",
       "      <td>True</td>\n",
       "      <td>False</td>\n",
       "    </tr>\n",
       "    <tr>\n",
       "      <th>223</th>\n",
       "      <td>223</td>\n",
       "      <td>EPSO</td>\n",
       "      <td>Educator</td>\n",
       "      <td>2017</td>\n",
       "      <td>John Fowler</td>\n",
       "      <td>MD</td>\n",
       "      <td>1</td>\n",
       "      <td>True</td>\n",
       "      <td>False</td>\n",
       "      <td>John</td>\n",
       "      <td>Fowler</td>\n",
       "      <td>male</td>\n",
       "      <td>True</td>\n",
       "      <td>False</td>\n",
       "    </tr>\n",
       "    <tr>\n",
       "      <th>224</th>\n",
       "      <td>224</td>\n",
       "      <td>EPSO</td>\n",
       "      <td>Lifetime</td>\n",
       "      <td>2019</td>\n",
       "      <td>Kylen McReelis</td>\n",
       "      <td>MD</td>\n",
       "      <td>1</td>\n",
       "      <td>True</td>\n",
       "      <td>False</td>\n",
       "      <td>Kylen</td>\n",
       "      <td>McReelis</td>\n",
       "      <td>male</td>\n",
       "      <td>True</td>\n",
       "      <td>False</td>\n",
       "    </tr>\n",
       "  </tbody>\n",
       "</table>\n",
       "<p>225 rows × 14 columns</p>\n",
       "</div>"
      ],
      "text/plain": [
       "     Unnamed: 0 Society Award Type  Year        Award Winner Training Level  \\\n",
       "0             0     COS   Lifetime  2021       Brian Leonard             MD   \n",
       "1             1     COS   Lifetime  2020       Simon Holland             MD   \n",
       "2             2     COS   Lifetime  2019     Helene Boisjoly             MD   \n",
       "3             3     COS   Lifetime  2018        Graham Trope         MD/PhD   \n",
       "4             4     COS   Lifetime  2017  Seymour Brownstein             MD   \n",
       "..          ...     ...        ...   ...                 ...            ...   \n",
       "220         220    EPSO   Lifetime  2013           Jeff Sher             MD   \n",
       "221         221    EPSO   Lifetime  2012        Jeff Hurwitz             MD   \n",
       "222         222    EPSO   Lifetime  2011         John Fowler             MD   \n",
       "223         223    EPSO   Educator  2017         John Fowler             MD   \n",
       "224         224    EPSO   Lifetime  2019      Kylen McReelis             MD   \n",
       "\n",
       "     Gender   Male  Female    FName       LName pred_genders  Male_p  Female_p  \n",
       "0         1   True   False    Brian     Leonard         male    True     False  \n",
       "1         1   True   False    Simon     Holland         male    True     False  \n",
       "2         2  False    True   Helene    Boisjoly       female   False      True  \n",
       "3         1   True   False   Graham       Trope         male    True     False  \n",
       "4         1   True   False  Seymour  Brownstein         male    True     False  \n",
       "..      ...    ...     ...      ...         ...          ...     ...       ...  \n",
       "220       1   True   False     Jeff        Sher         male    True     False  \n",
       "221       1   True   False     Jeff     Hurwitz         male    True     False  \n",
       "222       1   True   False     John      Fowler         male    True     False  \n",
       "223       1   True   False     John      Fowler         male    True     False  \n",
       "224       1   True   False    Kylen    McReelis         male    True     False  \n",
       "\n",
       "[225 rows x 14 columns]"
      ]
     },
     "execution_count": 19,
     "metadata": {},
     "output_type": "execute_result"
    }
   ],
   "source": [
    "df"
   ]
  },
  {
   "cell_type": "markdown",
   "metadata": {},
   "source": [
    "## Number of People in Different Societies"
   ]
  },
  {
   "cell_type": "code",
   "execution_count": 20,
   "metadata": {},
   "outputs": [],
   "source": [
    "annotate = True"
   ]
  },
  {
   "cell_type": "code",
   "execution_count": 21,
   "metadata": {},
   "outputs": [],
   "source": [
    "award_cnt_label = 'Number of Award Recipients'"
   ]
  },
  {
   "cell_type": "code",
   "execution_count": 22,
   "metadata": {},
   "outputs": [
    {
     "data": {
      "text/html": [
       "<div>\n",
       "<style scoped>\n",
       "    .dataframe tbody tr th:only-of-type {\n",
       "        vertical-align: middle;\n",
       "    }\n",
       "\n",
       "    .dataframe tbody tr th {\n",
       "        vertical-align: top;\n",
       "    }\n",
       "\n",
       "    .dataframe thead th {\n",
       "        text-align: right;\n",
       "    }\n",
       "</style>\n",
       "<table border=\"1\" class=\"dataframe\">\n",
       "  <thead>\n",
       "    <tr style=\"text-align: right;\">\n",
       "      <th></th>\n",
       "      <th></th>\n",
       "      <th>Male</th>\n",
       "      <th>Female</th>\n",
       "    </tr>\n",
       "    <tr>\n",
       "      <th>Society</th>\n",
       "      <th>Award Type</th>\n",
       "      <th></th>\n",
       "      <th></th>\n",
       "    </tr>\n",
       "  </thead>\n",
       "  <tbody>\n",
       "    <tr>\n",
       "      <th rowspan=\"2\" valign=\"top\">CGS</th>\n",
       "      <th>Lifetime</th>\n",
       "      <td>2</td>\n",
       "      <td>0</td>\n",
       "    </tr>\n",
       "    <tr>\n",
       "      <th>Research</th>\n",
       "      <td>22</td>\n",
       "      <td>10</td>\n",
       "    </tr>\n",
       "    <tr>\n",
       "      <th rowspan=\"2\" valign=\"top\">COS</th>\n",
       "      <th>Lifetime</th>\n",
       "      <td>19</td>\n",
       "      <td>2</td>\n",
       "    </tr>\n",
       "    <tr>\n",
       "      <th>Research</th>\n",
       "      <td>99</td>\n",
       "      <td>50</td>\n",
       "    </tr>\n",
       "    <tr>\n",
       "      <th rowspan=\"3\" valign=\"top\">EPSO</th>\n",
       "      <th>Educator</th>\n",
       "      <td>1</td>\n",
       "      <td>0</td>\n",
       "    </tr>\n",
       "    <tr>\n",
       "      <th>Leader</th>\n",
       "      <td>8</td>\n",
       "      <td>1</td>\n",
       "    </tr>\n",
       "    <tr>\n",
       "      <th>Lifetime</th>\n",
       "      <td>10</td>\n",
       "      <td>1</td>\n",
       "    </tr>\n",
       "  </tbody>\n",
       "</table>\n",
       "</div>"
      ],
      "text/plain": [
       "                    Male  Female\n",
       "Society Award Type              \n",
       "CGS     Lifetime       2       0\n",
       "        Research      22      10\n",
       "COS     Lifetime      19       2\n",
       "        Research      99      50\n",
       "EPSO    Educator       1       0\n",
       "        Leader         8       1\n",
       "        Lifetime      10       1"
      ]
     },
     "execution_count": 22,
     "metadata": {},
     "output_type": "execute_result"
    }
   ],
   "source": [
    "df.groupby(['Society', 'Award Type']).sum()[['Male', 'Female']]"
   ]
  },
  {
   "cell_type": "code",
   "execution_count": 23,
   "metadata": {},
   "outputs": [
    {
     "data": {
      "image/png": "[encoded data removed]",
      "text/plain": [
       "<Figure size 504x216 with 1 Axes>"
      ]
     },
     "metadata": {},
     "output_type": "display_data"
    }
   ],
   "source": [
    "letter_counts = Counter(df['Society'].values)\n",
    "letter_counts_m = Counter(df[df['Male']==True].Society.values)\n",
    "letter_counts_w = Counter(df[df['Female']==True].Society.values)\n",
    "_m = pd.DataFrame.from_dict(letter_counts_m, orient='index')\n",
    "_w = pd.DataFrame.from_dict(letter_counts_w, orient='index')\n",
    "_ = pd.concat({'Men': _m, 'Women':_w},\n",
    "               axis = 1)\n",
    "\n",
    "fig, ax = plt.subplots(1, 1, figsize=(7,3))\n",
    "#_.plot(kind='bar', ax=ax[0], legend=None, ec='black')\n",
    "_.plot(kind='bar', ax=ax, color=['k', 'cyan'], ec='black', rot=0)\n",
    "#_m.plot(kind='bar', ax=ax, ec='black', color='grey', label='men', rot=0)\n",
    "ax.set_ylabel(award_cnt_label)\n",
    "#ax.set_title('Sex of Award Winners From Different Societies')\n",
    "ax.legend(['Men', 'Women'], fontsize=15)\n",
    "ax.set_xlabel('Opthamological Society')\n",
    "if annotate: annotate_bars(ax)\n",
    "fig.tight_layout()\n",
    "plt.savefig('plots/plot1.png', dpi=200)\n",
    "plt.show()"
   ]
  },
  {
   "cell_type": "code",
   "execution_count": 24,
   "metadata": {},
   "outputs": [
    {
     "data": {
      "text/html": [
       "<div>\n",
       "<style scoped>\n",
       "    .dataframe tbody tr th:only-of-type {\n",
       "        vertical-align: middle;\n",
       "    }\n",
       "\n",
       "    .dataframe tbody tr th {\n",
       "        vertical-align: top;\n",
       "    }\n",
       "\n",
       "    .dataframe thead th {\n",
       "        text-align: right;\n",
       "    }\n",
       "</style>\n",
       "<table border=\"1\" class=\"dataframe\">\n",
       "  <thead>\n",
       "    <tr style=\"text-align: right;\">\n",
       "      <th></th>\n",
       "      <th>Male</th>\n",
       "      <th>Female</th>\n",
       "    </tr>\n",
       "    <tr>\n",
       "      <th>Society</th>\n",
       "      <th></th>\n",
       "      <th></th>\n",
       "    </tr>\n",
       "  </thead>\n",
       "  <tbody>\n",
       "    <tr>\n",
       "      <th>CGS</th>\n",
       "      <td>24</td>\n",
       "      <td>10</td>\n",
       "    </tr>\n",
       "    <tr>\n",
       "      <th>COS</th>\n",
       "      <td>118</td>\n",
       "      <td>52</td>\n",
       "    </tr>\n",
       "    <tr>\n",
       "      <th>EPSO</th>\n",
       "      <td>19</td>\n",
       "      <td>2</td>\n",
       "    </tr>\n",
       "  </tbody>\n",
       "</table>\n",
       "</div>"
      ],
      "text/plain": [
       "         Male  Female\n",
       "Society              \n",
       "CGS        24      10\n",
       "COS       118      52\n",
       "EPSO       19       2"
      ]
     },
     "execution_count": 24,
     "metadata": {},
     "output_type": "execute_result"
    }
   ],
   "source": [
    "dfmw = df.groupby('Society').sum()[['Male', 'Female']].iloc[0:]\n",
    "dfmw"
   ]
  },
  {
   "cell_type": "markdown",
   "metadata": {},
   "source": [
    "## Award Levels"
   ]
  },
  {
   "cell_type": "code",
   "execution_count": 25,
   "metadata": {},
   "outputs": [],
   "source": [
    "dfmw = df.groupby('Award Type').sum()[['Male', 'Female']].iloc[0:]\n",
    "dfmw_tot = dfmw['Male'] + dfmw['Female']"
   ]
  },
  {
   "cell_type": "code",
   "execution_count": 26,
   "metadata": {},
   "outputs": [
    {
     "data": {
      "image/png": "[encoded data removed]",
      "text/plain": [
       "<Figure size 504x216 with 1 Axes>"
      ]
     },
     "metadata": {},
     "output_type": "display_data"
    }
   ],
   "source": [
    "fig, ax = plt.subplots(1, 1, figsize=(7,3))\n",
    "dfmw.plot(kind='bar', ax=ax, color=['k','cyan'], ec='black', rot=0)\n",
    "ax.set_ylabel(award_cnt_label, fontsize=8)\n",
    "#ax.set_title('Sex of Award Winners At Each Award Type')\n",
    "if annotate: annotate_bars(ax)\n",
    "ax.legend(['Men', 'Women'], fontsize=15)\n",
    "if annotate: annotate_bars(ax)\n",
    "fig.tight_layout()\n",
    "plt.savefig('plots/plot2.png', dpi=200)\n",
    "plt.show()"
   ]
  },
  {
   "cell_type": "code",
   "execution_count": 27,
   "metadata": {},
   "outputs": [],
   "source": [
    "dfmw = df.groupby(['Award Type', 'Society']).sum().unstack(fill_value=0).stack()[['Male', 'Female']].iloc[0:].reset_index()"
   ]
  },
  {
   "cell_type": "code",
   "execution_count": 28,
   "metadata": {},
   "outputs": [
    {
     "data": {
      "image/png": "[encoded data removed]",
      "text/plain": [
       "<Figure size 720x216 with 3 Axes>"
      ]
     },
     "metadata": {},
     "output_type": "display_data"
    }
   ],
   "source": [
    "fig, ax = plt.subplots(1, 3, figsize=(10,3))\n",
    "dfmw[dfmw['Society']=='CGS'].set_index('Award Type').plot(kind='bar', ax=ax[0], color=['k', 'cyan'], ec='black', rot=0)\n",
    "dfmw[dfmw['Society']=='COS'].set_index('Award Type').plot(kind='bar', ax=ax[1], color=['k', 'cyan'], ec='black', rot=0, legend=None)\n",
    "dfmw[dfmw['Society']=='EPSO'].set_index('Award Type').plot(kind='bar', ax=ax[2], color=['k', 'cyan'], ec='black', rot=0, legend=None)\n",
    "ax[0].set_title('CGS')\n",
    "ax[1].set_title('COS')\n",
    "ax[2].set_title('EPSO')\n",
    "ax[0].set_ylabel(award_cnt_label)\n",
    "[a.set_ylim(top=110) for a in ax]\n",
    "fig.tight_layout()\n",
    "if annotate: [annotate_bars(a) for a in ax]\n",
    "ax[0].legend(['Women', 'Men'], fontsize=15)\n",
    "fig.tight_layout()\n",
    "plt.savefig('plots/plot4.png', dpi=200)\n",
    "plt.show()"
   ]
  },
  {
   "cell_type": "markdown",
   "metadata": {},
   "source": [
    "## Number of Awards that don't specify training level"
   ]
  },
  {
   "cell_type": "code",
   "execution_count": 29,
   "metadata": {},
   "outputs": [
    {
     "data": {
      "text/plain": [
       "0"
      ]
     },
     "execution_count": 29,
     "metadata": {},
     "output_type": "execute_result"
    }
   ],
   "source": [
    "df[df['Training Level']==-1].shape[0]"
   ]
  },
  {
   "cell_type": "markdown",
   "metadata": {},
   "source": [
    "## Training Levels"
   ]
  },
  {
   "cell_type": "markdown",
   "metadata": {},
   "source": [
    "Number of men and women in each training level"
   ]
  },
  {
   "cell_type": "code",
   "execution_count": 30,
   "metadata": {},
   "outputs": [],
   "source": [
    "dfmw = df.groupby('Training Level').sum()[['Male', 'Female']].iloc[0:]"
   ]
  },
  {
   "cell_type": "code",
   "execution_count": 31,
   "metadata": {},
   "outputs": [
    {
     "data": {
      "image/png": "[encoded data removed]",
      "text/plain": [
       "<Figure size 432x216 with 1 Axes>"
      ]
     },
     "metadata": {},
     "output_type": "display_data"
    }
   ],
   "source": [
    "fig, ax = plt.subplots(1, 1, figsize=(6,3))\n",
    "#dfmw_tot.plot(kind='bar', ax=ax, color='cyan', ec='black', rot=0)\n",
    "dfmw.plot(kind='bar', ax=ax, color=['k','cyan'], ec='black', rot=0)\n",
    "ax.set_ylabel(award_cnt_label)\n",
    "#ax.set_title('Sex of Award Winners At Each Award Type')\n",
    "if annotate: annotate_bars(ax)\n",
    "ax.legend(['Men', 'Women'], fontsize=15)\n",
    "fig.tight_layout()\n",
    "plt.savefig('plots/plot3.png', dpi=200)\n",
    "plt.show()"
   ]
  },
  {
   "cell_type": "markdown",
   "metadata": {},
   "source": [
    "Training Level in All different Societies"
   ]
  },
  {
   "cell_type": "code",
   "execution_count": 32,
   "metadata": {},
   "outputs": [],
   "source": [
    "dfmw = df.groupby(['Training Level', 'Society']).sum().unstack(fill_value=0).stack()[['Male', 'Female']].iloc[0:]\n",
    "dfmw = dfmw.reindex(axis='index', level=0, labels=[\"Student\", \"MD\", \"PhD\", \"MD/PhD\", \"Unknown\"]).reset_index()"
   ]
  },
  {
   "cell_type": "code",
   "execution_count": 33,
   "metadata": {},
   "outputs": [],
   "source": [
    "from itertools import cycle, islice"
   ]
  },
  {
   "cell_type": "code",
   "execution_count": 34,
   "metadata": {},
   "outputs": [
    {
     "data": {
      "image/png": "[encoded data removed]",
      "text/plain": [
       "<Figure size 864x216 with 3 Axes>"
      ]
     },
     "metadata": {},
     "output_type": "display_data"
    }
   ],
   "source": [
    "fig, ax = plt.subplots(1, 3, figsize=(12,3))\n",
    "my_colors = list(islice(cycle(['k', 'cyan']), None, len(df)))\n",
    "dfmw[dfmw['Society']=='CGS'].set_index('Training Level')[['Male', 'Female']].plot(kind='bar', ax=ax[0], ec='black', color=my_colors, legend=None, rot=0)\n",
    "dfmw[dfmw['Society']=='COS'].set_index('Training Level')[['Male', 'Female']].plot(kind='bar', ax=ax[1], ec='black', color=my_colors, legend=None, rot=0)\n",
    "dfmw[dfmw['Society']=='EPSO'].set_index('Training Level')[['Male', 'Female']].plot(kind='bar', ax=ax[2], ec='black', color=my_colors, legend=None, rot=0)\n",
    "ax[0].set_title('CGS')\n",
    "ax[1].set_title('COS')\n",
    "ax[2].set_title('EPSO')\n",
    "ax[0].set_ylabel(award_cnt_label)\n",
    "[a.set_ylim(top=100) for a in ax]\n",
    "ax[0].legend(['Men', 'Women'], fontsize=15)\n",
    "fig.tight_layout()\n",
    "if annotate: [annotate_bars(a) for a in ax]\n",
    "fig.tight_layout()\n",
    "plt.savefig('plots/plot5.png', dpi=200)\n",
    "plt.show()"
   ]
  },
  {
   "cell_type": "markdown",
   "metadata": {},
   "source": [
    "## Time Period/Year"
   ]
  },
  {
   "cell_type": "code",
   "execution_count": 35,
   "metadata": {},
   "outputs": [],
   "source": [
    "years = np.zeros(df.shape[0]).astype(str)\n",
    "years[(df['Year']>2010).values] = '>2010'\n",
    "years[(df['Year']<=2010).values * (df['Year']>=2000).values] = '2000-2010'\n",
    "years[(df['Year']<2000).values] = '<2000'\n",
    "df['Time Period'] = years"
   ]
  },
  {
   "cell_type": "code",
   "execution_count": 36,
   "metadata": {},
   "outputs": [
    {
     "data": {
      "text/html": [
       "<div>\n",
       "<style scoped>\n",
       "    .dataframe tbody tr th:only-of-type {\n",
       "        vertical-align: middle;\n",
       "    }\n",
       "\n",
       "    .dataframe tbody tr th {\n",
       "        vertical-align: top;\n",
       "    }\n",
       "\n",
       "    .dataframe thead th {\n",
       "        text-align: right;\n",
       "    }\n",
       "</style>\n",
       "<table border=\"1\" class=\"dataframe\">\n",
       "  <thead>\n",
       "    <tr style=\"text-align: right;\">\n",
       "      <th></th>\n",
       "      <th></th>\n",
       "      <th>Male</th>\n",
       "      <th>Female</th>\n",
       "    </tr>\n",
       "    <tr>\n",
       "      <th>Training Level</th>\n",
       "      <th>Time Period</th>\n",
       "      <th></th>\n",
       "      <th></th>\n",
       "    </tr>\n",
       "  </thead>\n",
       "  <tbody>\n",
       "    <tr>\n",
       "      <th rowspan=\"3\" valign=\"top\">MD</th>\n",
       "      <th>2000-2010</th>\n",
       "      <td>39</td>\n",
       "      <td>7</td>\n",
       "    </tr>\n",
       "    <tr>\n",
       "      <th>&lt;2000</th>\n",
       "      <td>13</td>\n",
       "      <td>2</td>\n",
       "    </tr>\n",
       "    <tr>\n",
       "      <th>&gt;2010</th>\n",
       "      <td>81</td>\n",
       "      <td>30</td>\n",
       "    </tr>\n",
       "    <tr>\n",
       "      <th rowspan=\"2\" valign=\"top\">MD/PhD</th>\n",
       "      <th>2000-2010</th>\n",
       "      <td>2</td>\n",
       "      <td>0</td>\n",
       "    </tr>\n",
       "    <tr>\n",
       "      <th>&gt;2010</th>\n",
       "      <td>8</td>\n",
       "      <td>1</td>\n",
       "    </tr>\n",
       "    <tr>\n",
       "      <th rowspan=\"2\" valign=\"top\">PhD</th>\n",
       "      <th>2000-2010</th>\n",
       "      <td>1</td>\n",
       "      <td>1</td>\n",
       "    </tr>\n",
       "    <tr>\n",
       "      <th>&gt;2010</th>\n",
       "      <td>2</td>\n",
       "      <td>2</td>\n",
       "    </tr>\n",
       "    <tr>\n",
       "      <th rowspan=\"2\" valign=\"top\">Student</th>\n",
       "      <th>2000-2010</th>\n",
       "      <td>1</td>\n",
       "      <td>3</td>\n",
       "    </tr>\n",
       "    <tr>\n",
       "      <th>&gt;2010</th>\n",
       "      <td>13</td>\n",
       "      <td>14</td>\n",
       "    </tr>\n",
       "    <tr>\n",
       "      <th>Unknown</th>\n",
       "      <th>&gt;2010</th>\n",
       "      <td>1</td>\n",
       "      <td>4</td>\n",
       "    </tr>\n",
       "  </tbody>\n",
       "</table>\n",
       "</div>"
      ],
      "text/plain": [
       "                            Male  Female\n",
       "Training Level Time Period              \n",
       "MD             2000-2010      39       7\n",
       "               <2000          13       2\n",
       "               >2010          81      30\n",
       "MD/PhD         2000-2010       2       0\n",
       "               >2010           8       1\n",
       "PhD            2000-2010       1       1\n",
       "               >2010           2       2\n",
       "Student        2000-2010       1       3\n",
       "               >2010          13      14\n",
       "Unknown        >2010           1       4"
      ]
     },
     "execution_count": 36,
     "metadata": {},
     "output_type": "execute_result"
    }
   ],
   "source": [
    "df.groupby(['Training Level', 'Time Period']).sum()[['Male', 'Female']]"
   ]
  },
  {
   "cell_type": "code",
   "execution_count": 37,
   "metadata": {},
   "outputs": [],
   "source": [
    "dfmw = df.groupby(['Training Level', 'Time Period']).sum().unstack(fill_value=0).stack()[['Male', 'Female']].iloc[0:]#.reindex([\"Student\", \"PhD\", \"MD\", \"MD/PhD\", \"Unknown\"])#.reset_index()\n",
    "dfmw = dfmw.reindex(axis='index', level=0, labels=[\"Student\", \"MD\", \"PhD\", \"MD/PhD\", \"Unknown\"]).reset_index()"
   ]
  },
  {
   "cell_type": "code",
   "execution_count": 38,
   "metadata": {},
   "outputs": [
    {
     "data": {
      "image/png": "[encoded data removed]",
      "text/plain": [
       "<Figure size 864x216 with 3 Axes>"
      ]
     },
     "metadata": {},
     "output_type": "display_data"
    }
   ],
   "source": [
    "fig, ax = plt.subplots(1, 3, figsize=(12,3))\n",
    "my_colors = list(islice(cycle(['k', 'cyan']), None, len(df)))\n",
    "dfmw[dfmw['Time Period']=='>2010'].set_index('Training Level')[['Male', 'Female']].plot(kind='bar', ax=ax[2], ec='black', color=my_colors, rot=0, legend=None)\n",
    "dfmw[dfmw['Time Period']=='2000-2010'].set_index('Training Level')[['Male', 'Female']].plot(kind='bar', ax=ax[1], ec='black', color=my_colors, legend=None, rot=0)\n",
    "dfmw[dfmw['Time Period']=='<2000'].set_index('Training Level')[['Male', 'Female']].plot(kind='bar', ax=ax[0], ec='black', color=my_colors, rot=0, legend=None)\n",
    "ax[2].set_title('Years 2010-2021')\n",
    "ax[1].set_title('Years 2000-2010')\n",
    "ax[0].set_title('Years 1990-1999')\n",
    "ax[0].set_ylabel(award_cnt_label)\n",
    "[a.set_ylim(top=85) for a in ax]\n",
    "ax[0].legend(['Men', 'Women'], fontsize=15)\n",
    "if annotate: [annotate_bars(a) for a in ax]\n",
    "fig.tight_layout()\n",
    "plt.savefig('plots/plot8.png', dpi=200)\n",
    "plt.show()"
   ]
  },
  {
   "cell_type": "code",
   "execution_count": 39,
   "metadata": {},
   "outputs": [],
   "source": [
    "dfmw = df.groupby(['Award Type', 'Time Period']).sum().unstack(fill_value=0).stack()[['Male', 'Female']].iloc[0:].reset_index()\n",
    "#dfmw = dfmw.reindex(axis='index', level=0, labels=[\"Student\", \"MD\", \"PhD\", \"MD/PhD\", \"Unknown\"]).reset_index()"
   ]
  },
  {
   "cell_type": "code",
   "execution_count": 40,
   "metadata": {},
   "outputs": [
    {
     "data": {
      "image/png": "[encoded data removed]",
      "text/plain": [
       "<Figure size 864x216 with 3 Axes>"
      ]
     },
     "metadata": {},
     "output_type": "display_data"
    }
   ],
   "source": [
    "fig, ax = plt.subplots(1, 3, figsize=(12,3))\n",
    "my_colors = list(islice(cycle(['k', 'cyan']), None, len(df)))\n",
    "dfmw[dfmw['Time Period']=='>2010'].set_index('Award Type')[['Male', 'Female']].plot(kind='bar', ax=ax[2], ec='black', color=my_colors, rot=0, legend=None)\n",
    "dfmw[dfmw['Time Period']=='2000-2010'].set_index('Award Type')[['Male', 'Female']].plot(kind='bar', ax=ax[1], ec='black', color=my_colors, legend=None, rot=0)\n",
    "dfmw[dfmw['Time Period']=='<2000'].set_index('Award Type')[['Male', 'Female']].plot(kind='bar', ax=ax[0], ec='black', color=my_colors, legend=None, rot=0)\n",
    "ax[2].set_title('Years 2010-2021')\n",
    "ax[1].set_title('Years 2000-2010')\n",
    "ax[0].set_title('Years 1990-1999')\n",
    "ax[0].set_ylabel(award_cnt_label)\n",
    "ax[0].legend(['Men', 'Women'], fontsize=15)\n",
    "[a.set_ylim(top=85) for a in ax]\n",
    "if annotate: [annotate_bars(a) for a in ax]\n",
    "fig.tight_layout()\n",
    "plt.savefig('plots/plot11.png', dpi=200)\n",
    "plt.show()"
   ]
  },
  {
   "cell_type": "code",
   "execution_count": 41,
   "metadata": {},
   "outputs": [
    {
     "data": {
      "text/plain": [
       "<AxesSubplot:xlabel='Time Period'>"
      ]
     },
     "execution_count": 41,
     "metadata": {},
     "output_type": "execute_result"
    },
    {
     "data": {
      "image/png": "[encoded data removed]",
      "text/plain": [
       "<Figure size 720x360 with 1 Axes>"
      ]
     },
     "metadata": {},
     "output_type": "display_data"
    }
   ],
   "source": [
    "dfmw = df.groupby(['Training Level', 'Time Period']).sum().unstack(fill_value=0).stack()[['Male', 'Female']].iloc[0:].reset_index()\n",
    "dfmw['tot'] = dfmw['Male'] + dfmw['Female']\n",
    "fig, ax = plt.subplots(1,1,figsize=(10,5))\n",
    "dfmw[dfmw['Training Level']=='Student'][['Time Period', 'tot']].iloc[[1,0,2]].plot(x='Time Period', y='tot', label='Student', ls='--', marker='o', ax=ax)\n",
    "dfmw[dfmw['Training Level']=='PhD'][['Time Period', 'tot']].iloc[[1,0,2]].plot(x='Time Period', y='tot', label='PhD', ls='--',marker='o', ax=ax)\n",
    "dfmw[dfmw['Training Level']=='MD'][['Time Period', 'tot']].iloc[[1,0,2]].plot(x='Time Period', y='tot', label='MD', ls='--',marker='o', ax=ax)\n",
    "dfmw[dfmw['Training Level']=='MD/PhD'][['Time Period', 'tot']].iloc[[1,0,2]].plot(x='Time Period', y='tot', label='MD/PhD', ls='--',marker='o', ax=ax)\n",
    "dfmw[dfmw['Training Level']=='Unknown'][['Time Period', 'tot']].iloc[[1,0,2]].plot(x='Time Period', y='tot', label='Unknown', ls='--',marker='o', ax=ax)"
   ]
  },
  {
   "cell_type": "code",
   "execution_count": 42,
   "metadata": {},
   "outputs": [],
   "source": [
    "dfmw = df.groupby('Year').sum()[['Male', 'Female']]"
   ]
  },
  {
   "cell_type": "code",
   "execution_count": 43,
   "metadata": {},
   "outputs": [],
   "source": [
    "male = dfmw['Male'].append(pd.Series({1990:0, 1991:0, 1992:0, 1993:0, 1994:0, 1995:0})).sort_index()\n",
    "female = dfmw['Female'].append(pd.Series({1990:0, 1991:0, 1992:0, 1993:0, 1994:0, 1995:0})).sort_index()"
   ]
  },
  {
   "cell_type": "code",
   "execution_count": 44,
   "metadata": {},
   "outputs": [
    {
     "data": {
      "image/png": "[encoded data removed]",
      "text/plain": [
       "<Figure size 576x216 with 1 Axes>"
      ]
     },
     "metadata": {},
     "output_type": "display_data"
    }
   ],
   "source": [
    "fig, ax = plt.subplots(1, 1, figsize=(8,3))\n",
    "male.plot(marker='o', ls='-', ax=ax, color='k', label='Men')\n",
    "female.plot(marker='o', ls='--', ax=ax, color='cyan', label='Women')\n",
    "ax.set_ylabel(award_cnt_label)\n",
    "ax.minorticks_on()\n",
    "ax.legend(fontsize=14)\n",
    "ax.grid(which='both')\n",
    "ax.set_xlim(left=1990)\n",
    "fig.tight_layout()\n",
    "plt.savefig('plots/plot6.png', dpi=200)"
   ]
  },
  {
   "cell_type": "code",
   "execution_count": 45,
   "metadata": {},
   "outputs": [],
   "source": [
    "first_year = min(df['Year'].values)\n",
    "last_year = max(df['Year'].values)"
   ]
  },
  {
   "cell_type": "code",
   "execution_count": 46,
   "metadata": {},
   "outputs": [],
   "source": [
    "bins = np.arange(first_year, last_year+2, 3)"
   ]
  },
  {
   "cell_type": "code",
   "execution_count": 47,
   "metadata": {},
   "outputs": [
    {
     "data": {
      "image/png": "[encoded data removed]",
      "text/plain": [
       "<Figure size 576x216 with 1 Axes>"
      ]
     },
     "metadata": {},
     "output_type": "display_data"
    }
   ],
   "source": [
    "fig, ax = plt.subplots(1, 1, figsize=(8,3))\n",
    "data_cgs = df[df['Society']=='CGS']['Year'].values\n",
    "data_eps = df[df['Society']=='EPS']['Year'].values\n",
    "data_cos = df[df['Society']=='COS']['Year'].values\n",
    "ax.hist(data_cgs, bins=bins, histtype='step', color='blue', alpha=1)\n",
    "ax.hist(data_eps, bins=bins, histtype='step', color='green')\n",
    "ax.hist(data_cos, bins=bins, histtype='step', color='red')\n",
    "ax.set_ylabel('# Of Awards')\n",
    "ax.set_xlabel('Year')\n",
    "fig.tight_layout()\n",
    "plt.show()"
   ]
  },
  {
   "cell_type": "code",
   "execution_count": 48,
   "metadata": {},
   "outputs": [],
   "source": [
    "dfmw = df.groupby(['Society', 'Time Period']).sum()[['Male', 'Female']].reset_index()"
   ]
  },
  {
   "cell_type": "code",
   "execution_count": 50,
   "metadata": {},
   "outputs": [
    {
     "ename": "IndexError",
     "evalue": "index 0 is out of bounds for axis 0 with size 0",
     "output_type": "error",
     "traceback": [
      "\u001b[1;31m---------------------------------------------------------------------------\u001b[0m",
      "\u001b[1;31mIndexError\u001b[0m                                Traceback (most recent call last)",
      "\u001b[1;32m<ipython-input-50-7c9e93c0b799>\u001b[0m in \u001b[0;36m<module>\u001b[1;34m\u001b[0m\n\u001b[0;32m      2\u001b[0m \u001b[0mdfmw\u001b[0m\u001b[1;33m[\u001b[0m\u001b[0mdfmw\u001b[0m\u001b[1;33m[\u001b[0m\u001b[1;34m'Society'\u001b[0m\u001b[1;33m]\u001b[0m\u001b[1;33m==\u001b[0m\u001b[1;34m'CGS'\u001b[0m\u001b[1;33m]\u001b[0m\u001b[1;33m.\u001b[0m\u001b[0mset_index\u001b[0m\u001b[1;33m(\u001b[0m\u001b[1;34m'Time Period'\u001b[0m\u001b[1;33m)\u001b[0m\u001b[1;33m[\u001b[0m\u001b[1;33m[\u001b[0m\u001b[1;34m'Male'\u001b[0m\u001b[1;33m,\u001b[0m \u001b[1;34m'Female'\u001b[0m\u001b[1;33m]\u001b[0m\u001b[1;33m]\u001b[0m\u001b[1;33m.\u001b[0m\u001b[0mplot\u001b[0m\u001b[1;33m(\u001b[0m\u001b[0mkind\u001b[0m\u001b[1;33m=\u001b[0m\u001b[1;34m'bar'\u001b[0m\u001b[1;33m,\u001b[0m \u001b[0max\u001b[0m\u001b[1;33m=\u001b[0m\u001b[0max\u001b[0m\u001b[1;33m[\u001b[0m\u001b[1;36m0\u001b[0m\u001b[1;33m]\u001b[0m\u001b[1;33m,\u001b[0m \u001b[0mec\u001b[0m\u001b[1;33m=\u001b[0m\u001b[1;34m'black'\u001b[0m\u001b[1;33m)\u001b[0m\u001b[1;33m\u001b[0m\u001b[1;33m\u001b[0m\u001b[0m\n\u001b[0;32m      3\u001b[0m \u001b[0mdfmw\u001b[0m\u001b[1;33m[\u001b[0m\u001b[0mdfmw\u001b[0m\u001b[1;33m[\u001b[0m\u001b[1;34m'Society'\u001b[0m\u001b[1;33m]\u001b[0m\u001b[1;33m==\u001b[0m\u001b[1;34m'COS'\u001b[0m\u001b[1;33m]\u001b[0m\u001b[1;33m.\u001b[0m\u001b[0mset_index\u001b[0m\u001b[1;33m(\u001b[0m\u001b[1;34m'Time Period'\u001b[0m\u001b[1;33m)\u001b[0m\u001b[1;33m[\u001b[0m\u001b[1;33m[\u001b[0m\u001b[1;34m'Male'\u001b[0m\u001b[1;33m,\u001b[0m \u001b[1;34m'Female'\u001b[0m\u001b[1;33m]\u001b[0m\u001b[1;33m]\u001b[0m\u001b[1;33m.\u001b[0m\u001b[0mplot\u001b[0m\u001b[1;33m(\u001b[0m\u001b[0mkind\u001b[0m\u001b[1;33m=\u001b[0m\u001b[1;34m'bar'\u001b[0m\u001b[1;33m,\u001b[0m \u001b[0max\u001b[0m\u001b[1;33m=\u001b[0m\u001b[0max\u001b[0m\u001b[1;33m[\u001b[0m\u001b[1;36m1\u001b[0m\u001b[1;33m]\u001b[0m\u001b[1;33m,\u001b[0m \u001b[0mec\u001b[0m\u001b[1;33m=\u001b[0m\u001b[1;34m'black'\u001b[0m\u001b[1;33m,\u001b[0m \u001b[0mlegend\u001b[0m\u001b[1;33m=\u001b[0m\u001b[1;32mNone\u001b[0m\u001b[1;33m)\u001b[0m\u001b[1;33m\u001b[0m\u001b[1;33m\u001b[0m\u001b[0m\n\u001b[1;32m----> 4\u001b[1;33m \u001b[0mdfmw\u001b[0m\u001b[1;33m[\u001b[0m\u001b[0mdfmw\u001b[0m\u001b[1;33m[\u001b[0m\u001b[1;34m'Society'\u001b[0m\u001b[1;33m]\u001b[0m\u001b[1;33m==\u001b[0m\u001b[1;34m'EPS'\u001b[0m\u001b[1;33m]\u001b[0m\u001b[1;33m.\u001b[0m\u001b[0mset_index\u001b[0m\u001b[1;33m(\u001b[0m\u001b[1;34m'Time Period'\u001b[0m\u001b[1;33m)\u001b[0m\u001b[1;33m[\u001b[0m\u001b[1;33m[\u001b[0m\u001b[1;34m'Male'\u001b[0m\u001b[1;33m,\u001b[0m \u001b[1;34m'Female'\u001b[0m\u001b[1;33m]\u001b[0m\u001b[1;33m]\u001b[0m\u001b[1;33m.\u001b[0m\u001b[0mplot\u001b[0m\u001b[1;33m(\u001b[0m\u001b[0mkind\u001b[0m\u001b[1;33m=\u001b[0m\u001b[1;34m'bar'\u001b[0m\u001b[1;33m,\u001b[0m \u001b[0max\u001b[0m\u001b[1;33m=\u001b[0m\u001b[0max\u001b[0m\u001b[1;33m[\u001b[0m\u001b[1;36m2\u001b[0m\u001b[1;33m]\u001b[0m\u001b[1;33m,\u001b[0m \u001b[0mec\u001b[0m\u001b[1;33m=\u001b[0m\u001b[1;34m'black'\u001b[0m\u001b[1;33m,\u001b[0m \u001b[0mlegend\u001b[0m\u001b[1;33m=\u001b[0m\u001b[1;32mNone\u001b[0m\u001b[1;33m)\u001b[0m\u001b[1;33m\u001b[0m\u001b[1;33m\u001b[0m\u001b[0m\n\u001b[0m\u001b[0;32m      5\u001b[0m \u001b[0max\u001b[0m\u001b[1;33m[\u001b[0m\u001b[1;36m0\u001b[0m\u001b[1;33m]\u001b[0m\u001b[1;33m.\u001b[0m\u001b[0mset_title\u001b[0m\u001b[1;33m(\u001b[0m\u001b[1;34m'CGS'\u001b[0m\u001b[1;33m)\u001b[0m\u001b[1;33m\u001b[0m\u001b[1;33m\u001b[0m\u001b[0m\n\u001b[0;32m      6\u001b[0m \u001b[0max\u001b[0m\u001b[1;33m[\u001b[0m\u001b[1;36m1\u001b[0m\u001b[1;33m]\u001b[0m\u001b[1;33m.\u001b[0m\u001b[0mset_title\u001b[0m\u001b[1;33m(\u001b[0m\u001b[1;34m'COS'\u001b[0m\u001b[1;33m)\u001b[0m\u001b[1;33m\u001b[0m\u001b[1;33m\u001b[0m\u001b[0m\n",
      "\u001b[1;32m~\\anaconda3\\lib\\site-packages\\pandas\\plotting\\_core.py\u001b[0m in \u001b[0;36m__call__\u001b[1;34m(self, *args, **kwargs)\u001b[0m\n\u001b[0;32m    947\u001b[0m                     \u001b[0mdata\u001b[0m\u001b[1;33m.\u001b[0m\u001b[0mcolumns\u001b[0m \u001b[1;33m=\u001b[0m \u001b[0mlabel_name\u001b[0m\u001b[1;33m\u001b[0m\u001b[1;33m\u001b[0m\u001b[0m\n\u001b[0;32m    948\u001b[0m \u001b[1;33m\u001b[0m\u001b[0m\n\u001b[1;32m--> 949\u001b[1;33m         \u001b[1;32mreturn\u001b[0m \u001b[0mplot_backend\u001b[0m\u001b[1;33m.\u001b[0m\u001b[0mplot\u001b[0m\u001b[1;33m(\u001b[0m\u001b[0mdata\u001b[0m\u001b[1;33m,\u001b[0m \u001b[0mkind\u001b[0m\u001b[1;33m=\u001b[0m\u001b[0mkind\u001b[0m\u001b[1;33m,\u001b[0m \u001b[1;33m**\u001b[0m\u001b[0mkwargs\u001b[0m\u001b[1;33m)\u001b[0m\u001b[1;33m\u001b[0m\u001b[1;33m\u001b[0m\u001b[0m\n\u001b[0m\u001b[0;32m    950\u001b[0m \u001b[1;33m\u001b[0m\u001b[0m\n\u001b[0;32m    951\u001b[0m     \u001b[0m__call__\u001b[0m\u001b[1;33m.\u001b[0m\u001b[0m__doc__\u001b[0m \u001b[1;33m=\u001b[0m \u001b[0m__doc__\u001b[0m\u001b[1;33m\u001b[0m\u001b[1;33m\u001b[0m\u001b[0m\n",
      "\u001b[1;32m~\\anaconda3\\lib\\site-packages\\pandas\\plotting\\_matplotlib\\__init__.py\u001b[0m in \u001b[0;36mplot\u001b[1;34m(data, kind, **kwargs)\u001b[0m\n\u001b[0;32m     59\u001b[0m             \u001b[0mkwargs\u001b[0m\u001b[1;33m[\u001b[0m\u001b[1;34m\"ax\"\u001b[0m\u001b[1;33m]\u001b[0m \u001b[1;33m=\u001b[0m \u001b[0mgetattr\u001b[0m\u001b[1;33m(\u001b[0m\u001b[0max\u001b[0m\u001b[1;33m,\u001b[0m \u001b[1;34m\"left_ax\"\u001b[0m\u001b[1;33m,\u001b[0m \u001b[0max\u001b[0m\u001b[1;33m)\u001b[0m\u001b[1;33m\u001b[0m\u001b[1;33m\u001b[0m\u001b[0m\n\u001b[0;32m     60\u001b[0m     \u001b[0mplot_obj\u001b[0m \u001b[1;33m=\u001b[0m \u001b[0mPLOT_CLASSES\u001b[0m\u001b[1;33m[\u001b[0m\u001b[0mkind\u001b[0m\u001b[1;33m]\u001b[0m\u001b[1;33m(\u001b[0m\u001b[0mdata\u001b[0m\u001b[1;33m,\u001b[0m \u001b[1;33m**\u001b[0m\u001b[0mkwargs\u001b[0m\u001b[1;33m)\u001b[0m\u001b[1;33m\u001b[0m\u001b[1;33m\u001b[0m\u001b[0m\n\u001b[1;32m---> 61\u001b[1;33m     \u001b[0mplot_obj\u001b[0m\u001b[1;33m.\u001b[0m\u001b[0mgenerate\u001b[0m\u001b[1;33m(\u001b[0m\u001b[1;33m)\u001b[0m\u001b[1;33m\u001b[0m\u001b[1;33m\u001b[0m\u001b[0m\n\u001b[0m\u001b[0;32m     62\u001b[0m     \u001b[0mplot_obj\u001b[0m\u001b[1;33m.\u001b[0m\u001b[0mdraw\u001b[0m\u001b[1;33m(\u001b[0m\u001b[1;33m)\u001b[0m\u001b[1;33m\u001b[0m\u001b[1;33m\u001b[0m\u001b[0m\n\u001b[0;32m     63\u001b[0m     \u001b[1;32mreturn\u001b[0m \u001b[0mplot_obj\u001b[0m\u001b[1;33m.\u001b[0m\u001b[0mresult\u001b[0m\u001b[1;33m\u001b[0m\u001b[1;33m\u001b[0m\u001b[0m\n",
      "\u001b[1;32m~\\anaconda3\\lib\\site-packages\\pandas\\plotting\\_matplotlib\\core.py\u001b[0m in \u001b[0;36mgenerate\u001b[1;34m(self)\u001b[0m\n\u001b[0;32m    276\u001b[0m         \u001b[1;32mfor\u001b[0m \u001b[0max\u001b[0m \u001b[1;32min\u001b[0m \u001b[0mself\u001b[0m\u001b[1;33m.\u001b[0m\u001b[0maxes\u001b[0m\u001b[1;33m:\u001b[0m\u001b[1;33m\u001b[0m\u001b[1;33m\u001b[0m\u001b[0m\n\u001b[0;32m    277\u001b[0m             \u001b[0mself\u001b[0m\u001b[1;33m.\u001b[0m\u001b[0m_post_plot_logic_common\u001b[0m\u001b[1;33m(\u001b[0m\u001b[0max\u001b[0m\u001b[1;33m,\u001b[0m \u001b[0mself\u001b[0m\u001b[1;33m.\u001b[0m\u001b[0mdata\u001b[0m\u001b[1;33m)\u001b[0m\u001b[1;33m\u001b[0m\u001b[1;33m\u001b[0m\u001b[0m\n\u001b[1;32m--> 278\u001b[1;33m             \u001b[0mself\u001b[0m\u001b[1;33m.\u001b[0m\u001b[0m_post_plot_logic\u001b[0m\u001b[1;33m(\u001b[0m\u001b[0max\u001b[0m\u001b[1;33m,\u001b[0m \u001b[0mself\u001b[0m\u001b[1;33m.\u001b[0m\u001b[0mdata\u001b[0m\u001b[1;33m)\u001b[0m\u001b[1;33m\u001b[0m\u001b[1;33m\u001b[0m\u001b[0m\n\u001b[0m\u001b[0;32m    279\u001b[0m \u001b[1;33m\u001b[0m\u001b[0m\n\u001b[0;32m    280\u001b[0m     \u001b[1;32mdef\u001b[0m \u001b[0m_args_adjust\u001b[0m\u001b[1;33m(\u001b[0m\u001b[0mself\u001b[0m\u001b[1;33m)\u001b[0m\u001b[1;33m:\u001b[0m\u001b[1;33m\u001b[0m\u001b[1;33m\u001b[0m\u001b[0m\n",
      "\u001b[1;32m~\\anaconda3\\lib\\site-packages\\pandas\\plotting\\_matplotlib\\core.py\u001b[0m in \u001b[0;36m_post_plot_logic\u001b[1;34m(self, ax, data)\u001b[0m\n\u001b[0;32m   1459\u001b[0m         \u001b[0mname\u001b[0m \u001b[1;33m=\u001b[0m \u001b[0mself\u001b[0m\u001b[1;33m.\u001b[0m\u001b[0m_get_index_name\u001b[0m\u001b[1;33m(\u001b[0m\u001b[1;33m)\u001b[0m\u001b[1;33m\u001b[0m\u001b[1;33m\u001b[0m\u001b[0m\n\u001b[0;32m   1460\u001b[0m \u001b[1;33m\u001b[0m\u001b[0m\n\u001b[1;32m-> 1461\u001b[1;33m         \u001b[0ms_edge\u001b[0m \u001b[1;33m=\u001b[0m \u001b[0mself\u001b[0m\u001b[1;33m.\u001b[0m\u001b[0max_pos\u001b[0m\u001b[1;33m[\u001b[0m\u001b[1;36m0\u001b[0m\u001b[1;33m]\u001b[0m \u001b[1;33m-\u001b[0m \u001b[1;36m0.25\u001b[0m \u001b[1;33m+\u001b[0m \u001b[0mself\u001b[0m\u001b[1;33m.\u001b[0m\u001b[0mlim_offset\u001b[0m\u001b[1;33m\u001b[0m\u001b[1;33m\u001b[0m\u001b[0m\n\u001b[0m\u001b[0;32m   1462\u001b[0m         \u001b[0me_edge\u001b[0m \u001b[1;33m=\u001b[0m \u001b[0mself\u001b[0m\u001b[1;33m.\u001b[0m\u001b[0max_pos\u001b[0m\u001b[1;33m[\u001b[0m\u001b[1;33m-\u001b[0m\u001b[1;36m1\u001b[0m\u001b[1;33m]\u001b[0m \u001b[1;33m+\u001b[0m \u001b[1;36m0.25\u001b[0m \u001b[1;33m+\u001b[0m \u001b[0mself\u001b[0m\u001b[1;33m.\u001b[0m\u001b[0mbar_width\u001b[0m \u001b[1;33m+\u001b[0m \u001b[0mself\u001b[0m\u001b[1;33m.\u001b[0m\u001b[0mlim_offset\u001b[0m\u001b[1;33m\u001b[0m\u001b[1;33m\u001b[0m\u001b[0m\n\u001b[0;32m   1463\u001b[0m \u001b[1;33m\u001b[0m\u001b[0m\n",
      "\u001b[1;31mIndexError\u001b[0m: index 0 is out of bounds for axis 0 with size 0"
     ]
    },
    {
     "data": {
      "image/png": "[encoded data removed]",
      "text/plain": [
       "<Figure size 936x360 with 3 Axes>"
      ]
     },
     "metadata": {},
     "output_type": "display_data"
    }
   ],
   "source": [
    "fig, ax = plt.subplots(1, 3, figsize=(13,5))\n",
    "dfmw[dfmw['Society']=='CGS'].set_index('Time Period')[['Male', 'Female']].plot(kind='bar', ax=ax[0], ec='black')\n",
    "dfmw[dfmw['Society']=='COS'].set_index('Time Period')[['Male', 'Female']].plot(kind='bar', ax=ax[1], ec='black', legend=None)\n",
    "dfmw[dfmw['Society']=='EPS'].set_index('Time Period')[['Male', 'Female']].plot(kind='bar', ax=ax[2], ec='black', legend=None)\n",
    "ax[0].set_title('CGS')\n",
    "ax[1].set_title('COS')\n",
    "ax[2].set_title('EPS')\n",
    "ax[0].set_ylabel('# Awards')\n",
    "if annotate: [annotate_bars(a) for a in ax]\n",
    "fig.tight_layout()\n",
    "plt.show()"
   ]
  },
  {
   "cell_type": "markdown",
   "metadata": {},
   "source": [
    "## P-Value Between Societies"
   ]
  },
  {
   "cell_type": "markdown",
   "metadata": {},
   "source": [
    "Past year 2010"
   ]
  },
  {
   "cell_type": "code",
   "execution_count": 51,
   "metadata": {},
   "outputs": [
    {
     "data": {
      "text/html": [
       "<div>\n",
       "<style scoped>\n",
       "    .dataframe tbody tr th:only-of-type {\n",
       "        vertical-align: middle;\n",
       "    }\n",
       "\n",
       "    .dataframe tbody tr th {\n",
       "        vertical-align: top;\n",
       "    }\n",
       "\n",
       "    .dataframe thead th {\n",
       "        text-align: right;\n",
       "    }\n",
       "</style>\n",
       "<table border=\"1\" class=\"dataframe\">\n",
       "  <thead>\n",
       "    <tr style=\"text-align: right;\">\n",
       "      <th></th>\n",
       "      <th>Unnamed: 0</th>\n",
       "      <th>Society</th>\n",
       "      <th>Award Type</th>\n",
       "      <th>Year</th>\n",
       "      <th>Award Winner</th>\n",
       "      <th>Training Level</th>\n",
       "      <th>Gender</th>\n",
       "      <th>Male</th>\n",
       "      <th>Female</th>\n",
       "      <th>FName</th>\n",
       "      <th>LName</th>\n",
       "      <th>pred_genders</th>\n",
       "      <th>Male_p</th>\n",
       "      <th>Female_p</th>\n",
       "      <th>Time Period</th>\n",
       "    </tr>\n",
       "  </thead>\n",
       "  <tbody>\n",
       "    <tr>\n",
       "      <th>0</th>\n",
       "      <td>0</td>\n",
       "      <td>COS</td>\n",
       "      <td>Lifetime</td>\n",
       "      <td>2021</td>\n",
       "      <td>Brian Leonard</td>\n",
       "      <td>MD</td>\n",
       "      <td>1</td>\n",
       "      <td>True</td>\n",
       "      <td>False</td>\n",
       "      <td>Brian</td>\n",
       "      <td>Leonard</td>\n",
       "      <td>male</td>\n",
       "      <td>True</td>\n",
       "      <td>False</td>\n",
       "      <td>&gt;2010</td>\n",
       "    </tr>\n",
       "    <tr>\n",
       "      <th>1</th>\n",
       "      <td>1</td>\n",
       "      <td>COS</td>\n",
       "      <td>Lifetime</td>\n",
       "      <td>2020</td>\n",
       "      <td>Simon Holland</td>\n",
       "      <td>MD</td>\n",
       "      <td>1</td>\n",
       "      <td>True</td>\n",
       "      <td>False</td>\n",
       "      <td>Simon</td>\n",
       "      <td>Holland</td>\n",
       "      <td>male</td>\n",
       "      <td>True</td>\n",
       "      <td>False</td>\n",
       "      <td>&gt;2010</td>\n",
       "    </tr>\n",
       "    <tr>\n",
       "      <th>2</th>\n",
       "      <td>2</td>\n",
       "      <td>COS</td>\n",
       "      <td>Lifetime</td>\n",
       "      <td>2019</td>\n",
       "      <td>Helene Boisjoly</td>\n",
       "      <td>MD</td>\n",
       "      <td>2</td>\n",
       "      <td>False</td>\n",
       "      <td>True</td>\n",
       "      <td>Helene</td>\n",
       "      <td>Boisjoly</td>\n",
       "      <td>female</td>\n",
       "      <td>False</td>\n",
       "      <td>True</td>\n",
       "      <td>&gt;2010</td>\n",
       "    </tr>\n",
       "    <tr>\n",
       "      <th>3</th>\n",
       "      <td>3</td>\n",
       "      <td>COS</td>\n",
       "      <td>Lifetime</td>\n",
       "      <td>2018</td>\n",
       "      <td>Graham Trope</td>\n",
       "      <td>MD/PhD</td>\n",
       "      <td>1</td>\n",
       "      <td>True</td>\n",
       "      <td>False</td>\n",
       "      <td>Graham</td>\n",
       "      <td>Trope</td>\n",
       "      <td>male</td>\n",
       "      <td>True</td>\n",
       "      <td>False</td>\n",
       "      <td>&gt;2010</td>\n",
       "    </tr>\n",
       "    <tr>\n",
       "      <th>4</th>\n",
       "      <td>4</td>\n",
       "      <td>COS</td>\n",
       "      <td>Lifetime</td>\n",
       "      <td>2017</td>\n",
       "      <td>Seymour Brownstein</td>\n",
       "      <td>MD</td>\n",
       "      <td>1</td>\n",
       "      <td>True</td>\n",
       "      <td>False</td>\n",
       "      <td>Seymour</td>\n",
       "      <td>Brownstein</td>\n",
       "      <td>male</td>\n",
       "      <td>True</td>\n",
       "      <td>False</td>\n",
       "      <td>&gt;2010</td>\n",
       "    </tr>\n",
       "    <tr>\n",
       "      <th>...</th>\n",
       "      <td>...</td>\n",
       "      <td>...</td>\n",
       "      <td>...</td>\n",
       "      <td>...</td>\n",
       "      <td>...</td>\n",
       "      <td>...</td>\n",
       "      <td>...</td>\n",
       "      <td>...</td>\n",
       "      <td>...</td>\n",
       "      <td>...</td>\n",
       "      <td>...</td>\n",
       "      <td>...</td>\n",
       "      <td>...</td>\n",
       "      <td>...</td>\n",
       "      <td>...</td>\n",
       "    </tr>\n",
       "    <tr>\n",
       "      <th>220</th>\n",
       "      <td>220</td>\n",
       "      <td>EPSO</td>\n",
       "      <td>Lifetime</td>\n",
       "      <td>2013</td>\n",
       "      <td>Jeff Sher</td>\n",
       "      <td>MD</td>\n",
       "      <td>1</td>\n",
       "      <td>True</td>\n",
       "      <td>False</td>\n",
       "      <td>Jeff</td>\n",
       "      <td>Sher</td>\n",
       "      <td>male</td>\n",
       "      <td>True</td>\n",
       "      <td>False</td>\n",
       "      <td>&gt;2010</td>\n",
       "    </tr>\n",
       "    <tr>\n",
       "      <th>221</th>\n",
       "      <td>221</td>\n",
       "      <td>EPSO</td>\n",
       "      <td>Lifetime</td>\n",
       "      <td>2012</td>\n",
       "      <td>Jeff Hurwitz</td>\n",
       "      <td>MD</td>\n",
       "      <td>1</td>\n",
       "      <td>True</td>\n",
       "      <td>False</td>\n",
       "      <td>Jeff</td>\n",
       "      <td>Hurwitz</td>\n",
       "      <td>male</td>\n",
       "      <td>True</td>\n",
       "      <td>False</td>\n",
       "      <td>&gt;2010</td>\n",
       "    </tr>\n",
       "    <tr>\n",
       "      <th>222</th>\n",
       "      <td>222</td>\n",
       "      <td>EPSO</td>\n",
       "      <td>Lifetime</td>\n",
       "      <td>2011</td>\n",
       "      <td>John Fowler</td>\n",
       "      <td>MD</td>\n",
       "      <td>1</td>\n",
       "      <td>True</td>\n",
       "      <td>False</td>\n",
       "      <td>John</td>\n",
       "      <td>Fowler</td>\n",
       "      <td>male</td>\n",
       "      <td>True</td>\n",
       "      <td>False</td>\n",
       "      <td>&gt;2010</td>\n",
       "    </tr>\n",
       "    <tr>\n",
       "      <th>223</th>\n",
       "      <td>223</td>\n",
       "      <td>EPSO</td>\n",
       "      <td>Educator</td>\n",
       "      <td>2017</td>\n",
       "      <td>John Fowler</td>\n",
       "      <td>MD</td>\n",
       "      <td>1</td>\n",
       "      <td>True</td>\n",
       "      <td>False</td>\n",
       "      <td>John</td>\n",
       "      <td>Fowler</td>\n",
       "      <td>male</td>\n",
       "      <td>True</td>\n",
       "      <td>False</td>\n",
       "      <td>&gt;2010</td>\n",
       "    </tr>\n",
       "    <tr>\n",
       "      <th>224</th>\n",
       "      <td>224</td>\n",
       "      <td>EPSO</td>\n",
       "      <td>Lifetime</td>\n",
       "      <td>2019</td>\n",
       "      <td>Kylen McReelis</td>\n",
       "      <td>MD</td>\n",
       "      <td>1</td>\n",
       "      <td>True</td>\n",
       "      <td>False</td>\n",
       "      <td>Kylen</td>\n",
       "      <td>McReelis</td>\n",
       "      <td>male</td>\n",
       "      <td>True</td>\n",
       "      <td>False</td>\n",
       "      <td>&gt;2010</td>\n",
       "    </tr>\n",
       "  </tbody>\n",
       "</table>\n",
       "<p>156 rows × 15 columns</p>\n",
       "</div>"
      ],
      "text/plain": [
       "     Unnamed: 0 Society Award Type  Year        Award Winner Training Level  \\\n",
       "0             0     COS   Lifetime  2021       Brian Leonard             MD   \n",
       "1             1     COS   Lifetime  2020       Simon Holland             MD   \n",
       "2             2     COS   Lifetime  2019     Helene Boisjoly             MD   \n",
       "3             3     COS   Lifetime  2018        Graham Trope         MD/PhD   \n",
       "4             4     COS   Lifetime  2017  Seymour Brownstein             MD   \n",
       "..          ...     ...        ...   ...                 ...            ...   \n",
       "220         220    EPSO   Lifetime  2013           Jeff Sher             MD   \n",
       "221         221    EPSO   Lifetime  2012        Jeff Hurwitz             MD   \n",
       "222         222    EPSO   Lifetime  2011         John Fowler             MD   \n",
       "223         223    EPSO   Educator  2017         John Fowler             MD   \n",
       "224         224    EPSO   Lifetime  2019      Kylen McReelis             MD   \n",
       "\n",
       "     Gender   Male  Female    FName       LName pred_genders  Male_p  \\\n",
       "0         1   True   False    Brian     Leonard         male    True   \n",
       "1         1   True   False    Simon     Holland         male    True   \n",
       "2         2  False    True   Helene    Boisjoly       female   False   \n",
       "3         1   True   False   Graham       Trope         male    True   \n",
       "4         1   True   False  Seymour  Brownstein         male    True   \n",
       "..      ...    ...     ...      ...         ...          ...     ...   \n",
       "220       1   True   False     Jeff        Sher         male    True   \n",
       "221       1   True   False     Jeff     Hurwitz         male    True   \n",
       "222       1   True   False     John      Fowler         male    True   \n",
       "223       1   True   False     John      Fowler         male    True   \n",
       "224       1   True   False    Kylen    McReelis         male    True   \n",
       "\n",
       "     Female_p Time Period  \n",
       "0       False       >2010  \n",
       "1       False       >2010  \n",
       "2        True       >2010  \n",
       "3       False       >2010  \n",
       "4       False       >2010  \n",
       "..        ...         ...  \n",
       "220     False       >2010  \n",
       "221     False       >2010  \n",
       "222     False       >2010  \n",
       "223     False       >2010  \n",
       "224     False       >2010  \n",
       "\n",
       "[156 rows x 15 columns]"
      ]
     },
     "execution_count": 51,
     "metadata": {},
     "output_type": "execute_result"
    }
   ],
   "source": [
    "df[df['Year']>2010]"
   ]
  },
  {
   "cell_type": "code",
   "execution_count": 52,
   "metadata": {},
   "outputs": [],
   "source": [
    "societies = list(df.groupby('Society').sum().index)\n",
    "male = df[df['Year']>2010].groupby('Society').sum()['Male'].values\n",
    "fem = df[df['Year']>2010].groupby('Society').sum()['Female'].values\n",
    "n = fem+male\n",
    "p = fem/n\n",
    "p_err = np.sqrt(p*(1-p)/n)"
   ]
  },
  {
   "cell_type": "code",
   "execution_count": 53,
   "metadata": {},
   "outputs": [
    {
     "data": {
      "text/plain": [
       "array([0.29411765, 0.38613861, 0.0952381 ])"
      ]
     },
     "execution_count": 53,
     "metadata": {},
     "output_type": "execute_result"
    }
   ],
   "source": [
    "p"
   ]
  },
  {
   "cell_type": "code",
   "execution_count": 54,
   "metadata": {},
   "outputs": [
    {
     "data": {
      "text/plain": [
       "array([ 34, 101,  21], dtype=int64)"
      ]
     },
     "execution_count": 54,
     "metadata": {},
     "output_type": "execute_result"
    }
   ],
   "source": [
    "n"
   ]
  },
  {
   "cell_type": "code",
   "execution_count": 55,
   "metadata": {},
   "outputs": [
    {
     "data": {
      "image/png": "[encoded data removed]",
      "text/plain": [
       "<Figure size 360x288 with 1 Axes>"
      ]
     },
     "metadata": {},
     "output_type": "display_data"
    }
   ],
   "source": [
    "plt.figure(figsize=(5,4))\n",
    "plt.ylabel('% Females With Awards')\n",
    "plt.minorticks_off()\n",
    "plt.xlabel('Society')\n",
    "plt.bar(societies, 100*p)\n",
    "plt.errorbar(societies, 100*p, yerr=100*p_err, fmt=\"o\", color=\"r\")\n",
    "plt.show()"
   ]
  },
  {
   "cell_type": "markdown",
   "metadata": {},
   "source": [
    "https://stats.stackexchange.com/questions/113602/test-if-two-binomial-distributions-are-statistically-different-from-each-other"
   ]
  },
  {
   "cell_type": "code",
   "execution_count": null,
   "metadata": {},
   "outputs": [],
   "source": [
    "societies"
   ]
  },
  {
   "cell_type": "code",
   "execution_count": null,
   "metadata": {},
   "outputs": [],
   "source": [
    "p"
   ]
  },
  {
   "cell_type": "code",
   "execution_count": null,
   "metadata": {},
   "outputs": [],
   "source": [
    "n"
   ]
  },
  {
   "cell_type": "markdown",
   "metadata": {},
   "source": [
    "Example: 0 vs. 2"
   ]
  },
  {
   "cell_type": "code",
   "execution_count": null,
   "metadata": {},
   "outputs": [],
   "source": [
    "i1 = 1\n",
    "i2 = 2\n",
    "n1 = n[i1]\n",
    "n2 = n[i2]\n",
    "p1 = p[i1]\n",
    "p2 = p[i2]"
   ]
  },
  {
   "cell_type": "code",
   "execution_count": null,
   "metadata": {},
   "outputs": [],
   "source": [
    "pt = (p1*n1+p2*n2) / (n1 + n2)\n",
    "z = (p1 - p2) / np.sqrt(pt*(1-pt)*(1/n1 + 1/n2))\n",
    "pvalue = scipy.stats.norm.sf(abs(z))"
   ]
  },
  {
   "cell_type": "code",
   "execution_count": null,
   "metadata": {},
   "outputs": [],
   "source": [
    "z"
   ]
  },
  {
   "cell_type": "code",
   "execution_count": null,
   "metadata": {},
   "outputs": [],
   "source": [
    "print(f'Society {societies[i1]} vs Society {societies[i2]}: {scipy.stats.norm.sf(abs(z))}')"
   ]
  },
  {
   "cell_type": "markdown",
   "metadata": {},
   "source": [
    "If comparing to the 28%"
   ]
  },
  {
   "cell_type": "code",
   "execution_count": 62,
   "metadata": {},
   "outputs": [],
   "source": [
    "def compute_pvalue(i):\n",
    "    p_pop = 0.28\n",
    "    z = (p[i] - p_pop) / np.sqrt(pt*(1-pt)*(1/n[i]))\n",
    "    return scipy.stats.norm.sf(abs(z))"
   ]
  },
  {
   "cell_type": "code",
   "execution_count": 63,
   "metadata": {},
   "outputs": [
    {
     "data": {
      "text/plain": [
       "['CGS', 'COS', 'EPSO']"
      ]
     },
     "execution_count": 63,
     "metadata": {},
     "output_type": "execute_result"
    }
   ],
   "source": [
    "societies"
   ]
  },
  {
   "cell_type": "code",
   "execution_count": 96,
   "metadata": {},
   "outputs": [
    {
     "data": {
      "text/plain": [
       "array([0.86165184, 0.02393414, 0.07306063])"
      ]
     },
     "execution_count": 96,
     "metadata": {},
     "output_type": "execute_result"
    }
   ],
   "source": [
    "2*np.array([compute_pvalue(i) for i in range(3)])"
   ]
  },
  {
   "cell_type": "markdown",
   "metadata": {},
   "source": [
    "#### Societies and award ttypes"
   ]
  },
  {
   "cell_type": "code",
   "execution_count": 75,
   "metadata": {},
   "outputs": [],
   "source": [
    "dfmw = df.groupby(['Award Type', 'Society']).sum().unstack(fill_value=0).stack()[['Male', 'Female']].iloc[0:].reset_index()\n",
    "dfmw_cgs = dfmw[dfmw['Society']=='CGS']\n",
    "dfmw_cos = dfmw[dfmw['Society']=='COS']"
   ]
  },
  {
   "cell_type": "code",
   "execution_count": 90,
   "metadata": {},
   "outputs": [],
   "source": [
    "no_research_cgs = dfmw_cgs[dfmw_cgs['Award Type']!='Research'].sum()\n",
    "research_cgs = dfmw_cgs[dfmw_cgs['Award Type']=='Research'].sum()\n",
    "no_research_cos = dfmw_cos[dfmw_cos['Award Type']!='Research'].sum()\n",
    "research_cos = dfmw_cos[dfmw_cos['Award Type']=='Research'].sum()"
   ]
  },
  {
   "cell_type": "code",
   "execution_count": 92,
   "metadata": {},
   "outputs": [],
   "source": [
    "n_cgs_r = research_cgs['Female'] + research_cgs['Male']\n",
    "p_cgs_r = research_cgs['Female']/n_cgs\n",
    "n_cgs_nr = no_research_cgs['Female'] + no_research_cgs['Male']\n",
    "p_cgs_nr = no_research_cgs['Female']/n_cgs_nr\n",
    "\n",
    "n_cos_r = research_cos['Female'] + research_cos['Male']\n",
    "p_cos_r = research_cos['Female']/n_cos_r\n",
    "n_cos_nr = no_research_cos['Female'] + no_research_cos['Male']\n",
    "p_cos_nr = no_research_cos['Female']/n_cos_nr"
   ]
  },
  {
   "cell_type": "code",
   "execution_count": 93,
   "metadata": {},
   "outputs": [],
   "source": [
    "def compute_z(p1,p2,n1,n2):\n",
    "    pt = (p1*n1+p2*n2) / (n1 + n2)\n",
    "    z = (p1 - p2) / np.sqrt(pt*(1-pt)*(1/n1 + 1/n2))\n",
    "    return z"
   ]
  },
  {
   "cell_type": "code",
   "execution_count": 94,
   "metadata": {},
   "outputs": [
    {
     "data": {
      "text/plain": [
       "0.17336118873369766"
      ]
     },
     "execution_count": 94,
     "metadata": {},
     "output_type": "execute_result"
    }
   ],
   "source": [
    "scipy.stats.norm.sf(compute_z(p_cgs_r, p_cgs_nr, n_cgs_r, n_cgs_nr))"
   ]
  },
  {
   "cell_type": "code",
   "execution_count": 95,
   "metadata": {},
   "outputs": [
    {
     "data": {
      "text/plain": [
       "0.01262115619027707"
      ]
     },
     "execution_count": 95,
     "metadata": {},
     "output_type": "execute_result"
    }
   ],
   "source": [
    "scipy.stats.norm.sf(compute_z(p_cos_r, p_cos_nr, n_cos_r, n_cos_nr))"
   ]
  },
  {
   "cell_type": "markdown",
   "metadata": {},
   "source": [
    "# Time Dependent Stuff"
   ]
  },
  {
   "cell_type": "code",
   "execution_count": 154,
   "metadata": {},
   "outputs": [
    {
     "ename": "TypeError",
     "evalue": "can only concatenate str (not \"float\") to str",
     "output_type": "error",
     "traceback": [
      "\u001b[1;31m---------------------------------------------------------------------------\u001b[0m",
      "\u001b[1;31mTypeError\u001b[0m                                 Traceback (most recent call last)",
      "\u001b[1;32m<ipython-input-154-ca9118bea3c4>\u001b[0m in \u001b[0;36m<module>\u001b[1;34m\u001b[0m\n\u001b[0;32m      2\u001b[0m \u001b[0max\u001b[0m \u001b[1;33m=\u001b[0m \u001b[0maxes\u001b[0m\u001b[1;33m[\u001b[0m\u001b[1;36m0\u001b[0m\u001b[1;33m]\u001b[0m\u001b[1;33m\u001b[0m\u001b[1;33m\u001b[0m\u001b[0m\n\u001b[0;32m      3\u001b[0m \u001b[0mdata\u001b[0m \u001b[1;33m=\u001b[0m \u001b[0mdf\u001b[0m\u001b[1;33m[\u001b[0m\u001b[1;34m'Award Type'\u001b[0m\u001b[1;33m]\u001b[0m\u001b[1;33m.\u001b[0m\u001b[0mvalues\u001b[0m\u001b[1;33m\u001b[0m\u001b[1;33m\u001b[0m\u001b[0m\n\u001b[1;32m----> 4\u001b[1;33m \u001b[0mbins\u001b[0m \u001b[1;33m=\u001b[0m \u001b[0mnp\u001b[0m\u001b[1;33m.\u001b[0m\u001b[0marange\u001b[0m\u001b[1;33m(\u001b[0m\u001b[1;36m1\u001b[0m\u001b[1;33m,\u001b[0m \u001b[0mdata\u001b[0m\u001b[1;33m.\u001b[0m\u001b[0mmax\u001b[0m\u001b[1;33m(\u001b[0m\u001b[1;33m)\u001b[0m \u001b[1;33m+\u001b[0m \u001b[1;36m1.5\u001b[0m\u001b[1;33m)\u001b[0m \u001b[1;33m-\u001b[0m \u001b[1;36m0.5\u001b[0m\u001b[1;33m\u001b[0m\u001b[1;33m\u001b[0m\u001b[0m\n\u001b[0m\u001b[0;32m      5\u001b[0m \u001b[0max\u001b[0m\u001b[1;33m.\u001b[0m\u001b[0mhist\u001b[0m\u001b[1;33m(\u001b[0m\u001b[0mdata\u001b[0m\u001b[1;33m,\u001b[0m \u001b[0mbins\u001b[0m\u001b[1;33m,\u001b[0m \u001b[0mec\u001b[0m\u001b[1;33m=\u001b[0m\u001b[1;34m'black'\u001b[0m\u001b[1;33m)\u001b[0m\u001b[1;33m\u001b[0m\u001b[1;33m\u001b[0m\u001b[0m\n\u001b[0;32m      6\u001b[0m \u001b[0max\u001b[0m\u001b[1;33m.\u001b[0m\u001b[0mset_xticks\u001b[0m\u001b[1;33m(\u001b[0m\u001b[0mbins\u001b[0m\u001b[1;33m[\u001b[0m\u001b[1;33m:\u001b[0m\u001b[1;33m-\u001b[0m\u001b[1;36m1\u001b[0m\u001b[1;33m]\u001b[0m \u001b[1;33m+\u001b[0m \u001b[1;36m0.5\u001b[0m\u001b[1;33m)\u001b[0m\u001b[1;33m\u001b[0m\u001b[1;33m\u001b[0m\u001b[0m\n",
      "\u001b[1;31mTypeError\u001b[0m: can only concatenate str (not \"float\") to str"
     ]
    },
    {
     "data": {
      "image/png": "[encoded data removed]",
      "text/plain": [
       "<Figure size 936x216 with 4 Axes>"
      ]
     },
     "metadata": {},
     "output_type": "display_data"
    }
   ],
   "source": [
    "fig, axes = plt.subplots(1, 4, figsize=(13,3))\n",
    "ax = axes[0]\n",
    "data = df['Award Type'].values\n",
    "bins = np.arange(1, data.max() + 1.5) - 0.5\n",
    "ax.hist(data, bins, ec='black')\n",
    "ax.set_xticks(bins[:-1] + 0.5)\n",
    "ax.set_xlabel('Award Type')\n",
    "ax.set_ylabel('Frequency')\n",
    "ax = axes[1]\n",
    "data = df['Gender'].values\n",
    "bins = np.arange(1, data.max() + 1.5) - 0.5\n",
    "ax.hist(data, bins, ec='black')\n",
    "ax.set_xticks(bins[:-1] + 0.5)\n",
    "ax.set_xlabel('Gender')\n",
    "ax = axes[2]\n",
    "data = df['Training Level'].values\n",
    "bins = np.arange(1, data.max() + 1.5) - 0.5\n",
    "ax.hist(data, bins, ec='black')\n",
    "ax.set_xticks(bins[:-1] + 0.5)\n",
    "ax.set_xlabel('Training Level')\n",
    "ax = axes[3]\n",
    "data = df['Year'].values\n",
    "ax.hist(data, ec='black')\n",
    "ax.set_ylabel('# Of Awards')\n",
    "ax.set_xlabel('Year')\n",
    "if annotate: [annotate_bars(a) for a in axes]\n",
    "fig.tight_layout()\n",
    "plt.show()"
   ]
  },
  {
   "cell_type": "code",
   "execution_count": null,
   "metadata": {},
   "outputs": [],
   "source": [
    "df['Society']"
   ]
  },
  {
   "cell_type": "code",
   "execution_count": 91,
   "metadata": {},
   "outputs": [
    {
     "name": "stderr",
     "output_type": "stream",
     "text": [
      "<ipython-input-91-423e3703f4b3>:8: RuntimeWarning: invalid value encountered in longlong_scalars\n",
      "  p = fem/n\n",
      "<ipython-input-91-423e3703f4b3>:8: RuntimeWarning: invalid value encountered in longlong_scalars\n",
      "  p = fem/n\n",
      "<ipython-input-91-423e3703f4b3>:8: RuntimeWarning: invalid value encountered in longlong_scalars\n",
      "  p = fem/n\n",
      "<ipython-input-91-423e3703f4b3>:8: RuntimeWarning: invalid value encountered in longlong_scalars\n",
      "  p = fem/n\n"
     ]
    }
   ],
   "source": [
    "def get_p(lwr_yr=-np.inf, upr_yr=np.inf, df=df, soc='all'):\n",
    "    if soc!='all':\n",
    "        df = df[df['Society']==soc]\n",
    "    cond = (df['Year']<upr_yr) & (df['Year']>lwr_yr)\n",
    "    fem = df[cond][['Male', 'Female']].sum()[1]\n",
    "    male = df[cond][['Male', 'Female']].sum()[0]\n",
    "    n = fem+male\n",
    "    p = fem/n\n",
    "    p_err = np.sqrt(p*(1-p)/n)\n",
    "    return np.array([p, p_err])\n",
    "\n",
    "yrs_l = ['<2000', '2000-2010', '>2010']\n",
    "yrs = [-np.inf, 2000, 2010, np.inf]\n",
    "\n",
    "# total\n",
    "def get_p_and_err(soc='all'):\n",
    "    p_arr = np.array([get_p(yrs[i], yrs[i+1], soc=soc) for i in range(len(yrs)-1)])\n",
    "    p = p_arr.T[0]\n",
    "    p_err = p_arr.T[1]\n",
    "    return p, p_err\n",
    "\n",
    "p_all, p_err_all = get_p_and_err()\n",
    "p_cos, p_err_cos = get_p_and_err(soc='COS')\n",
    "p_cgs, p_err_cgs = get_p_and_err(soc='CGS')\n",
    "p_eps, p_err_eps = get_p_and_err(soc='EPS')\n",
    "# "
   ]
  },
  {
   "cell_type": "code",
   "execution_count": 92,
   "metadata": {},
   "outputs": [
    {
     "data": {
      "image/png": "[encoded data removed]",
      "text/plain": [
       "<Figure size 360x288 with 1 Axes>"
      ]
     },
     "metadata": {},
     "output_type": "display_data"
    }
   ],
   "source": [
    "plt.figure(figsize=(5,4))\n",
    "plt.errorbar(yrs_l, 100*p_all, 100*p_err_all, fmt='go--')\n",
    "plt.ylabel('Female Awards [Percentage]')\n",
    "plt.xlabel('Year')\n",
    "plt.minorticks_off()\n",
    "plt.grid()"
   ]
  },
  {
   "cell_type": "code",
   "execution_count": 93,
   "metadata": {},
   "outputs": [
    {
     "data": {
      "text/plain": [
       "array([0.13333333, 0.14634146, 0.32692308])"
      ]
     },
     "execution_count": 93,
     "metadata": {},
     "output_type": "execute_result"
    }
   ],
   "source": [
    "p_all"
   ]
  },
  {
   "cell_type": "code",
   "execution_count": 94,
   "metadata": {},
   "outputs": [
    {
     "data": {
      "text/plain": [
       "array([0.08777075, 0.05519934, 0.03755717])"
      ]
     },
     "execution_count": 94,
     "metadata": {},
     "output_type": "execute_result"
    }
   ],
   "source": [
    "p_err_all"
   ]
  },
  {
   "cell_type": "code",
   "execution_count": 95,
   "metadata": {},
   "outputs": [
    {
     "data": {
      "text/plain": [
       "['<2000', '2000-2010', '>2010']"
      ]
     },
     "execution_count": 95,
     "metadata": {},
     "output_type": "execute_result"
    }
   ],
   "source": [
    "yrs_l"
   ]
  },
  {
   "cell_type": "code",
   "execution_count": 96,
   "metadata": {},
   "outputs": [
    {
     "data": {
      "image/png": "[encoded data removed]",
      "text/plain": [
       "<Figure size 936x360 with 3 Axes>"
      ]
     },
     "metadata": {},
     "output_type": "display_data"
    }
   ],
   "source": [
    "fig, ax = plt.subplots(1, 3, figsize=(13,5))\n",
    "ax[0].errorbar(yrs_l, 100*p_cos, 100*p_err_cos, fmt='go--')\n",
    "ax[1].errorbar(yrs_l, 100*p_cgs, 100*p_err_cgs, fmt='go--')\n",
    "ax[2].errorbar(yrs_l, 100*p_eps, 100*p_err_eps, fmt='go--')\n",
    "ax[0].set_title('COS')\n",
    "ax[1].set_title('CGS')\n",
    "ax[2].set_title('EPS')\n",
    "ax[0].set_ylabel('% Females with Awards')\n",
    "if annotate: [annotate_bars(a) for a in ax]\n",
    "fig.tight_layout()\n",
    "plt.show()"
   ]
  },
  {
   "cell_type": "markdown",
   "metadata": {},
   "source": [
    "# Societies"
   ]
  },
  {
   "cell_type": "code",
   "execution_count": 97,
   "metadata": {},
   "outputs": [],
   "source": [
    "societies = list(df.groupby('Society').sum().index)\n",
    "societies[2] = 'Eye'\n",
    "male = df.groupby('Society').sum()['Male'].values\n",
    "fem = df.groupby('Society').sum()['Female'].values\n",
    "n = fem+male\n",
    "p = fem/n\n",
    "p_err = np.sqrt(p*(1-p)/n)"
   ]
  },
  {
   "cell_type": "code",
   "execution_count": 98,
   "metadata": {},
   "outputs": [
    {
     "data": {
      "image/png": "[encoded data removed]",
      "text/plain": [
       "<Figure size 360x288 with 1 Axes>"
      ]
     },
     "metadata": {},
     "output_type": "display_data"
    }
   ],
   "source": [
    "fig, ax = plt.subplots(1,1,figsize=(5,4))\n",
    "ax.set_ylabel('% Females With Awards')\n",
    "ax.minorticks_off()\n",
    "ax.set_xlabel('Society')\n",
    "ax.bar(societies, 100*p)\n",
    "ax.errorbar(societies, 100*p, yerr=100*p_err, fmt=\"o\", color=\"r\")\n",
    "if annotate: annotate_bars(ax)\n",
    "plt.show()"
   ]
  },
  {
   "cell_type": "markdown",
   "metadata": {},
   "source": [
    "# Training Level"
   ]
  },
  {
   "cell_type": "markdown",
   "metadata": {},
   "source": [
    "Maybe use Wilson score as error on $\\hat{p}$"
   ]
  },
  {
   "cell_type": "code",
   "execution_count": 99,
   "metadata": {},
   "outputs": [],
   "source": [
    "t_level = list(df.groupby('Training Level').sum().index)\n",
    "male = df.groupby('Training Level').sum()['Male'].values\n",
    "fem = df.groupby('Training Level').sum()['Female'].values\n",
    "n = fem+male\n",
    "p = fem/n\n",
    "p_err = np.sqrt(p*(1-p)/n)"
   ]
  },
  {
   "cell_type": "code",
   "execution_count": 100,
   "metadata": {},
   "outputs": [
    {
     "data": {
      "image/png": "[encoded data removed]",
      "text/plain": [
       "<Figure size 360x288 with 1 Axes>"
      ]
     },
     "metadata": {},
     "output_type": "display_data"
    }
   ],
   "source": [
    "fig, ax = plt.subplots(1,1,figsize=(5,4))\n",
    "ax.set_ylabel('% Females With Awards')\n",
    "ax.minorticks_off()\n",
    "ax.set_xlabel('Training Level')\n",
    "ax.bar(t_level, 100*p)\n",
    "ax.errorbar(t_level, 100*p, yerr=100*p_err, fmt=\"o\", color=\"r\")\n",
    "plt.xticks([-1,1,2,3,4,5])\n",
    "if annotate: annotate_bars(ax)\n",
    "plt.show()"
   ]
  },
  {
   "cell_type": "markdown",
   "metadata": {},
   "source": [
    "# Award Type"
   ]
  },
  {
   "cell_type": "code",
   "execution_count": 101,
   "metadata": {},
   "outputs": [],
   "source": [
    "a_type = list(df.groupby('Award Type').sum().index)\n",
    "male = df.groupby('Award Type').sum()['Male'].values\n",
    "fem = df.groupby('Award Type').sum()['Female'].values\n",
    "n = fem+male\n",
    "p = fem/n\n",
    "p_err = np.sqrt(p*(1-p)/n)"
   ]
  },
  {
   "cell_type": "code",
   "execution_count": 102,
   "metadata": {},
   "outputs": [
    {
     "data": {
      "image/png": "[encoded data removed]",
      "text/plain": [
       "<Figure size 360x288 with 1 Axes>"
      ]
     },
     "metadata": {},
     "output_type": "display_data"
    }
   ],
   "source": [
    "fig, ax = plt.subplots(1,1,figsize=(5,4))\n",
    "ax.set_ylabel('% Females With Awards')\n",
    "ax.minorticks_off()\n",
    "ax.set_xlabel('Award Type')\n",
    "ax.bar(a_type, 100*p)\n",
    "ax.errorbar(a_type, 100*p, yerr=100*p_err, fmt=\"o\", color=\"r\")\n",
    "if annotate: annotate_bars(ax)\n",
    "plt.show()"
   ]
  },
  {
   "cell_type": "markdown",
   "metadata": {},
   "source": [
    "# Societies and Years Awards Were Handed Out"
   ]
  },
  {
   "cell_type": "code",
   "execution_count": 181,
   "metadata": {},
   "outputs": [],
   "source": [
    "societies = list(df.groupby('Society').sum().index)\n",
    "years0 = df[df['Society']==societies[0]].Year.values.astype(int)\n",
    "years1 = df[df['Society']==societies[1]].Year.values.astype(int)\n",
    "years2 = df[df['Society']==societies[2]].Year.values.astype(int)"
   ]
  },
  {
   "cell_type": "code",
   "execution_count": 182,
   "metadata": {},
   "outputs": [],
   "source": [
    "unique0, counts0 = np.unique(years0, return_counts=True)\n",
    "unique1, counts1 = np.unique(years1, return_counts=True)\n",
    "unique2, counts2 = np.unique(years2, return_counts=True)"
   ]
  },
  {
   "cell_type": "code",
   "execution_count": 183,
   "metadata": {},
   "outputs": [
    {
     "data": {
      "image/png": "[encoded data removed]",
      "text/plain": [
       "<Figure size 576x216 with 1 Axes>"
      ]
     },
     "metadata": {},
     "output_type": "display_data"
    }
   ],
   "source": [
    "fig, ax = plt.subplots(1, 1, figsize=(8,3))\n",
    "ax.plot(unique0, counts0, 'o--', color='green', label=societies[0])\n",
    "ax.plot(unique1, counts1, 'o--', color='k', label=societies[1])\n",
    "ax.plot(unique2, counts2, 'o--', color='blue', label=societies[2])\n",
    "ax.set_ylabel(award_cnt_label)\n",
    "ax.minorticks_on()\n",
    "ax.legend(fontsize=14)\n",
    "ax.grid(which='both')\n",
    "ax.set_xlim(left=1990)\n",
    "fig.tight_layout()\n",
    "plt.savefig('plots/plot9.png', dpi=200)"
   ]
  },
  {
   "cell_type": "code",
   "execution_count": 277,
   "metadata": {},
   "outputs": [
    {
     "data": {
      "image/png": "[encoded data removed]",
      "text/plain": [
       "<Figure size 936x216 with 3 Axes>"
      ]
     },
     "metadata": {},
     "output_type": "display_data"
    }
   ],
   "source": [
    "fig, axes = plt.subplots(1, 3, figsize=(13,3))\n",
    "bins = np.arange(years0.min()-1+0.5, years0.max()+0.5) \n",
    "axes[0].hist(years0, bins=bins, ec='white', color='k')\n",
    "axes[0].set_title(societies[0])\n",
    "axes[0].set_ylabel(award_cnt_label)\n",
    "bins = np.arange(years1.min()-1+0.5, years1.max()+0.5) \n",
    "axes[1].hist(years1, bins=bins, ec='white', color='k')\n",
    "axes[1].set_title(societies[1])\n",
    "bins = np.arange(years2.min()-1+0.5, years2.max() +0.5) \n",
    "axes[2].hist(years2, bins=bins, ec='white', color='k')\n",
    "axes[2].set_title(societies[2], fontsize=12)\n",
    "fig.tight_layout()\n",
    "fig.text(0.5, -0.05, 'Year', fontsize=20)\n",
    "plt.savefig('plots/plot7.png', dpi=200)\n",
    "plt.show()"
   ]
  },
  {
   "cell_type": "markdown",
   "metadata": {},
   "source": []
  },
  {
   "cell_type": "code",
   "execution_count": null,
   "metadata": {},
   "outputs": [],
   "source": []
  },
  {
   "cell_type": "code",
   "execution_count": null,
   "metadata": {},
   "outputs": [],
   "source": []
  },
  {
   "cell_type": "code",
   "execution_count": null,
   "metadata": {},
   "outputs": [],
   "source": []
  },
  {
   "cell_type": "code",
   "execution_count": null,
   "metadata": {},
   "outputs": [],
   "source": []
  },
  {
   "cell_type": "code",
   "execution_count": null,
   "metadata": {},
   "outputs": [],
   "source": []
  },
  {
   "cell_type": "code",
   "execution_count": null,
   "metadata": {},
   "outputs": [],
   "source": []
  },
  {
   "cell_type": "code",
   "execution_count": null,
   "metadata": {},
   "outputs": [],
   "source": []
  },
  {
   "cell_type": "code",
   "execution_count": null,
   "metadata": {},
   "outputs": [],
   "source": []
  },
  {
   "cell_type": "markdown",
   "metadata": {},
   "source": [
    "# Extra (OBtaining Genders From Website)"
   ]
  },
  {
   "cell_type": "code",
   "execution_count": 37,
   "metadata": {},
   "outputs": [],
   "source": [
    "def get_genders(names):\n",
    "    pred_genders = []\n",
    "    myKey = \"JljB4rjnA72npkDnX9kBzqVneqV8BQZRU2Zz\"\n",
    "    for name in names:\n",
    "        url = \"https://gender-api.com/get?key=\" + myKey + \"&split={}\".format(name)\n",
    "        response = urlopen(url)\n",
    "        decoded = response.read().decode('utf-8')\n",
    "        data = json.loads(decoded)\n",
    "        pred_genders.append(data['gender'])\n",
    "    return pred_genders\n"
   ]
  },
  {
   "cell_type": "code",
   "execution_count": 38,
   "metadata": {},
   "outputs": [
    {
     "name": "stderr",
     "output_type": "stream",
     "text": [
      "<ipython-input-35-aaec7cf2b4aa>:14: SettingWithCopyWarning: \n",
      "A value is trying to be set on a copy of a slice from a DataFrame\n",
      "\n",
      "See the caveats in the documentation: https://pandas.pydata.org/pandas-docs/stable/user_guide/indexing.html#returning-a-view-versus-a-copy\n",
      "  df['Society'][df['Society']=='Eye physicians and surgeons of Ontario'] = 'EPS'\n",
      "<ipython-input-35-aaec7cf2b4aa>:15: SettingWithCopyWarning: \n",
      "A value is trying to be set on a copy of a slice from a DataFrame\n",
      "\n",
      "See the caveats in the documentation: https://pandas.pydata.org/pandas-docs/stable/user_guide/indexing.html#returning-a-view-versus-a-copy\n",
      "  df['Society'][df['Society']=='*COS'] = 'COS'\n"
     ]
    }
   ],
   "source": [
    "df = open_df('gender_data3.csv', dropna=False)"
   ]
  },
  {
   "cell_type": "code",
   "execution_count": 39,
   "metadata": {},
   "outputs": [],
   "source": [
    "pred_genders = get_genders(df['FName'].values)"
   ]
  },
  {
   "cell_type": "code",
   "execution_count": 40,
   "metadata": {},
   "outputs": [],
   "source": [
    "df['pred_genders'] = pred_genders\n",
    "df.to_csv('gender_data_predicted.csv')"
   ]
  },
  {
   "cell_type": "code",
   "execution_count": 41,
   "metadata": {},
   "outputs": [
    {
     "data": {
      "text/html": [
       "<div>\n",
       "<style scoped>\n",
       "    .dataframe tbody tr th:only-of-type {\n",
       "        vertical-align: middle;\n",
       "    }\n",
       "\n",
       "    .dataframe tbody tr th {\n",
       "        vertical-align: top;\n",
       "    }\n",
       "\n",
       "    .dataframe thead th {\n",
       "        text-align: right;\n",
       "    }\n",
       "</style>\n",
       "<table border=\"1\" class=\"dataframe\">\n",
       "  <thead>\n",
       "    <tr style=\"text-align: right;\">\n",
       "      <th></th>\n",
       "      <th>Society</th>\n",
       "      <th>Award Type</th>\n",
       "      <th>Year</th>\n",
       "      <th>Award Winner</th>\n",
       "      <th>Training Level</th>\n",
       "      <th>Gender</th>\n",
       "      <th>Male</th>\n",
       "      <th>Female</th>\n",
       "      <th>FName</th>\n",
       "      <th>LName</th>\n",
       "      <th>pred_genders</th>\n",
       "    </tr>\n",
       "  </thead>\n",
       "  <tbody>\n",
       "    <tr>\n",
       "      <th>0</th>\n",
       "      <td>COS</td>\n",
       "      <td>3</td>\n",
       "      <td>2021</td>\n",
       "      <td>Brian Leonard</td>\n",
       "      <td>1</td>\n",
       "      <td>1</td>\n",
       "      <td>True</td>\n",
       "      <td>False</td>\n",
       "      <td>Brian</td>\n",
       "      <td>Leonard</td>\n",
       "      <td>male</td>\n",
       "    </tr>\n",
       "    <tr>\n",
       "      <th>1</th>\n",
       "      <td>COS</td>\n",
       "      <td>3</td>\n",
       "      <td>2020</td>\n",
       "      <td>Simon Holland</td>\n",
       "      <td>1</td>\n",
       "      <td>1</td>\n",
       "      <td>True</td>\n",
       "      <td>False</td>\n",
       "      <td>Simon</td>\n",
       "      <td>Holland</td>\n",
       "      <td>male</td>\n",
       "    </tr>\n",
       "    <tr>\n",
       "      <th>2</th>\n",
       "      <td>COS</td>\n",
       "      <td>3</td>\n",
       "      <td>2019</td>\n",
       "      <td>Helene Boisjoly</td>\n",
       "      <td>1</td>\n",
       "      <td>2</td>\n",
       "      <td>False</td>\n",
       "      <td>True</td>\n",
       "      <td>Helene</td>\n",
       "      <td>Boisjoly</td>\n",
       "      <td>female</td>\n",
       "    </tr>\n",
       "    <tr>\n",
       "      <th>3</th>\n",
       "      <td>COS</td>\n",
       "      <td>3</td>\n",
       "      <td>2018</td>\n",
       "      <td>Graham Trope</td>\n",
       "      <td>3</td>\n",
       "      <td>1</td>\n",
       "      <td>True</td>\n",
       "      <td>False</td>\n",
       "      <td>Graham</td>\n",
       "      <td>Trope</td>\n",
       "      <td>male</td>\n",
       "    </tr>\n",
       "    <tr>\n",
       "      <th>4</th>\n",
       "      <td>COS</td>\n",
       "      <td>3</td>\n",
       "      <td>2017</td>\n",
       "      <td>Seymour Brownstein</td>\n",
       "      <td>1</td>\n",
       "      <td>1</td>\n",
       "      <td>True</td>\n",
       "      <td>False</td>\n",
       "      <td>Seymour</td>\n",
       "      <td>Brownstein</td>\n",
       "      <td>male</td>\n",
       "    </tr>\n",
       "    <tr>\n",
       "      <th>...</th>\n",
       "      <td>...</td>\n",
       "      <td>...</td>\n",
       "      <td>...</td>\n",
       "      <td>...</td>\n",
       "      <td>...</td>\n",
       "      <td>...</td>\n",
       "      <td>...</td>\n",
       "      <td>...</td>\n",
       "      <td>...</td>\n",
       "      <td>...</td>\n",
       "      <td>...</td>\n",
       "    </tr>\n",
       "    <tr>\n",
       "      <th>220</th>\n",
       "      <td>EPS</td>\n",
       "      <td>3</td>\n",
       "      <td>2013</td>\n",
       "      <td>Jeff Sher</td>\n",
       "      <td>1</td>\n",
       "      <td>1</td>\n",
       "      <td>True</td>\n",
       "      <td>False</td>\n",
       "      <td>Jeff</td>\n",
       "      <td>Sher</td>\n",
       "      <td>male</td>\n",
       "    </tr>\n",
       "    <tr>\n",
       "      <th>221</th>\n",
       "      <td>EPS</td>\n",
       "      <td>3</td>\n",
       "      <td>2012</td>\n",
       "      <td>Jeff Hurwitz</td>\n",
       "      <td>1</td>\n",
       "      <td>1</td>\n",
       "      <td>True</td>\n",
       "      <td>False</td>\n",
       "      <td>Jeff</td>\n",
       "      <td>Hurwitz</td>\n",
       "      <td>male</td>\n",
       "    </tr>\n",
       "    <tr>\n",
       "      <th>222</th>\n",
       "      <td>EPS</td>\n",
       "      <td>3</td>\n",
       "      <td>2011</td>\n",
       "      <td>John Fowler</td>\n",
       "      <td>1</td>\n",
       "      <td>1</td>\n",
       "      <td>True</td>\n",
       "      <td>False</td>\n",
       "      <td>John</td>\n",
       "      <td>Fowler</td>\n",
       "      <td>male</td>\n",
       "    </tr>\n",
       "    <tr>\n",
       "      <th>223</th>\n",
       "      <td>EPS</td>\n",
       "      <td>1</td>\n",
       "      <td>2017</td>\n",
       "      <td>John Fowler</td>\n",
       "      <td>1</td>\n",
       "      <td>1</td>\n",
       "      <td>True</td>\n",
       "      <td>False</td>\n",
       "      <td>John</td>\n",
       "      <td>Fowler</td>\n",
       "      <td>male</td>\n",
       "    </tr>\n",
       "    <tr>\n",
       "      <th>224</th>\n",
       "      <td>EPS</td>\n",
       "      <td>3</td>\n",
       "      <td>2019</td>\n",
       "      <td>Kylen McReelis</td>\n",
       "      <td>1</td>\n",
       "      <td>1</td>\n",
       "      <td>True</td>\n",
       "      <td>False</td>\n",
       "      <td>Kylen</td>\n",
       "      <td>McReelis</td>\n",
       "      <td>male</td>\n",
       "    </tr>\n",
       "  </tbody>\n",
       "</table>\n",
       "<p>225 rows × 11 columns</p>\n",
       "</div>"
      ],
      "text/plain": [
       "    Society  Award Type  Year        Award Winner  Training Level  Gender  \\\n",
       "0       COS           3  2021       Brian Leonard               1       1   \n",
       "1       COS           3  2020       Simon Holland               1       1   \n",
       "2       COS           3  2019     Helene Boisjoly               1       2   \n",
       "3       COS           3  2018        Graham Trope               3       1   \n",
       "4       COS           3  2017  Seymour Brownstein               1       1   \n",
       "..      ...         ...   ...                 ...             ...     ...   \n",
       "220     EPS           3  2013           Jeff Sher               1       1   \n",
       "221     EPS           3  2012        Jeff Hurwitz               1       1   \n",
       "222     EPS           3  2011         John Fowler               1       1   \n",
       "223     EPS           1  2017         John Fowler               1       1   \n",
       "224     EPS           3  2019      Kylen McReelis               1       1   \n",
       "\n",
       "      Male  Female    FName       LName pred_genders  \n",
       "0     True   False    Brian     Leonard         male  \n",
       "1     True   False    Simon     Holland         male  \n",
       "2    False    True   Helene    Boisjoly       female  \n",
       "3     True   False   Graham       Trope         male  \n",
       "4     True   False  Seymour  Brownstein         male  \n",
       "..     ...     ...      ...         ...          ...  \n",
       "220   True   False     Jeff        Sher         male  \n",
       "221   True   False     Jeff     Hurwitz         male  \n",
       "222   True   False     John      Fowler         male  \n",
       "223   True   False     John      Fowler         male  \n",
       "224   True   False    Kylen    McReelis         male  \n",
       "\n",
       "[225 rows x 11 columns]"
      ]
     },
     "execution_count": 41,
     "metadata": {},
     "output_type": "execute_result"
    }
   ],
   "source": [
    "df"
   ]
  }
 ],
 "metadata": {
  "kernelspec": {
   "display_name": "Python 3",
   "language": "python",
   "name": "python3"
  },
  "language_info": {
   "codemirror_mode": {
    "name": "ipython",
    "version": 3
   },
   "file_extension": ".py",
   "mimetype": "text/x-python",
   "name": "python",
   "nbconvert_exporter": "python",
   "pygments_lexer": "ipython3",
   "version": "3.8.5"
  }
 },
 "nbformat": 4,
 "nbformat_minor": 4
}
