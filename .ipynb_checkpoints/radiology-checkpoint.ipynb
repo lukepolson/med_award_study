{
 "cells": [
  {
   "cell_type": "code",
   "execution_count": 1,
   "metadata": {},
   "outputs": [],
   "source": [
    "import json\n",
    "from urllib.request import urlopen\n",
    "import numpy as np\n",
    "import pandas as pd\n",
    "import matplotlib.pyplot as plt\n",
    "import matplotlib\n",
    "import scipy.stats\n",
    "from collections import Counter\n",
    "from scipy.stats import binom_test\n",
    "from scipy.stats import fisher_exact\n",
    "from scipy.stats import chi2_contingency\n",
    "from itertools import cycle, islice\n",
    "plt.style.use('seaborn')\n",
    "\n",
    "def annotate_bars(ax):\n",
    "    for p in ax.patches:\n",
    "        ax.annotate('{}'.format(p.get_height()), (p.get_x()+p.get_width()/2, p.get_height()),\n",
    "                   bbox={'facecolor': 'white', 'alpha': 1, 'pad': 1}, ha='center', fontsize=10)"
   ]
  },
  {
   "cell_type": "markdown",
   "metadata": {},
   "source": [
    "# Preprocessing"
   ]
  },
  {
   "cell_type": "markdown",
   "metadata": {},
   "source": [
    "* Gender\n",
    "* Change Kupura to female\n",
    "* Award Recipients Y axis\n",
    "* X axis all labels\n",
    "* 2019-2021 all societies"
   ]
  },
  {
   "cell_type": "code",
   "execution_count": 2,
   "metadata": {},
   "outputs": [],
   "source": [
    "award_cnt_label='Total Number of Award Recipients'"
   ]
  },
  {
   "cell_type": "code",
   "execution_count": 3,
   "metadata": {},
   "outputs": [],
   "source": [
    "df = pd.read_csv('gender_data3.csv', delimiter=',', usecols=np.arange(0,6))"
   ]
  },
  {
   "cell_type": "code",
<<<<<<< HEAD:Untitled1.ipynb
   "execution_count": 26,
=======
   "execution_count": 4,
>>>>>>> db1c9d4d8b7e0f4dfcc072b2ae1cad3df903c329:.ipynb_checkpoints/radiology-checkpoint.ipynb
   "metadata": {},
   "outputs": [
    {
     "name": "stderr",
     "output_type": "stream",
     "text": [
<<<<<<< HEAD:Untitled1.ipynb
      "/Users/lukepolson/anaconda3/lib/python3.6/site-packages/ipykernel_launcher.py:14: SettingWithCopyWarning: \n",
      "A value is trying to be set on a copy of a slice from a DataFrame\n",
      "\n",
      "See the caveats in the documentation: https://pandas.pydata.org/pandas-docs/stable/user_guide/indexing.html#returning-a-view-versus-a-copy\n",
      "  \n",
      "/Users/lukepolson/anaconda3/lib/python3.6/site-packages/ipykernel_launcher.py:15: SettingWithCopyWarning: \n",
=======
      "<ipython-input-4-aaec7cf2b4aa>:14: SettingWithCopyWarning: \n",
      "A value is trying to be set on a copy of a slice from a DataFrame\n",
      "\n",
      "See the caveats in the documentation: https://pandas.pydata.org/pandas-docs/stable/user_guide/indexing.html#returning-a-view-versus-a-copy\n",
      "  df['Society'][df['Society']=='Eye physicians and surgeons of Ontario'] = 'EPS'\n",
      "<ipython-input-4-aaec7cf2b4aa>:15: SettingWithCopyWarning: \n",
>>>>>>> db1c9d4d8b7e0f4dfcc072b2ae1cad3df903c329:.ipynb_checkpoints/radiology-checkpoint.ipynb
      "A value is trying to be set on a copy of a slice from a DataFrame\n",
      "\n",
      "See the caveats in the documentation: https://pandas.pydata.org/pandas-docs/stable/user_guide/indexing.html#returning-a-view-versus-a-copy\n",
      "  from ipykernel import kernelapp as app\n"
     ]
    },
    {
     "data": {
      "text/html": [
       "<div>\n",
       "<style scoped>\n",
       "    .dataframe tbody tr th:only-of-type {\n",
       "        vertical-align: middle;\n",
       "    }\n",
       "\n",
       "    .dataframe tbody tr th {\n",
       "        vertical-align: top;\n",
       "    }\n",
       "\n",
       "    .dataframe thead th {\n",
       "        text-align: right;\n",
       "    }\n",
       "</style>\n",
       "<table border=\"1\" class=\"dataframe\">\n",
       "  <thead>\n",
       "    <tr style=\"text-align: right;\">\n",
       "      <th></th>\n",
       "      <th>Society</th>\n",
       "      <th>Award Type</th>\n",
       "      <th>Year</th>\n",
       "      <th>Award Winner</th>\n",
       "      <th>Training Level</th>\n",
       "      <th>Gender</th>\n",
       "      <th>Male</th>\n",
       "      <th>Female</th>\n",
       "      <th>FName</th>\n",
       "      <th>LName</th>\n",
       "    </tr>\n",
       "  </thead>\n",
       "  <tbody>\n",
       "    <tr>\n",
       "      <th>0</th>\n",
       "      <td>COS</td>\n",
       "      <td>3</td>\n",
       "      <td>2021</td>\n",
       "      <td>Brian Leonard</td>\n",
       "      <td>1</td>\n",
       "      <td>1</td>\n",
       "      <td>True</td>\n",
       "      <td>False</td>\n",
       "      <td>Brian</td>\n",
       "      <td>Leonard</td>\n",
       "    </tr>\n",
       "    <tr>\n",
       "      <th>1</th>\n",
       "      <td>COS</td>\n",
       "      <td>3</td>\n",
       "      <td>2020</td>\n",
       "      <td>Simon Holland</td>\n",
       "      <td>1</td>\n",
       "      <td>1</td>\n",
       "      <td>True</td>\n",
       "      <td>False</td>\n",
       "      <td>Simon</td>\n",
       "      <td>Holland</td>\n",
       "    </tr>\n",
       "    <tr>\n",
       "      <th>2</th>\n",
       "      <td>COS</td>\n",
       "      <td>3</td>\n",
       "      <td>2019</td>\n",
       "      <td>Helene Boisjoly</td>\n",
       "      <td>1</td>\n",
       "      <td>2</td>\n",
       "      <td>False</td>\n",
       "      <td>True</td>\n",
       "      <td>Helene</td>\n",
       "      <td>Boisjoly</td>\n",
       "    </tr>\n",
       "    <tr>\n",
       "      <th>3</th>\n",
       "      <td>COS</td>\n",
       "      <td>3</td>\n",
       "      <td>2018</td>\n",
       "      <td>Graham Trope</td>\n",
       "      <td>3</td>\n",
       "      <td>1</td>\n",
       "      <td>True</td>\n",
       "      <td>False</td>\n",
       "      <td>Graham</td>\n",
       "      <td>Trope</td>\n",
       "    </tr>\n",
       "    <tr>\n",
       "      <th>4</th>\n",
       "      <td>COS</td>\n",
       "      <td>3</td>\n",
       "      <td>2017</td>\n",
       "      <td>Seymour Brownstein</td>\n",
       "      <td>1</td>\n",
       "      <td>1</td>\n",
       "      <td>True</td>\n",
       "      <td>False</td>\n",
       "      <td>Seymour</td>\n",
       "      <td>Brownstein</td>\n",
       "    </tr>\n",
       "  </tbody>\n",
       "</table>\n",
       "</div>"
      ],
      "text/plain": [
       "  Society  Award Type  Year        Award Winner  Training Level  Gender  \\\n",
       "0     COS           3  2021       Brian Leonard               1       1   \n",
       "1     COS           3  2020       Simon Holland               1       1   \n",
       "2     COS           3  2019     Helene Boisjoly               1       2   \n",
       "3     COS           3  2018        Graham Trope               3       1   \n",
       "4     COS           3  2017  Seymour Brownstein               1       1   \n",
       "\n",
       "    Male  Female    FName       LName  \n",
       "0   True   False    Brian     Leonard  \n",
       "1   True   False    Simon     Holland  \n",
       "2  False    True   Helene    Boisjoly  \n",
       "3   True   False   Graham       Trope  \n",
       "4   True   False  Seymour  Brownstein  "
      ]
     },
<<<<<<< HEAD:Untitled1.ipynb
     "execution_count": 26,
=======
     "execution_count": 4,
>>>>>>> db1c9d4d8b7e0f4dfcc072b2ae1cad3df903c329:.ipynb_checkpoints/radiology-checkpoint.ipynb
     "metadata": {},
     "output_type": "execute_result"
    }
   ],
   "source": [
    "def open_df(path, dropna=True):\n",
    "    df = pd.read_csv(path, delimiter=',', usecols=np.arange(0,6))\n",
    "    #df['Training Level'] = df['Training Level'].str.extract('(\\d+)')\n",
    "    df['Year'] = df['Year'].str.extract('(\\d+)').astype(int)\n",
    "    if dropna:\n",
    "        df = df.dropna()\n",
    "    df = df.replace(np.NaN, -1)\n",
    "    df['Training Level'] = df['Training Level'].values.astype(int)\n",
    "    df['Gender'] =df['Gender'].values.astype(int)\n",
    "    df['Male'] = df['Gender']==1\n",
    "    df['Female'] = df['Gender']==2\n",
    "    df['FName'] = df['Award Winner'].apply(lambda x: x.split(' ')[0])\n",
    "    df['LName'] = df['Award Winner'].apply(lambda x: x.split(' ')[1])\n",
    "    df['Society'][df['Society']=='Eye physicians and surgeons of Ontario'] = 'EPS'\n",
    "    df['Society'][df['Society']=='*COS'] = 'COS'\n",
    "    df[\"Training Level\"].replace({-1: 5}, inplace=True)\n",
    "    return df\n",
    "\n",
    "df = open_df('gender_data3.csv')\n",
    "df.head()"
   ]
  },
  {
   "cell_type": "code",
<<<<<<< HEAD:Untitled1.ipynb
   "execution_count": 27,
=======
   "execution_count": 5,
>>>>>>> db1c9d4d8b7e0f4dfcc072b2ae1cad3df903c329:.ipynb_checkpoints/radiology-checkpoint.ipynb
   "metadata": {},
   "outputs": [
    {
     "name": "stderr",
     "output_type": "stream",
     "text": [
<<<<<<< HEAD:Untitled1.ipynb
      "/Users/lukepolson/anaconda3/lib/python3.6/site-packages/ipykernel_launcher.py:4: SettingWithCopyWarning: \n",
=======
      "<ipython-input-5-09d2c9652ce0>:4: SettingWithCopyWarning: \n",
>>>>>>> db1c9d4d8b7e0f4dfcc072b2ae1cad3df903c329:.ipynb_checkpoints/radiology-checkpoint.ipynb
      "A value is trying to be set on a copy of a slice from a DataFrame\n",
      "\n",
      "See the caveats in the documentation: https://pandas.pydata.org/pandas-docs/stable/user_guide/indexing.html#returning-a-view-versus-a-copy\n",
      "  after removing the cwd from sys.path.\n",
      "/Users/lukepolson/.local/lib/python3.6/site-packages/pandas/core/indexing.py:670: SettingWithCopyWarning: \n",
      "A value is trying to be set on a copy of a slice from a DataFrame\n",
      "\n",
      "See the caveats in the documentation: https://pandas.pydata.org/pandas-docs/stable/user_guide/indexing.html#returning-a-view-versus-a-copy\n",
      "  iloc._setitem_with_indexer(indexer, value)\n"
     ]
    }
   ],
   "source": [
    "df = pd.read_csv('gender_data_predicted.csv')\n",
    "df['Male_p'] = df['pred_genders'].values=='male'\n",
    "df['Female_p'] = df['pred_genders'].values=='female'\n",
    "df['Society'][df['Society']=='Eye physicians and surgeons of Ontario'] = 'EPS'\n",
    "#df[\"Training Level\"].replace({5: 1}, inplace=True)\n",
    "df[\"Training Level\"].replace({-1: 5}, inplace=True)\n",
    "df['Gender'].iloc[116] = 2\n",
    "df['Female'].iloc[116] = True"
   ]
  },
  {
   "cell_type": "code",
<<<<<<< HEAD:Untitled1.ipynb
   "execution_count": 28,
=======
   "execution_count": 6,
>>>>>>> db1c9d4d8b7e0f4dfcc072b2ae1cad3df903c329:.ipynb_checkpoints/radiology-checkpoint.ipynb
   "metadata": {},
   "outputs": [],
   "source": [
    "training_dict = {1: 'MD', 2:'PhD', 3: 'MD/PhD', 4: 'Student', 5:'Unknown'}\n",
    "award_dict = {1: 'Educator', 2:'Leader', 3: 'Lifetime', 4: 'Research'}\n",
    "change_society = {'EPS': 'EPSO'}\n",
    "df[\"Training Level\"].replace(training_dict, inplace=True)\n",
    "df[\"Society\"].replace(change_society, inplace=True)\n",
    "df[\"Award Type\"].replace(award_dict, inplace=True)"
   ]
  },
  {
   "cell_type": "code",
<<<<<<< HEAD:Untitled1.ipynb
   "execution_count": 29,
=======
   "execution_count": 7,
>>>>>>> db1c9d4d8b7e0f4dfcc072b2ae1cad3df903c329:.ipynb_checkpoints/radiology-checkpoint.ipynb
   "metadata": {},
   "outputs": [],
   "source": [
    "truths = df[df['Gender']!=-1]['Male'].values\n",
    "predicts = df[df['Gender']!=-1]['Male_p'].values"
   ]
  },
  {
   "cell_type": "code",
<<<<<<< HEAD:Untitled1.ipynb
   "execution_count": 30,
=======
   "execution_count": 8,
>>>>>>> db1c9d4d8b7e0f4dfcc072b2ae1cad3df903c329:.ipynb_checkpoints/radiology-checkpoint.ipynb
   "metadata": {},
   "outputs": [
    {
     "data": {
      "text/plain": [
       "95.56650246305419"
      ]
     },
<<<<<<< HEAD:Untitled1.ipynb
     "execution_count": 30,
=======
     "execution_count": 8,
>>>>>>> db1c9d4d8b7e0f4dfcc072b2ae1cad3df903c329:.ipynb_checkpoints/radiology-checkpoint.ipynb
     "metadata": {},
     "output_type": "execute_result"
    }
   ],
   "source": [
    "sum(truths==predicts)/len(truths) * 100"
   ]
  },
  {
   "cell_type": "code",
<<<<<<< HEAD:Untitled1.ipynb
   "execution_count": 31,
=======
   "execution_count": 9,
>>>>>>> db1c9d4d8b7e0f4dfcc072b2ae1cad3df903c329:.ipynb_checkpoints/radiology-checkpoint.ipynb
   "metadata": {},
   "outputs": [
    {
     "data": {
      "text/html": [
       "<div>\n",
       "<style scoped>\n",
       "    .dataframe tbody tr th:only-of-type {\n",
       "        vertical-align: middle;\n",
       "    }\n",
       "\n",
       "    .dataframe tbody tr th {\n",
       "        vertical-align: top;\n",
       "    }\n",
       "\n",
       "    .dataframe thead th {\n",
       "        text-align: right;\n",
       "    }\n",
       "</style>\n",
       "<table border=\"1\" class=\"dataframe\">\n",
       "  <thead>\n",
       "    <tr style=\"text-align: right;\">\n",
       "      <th></th>\n",
       "      <th>Unnamed: 0</th>\n",
       "      <th>Society</th>\n",
       "      <th>Award Type</th>\n",
       "      <th>Year</th>\n",
       "      <th>Award Winner</th>\n",
       "      <th>Training Level</th>\n",
       "      <th>Gender</th>\n",
       "      <th>Male</th>\n",
       "      <th>Female</th>\n",
       "      <th>FName</th>\n",
       "      <th>LName</th>\n",
       "      <th>pred_genders</th>\n",
       "      <th>Male_p</th>\n",
       "      <th>Female_p</th>\n",
       "    </tr>\n",
       "  </thead>\n",
       "  <tbody>\n",
       "    <tr>\n",
       "      <th>0</th>\n",
       "      <td>0</td>\n",
       "      <td>COS</td>\n",
       "      <td>Lifetime</td>\n",
       "      <td>2021</td>\n",
       "      <td>Brian Leonard</td>\n",
       "      <td>MD</td>\n",
       "      <td>1</td>\n",
       "      <td>True</td>\n",
       "      <td>False</td>\n",
       "      <td>Brian</td>\n",
       "      <td>Leonard</td>\n",
       "      <td>male</td>\n",
       "      <td>True</td>\n",
       "      <td>False</td>\n",
       "    </tr>\n",
       "    <tr>\n",
       "      <th>1</th>\n",
       "      <td>1</td>\n",
       "      <td>COS</td>\n",
       "      <td>Lifetime</td>\n",
       "      <td>2020</td>\n",
       "      <td>Simon Holland</td>\n",
       "      <td>MD</td>\n",
       "      <td>1</td>\n",
       "      <td>True</td>\n",
       "      <td>False</td>\n",
       "      <td>Simon</td>\n",
       "      <td>Holland</td>\n",
       "      <td>male</td>\n",
       "      <td>True</td>\n",
       "      <td>False</td>\n",
       "    </tr>\n",
       "    <tr>\n",
       "      <th>2</th>\n",
       "      <td>2</td>\n",
       "      <td>COS</td>\n",
       "      <td>Lifetime</td>\n",
       "      <td>2019</td>\n",
       "      <td>Helene Boisjoly</td>\n",
       "      <td>MD</td>\n",
       "      <td>2</td>\n",
       "      <td>False</td>\n",
       "      <td>True</td>\n",
       "      <td>Helene</td>\n",
       "      <td>Boisjoly</td>\n",
       "      <td>female</td>\n",
       "      <td>False</td>\n",
       "      <td>True</td>\n",
       "    </tr>\n",
       "    <tr>\n",
       "      <th>3</th>\n",
       "      <td>3</td>\n",
       "      <td>COS</td>\n",
       "      <td>Lifetime</td>\n",
       "      <td>2018</td>\n",
       "      <td>Graham Trope</td>\n",
       "      <td>MD/PhD</td>\n",
       "      <td>1</td>\n",
       "      <td>True</td>\n",
       "      <td>False</td>\n",
       "      <td>Graham</td>\n",
       "      <td>Trope</td>\n",
       "      <td>male</td>\n",
       "      <td>True</td>\n",
       "      <td>False</td>\n",
       "    </tr>\n",
       "    <tr>\n",
       "      <th>4</th>\n",
       "      <td>4</td>\n",
       "      <td>COS</td>\n",
       "      <td>Lifetime</td>\n",
       "      <td>2017</td>\n",
       "      <td>Seymour Brownstein</td>\n",
       "      <td>MD</td>\n",
       "      <td>1</td>\n",
       "      <td>True</td>\n",
       "      <td>False</td>\n",
       "      <td>Seymour</td>\n",
       "      <td>Brownstein</td>\n",
       "      <td>male</td>\n",
       "      <td>True</td>\n",
       "      <td>False</td>\n",
       "    </tr>\n",
       "  </tbody>\n",
       "</table>\n",
       "</div>"
      ],
      "text/plain": [
       "   Unnamed: 0 Society Award Type  Year        Award Winner Training Level  \\\n",
       "0           0     COS   Lifetime  2021       Brian Leonard             MD   \n",
       "1           1     COS   Lifetime  2020       Simon Holland             MD   \n",
       "2           2     COS   Lifetime  2019     Helene Boisjoly             MD   \n",
       "3           3     COS   Lifetime  2018        Graham Trope         MD/PhD   \n",
       "4           4     COS   Lifetime  2017  Seymour Brownstein             MD   \n",
       "\n",
       "   Gender   Male  Female    FName       LName pred_genders  Male_p  Female_p  \n",
       "0       1   True   False    Brian     Leonard         male    True     False  \n",
       "1       1   True   False    Simon     Holland         male    True     False  \n",
       "2       2  False    True   Helene    Boisjoly       female   False      True  \n",
       "3       1   True   False   Graham       Trope         male    True     False  \n",
       "4       1   True   False  Seymour  Brownstein         male    True     False  "
      ]
     },
<<<<<<< HEAD:Untitled1.ipynb
     "execution_count": 31,
=======
     "execution_count": 9,
>>>>>>> db1c9d4d8b7e0f4dfcc072b2ae1cad3df903c329:.ipynb_checkpoints/radiology-checkpoint.ipynb
     "metadata": {},
     "output_type": "execute_result"
    }
   ],
   "source": [
    "df.head()"
   ]
  },
  {
   "cell_type": "code",
<<<<<<< HEAD:Untitled1.ipynb
   "execution_count": 32,
=======
   "execution_count": 10,
>>>>>>> db1c9d4d8b7e0f4dfcc072b2ae1cad3df903c329:.ipynb_checkpoints/radiology-checkpoint.ipynb
   "metadata": {},
   "outputs": [
    {
     "name": "stderr",
     "output_type": "stream",
     "text": [
<<<<<<< HEAD:Untitled1.ipynb
      "/Users/lukepolson/anaconda3/lib/python3.6/site-packages/ipykernel_launcher.py:1: SettingWithCopyWarning: \n",
      "A value is trying to be set on a copy of a slice from a DataFrame\n",
      "\n",
      "See the caveats in the documentation: https://pandas.pydata.org/pandas-docs/stable/user_guide/indexing.html#returning-a-view-versus-a-copy\n",
      "  \"\"\"Entry point for launching an IPython kernel.\n",
      "/Users/lukepolson/anaconda3/lib/python3.6/site-packages/ipykernel_launcher.py:2: SettingWithCopyWarning: \n",
=======
      "<ipython-input-10-2fb68800400b>:1: SettingWithCopyWarning: \n",
      "A value is trying to be set on a copy of a slice from a DataFrame\n",
      "\n",
      "See the caveats in the documentation: https://pandas.pydata.org/pandas-docs/stable/user_guide/indexing.html#returning-a-view-versus-a-copy\n",
      "  df['Male'][df['Gender']==-1] = df['Male_p'][df['Gender']==-1]\n",
      "<ipython-input-10-2fb68800400b>:2: SettingWithCopyWarning: \n",
>>>>>>> db1c9d4d8b7e0f4dfcc072b2ae1cad3df903c329:.ipynb_checkpoints/radiology-checkpoint.ipynb
      "A value is trying to be set on a copy of a slice from a DataFrame\n",
      "\n",
      "See the caveats in the documentation: https://pandas.pydata.org/pandas-docs/stable/user_guide/indexing.html#returning-a-view-versus-a-copy\n",
      "  \n"
     ]
    }
   ],
   "source": [
    "df['Male'][df['Gender']==-1] = df['Male_p'][df['Gender']==-1]\n",
    "df['Female'][df['Gender']==-1] = df['Female_p'][df['Gender']==-1]\n",
    "df['Male'] = df['Male'].astype(bool)\n",
    "df['Female'] = df['Female'].astype(bool)"
   ]
  },
  {
   "cell_type": "markdown",
   "metadata": {},
   "source": [
    "Validate gender predictions on the known data."
   ]
  },
  {
   "cell_type": "code",
<<<<<<< HEAD:Untitled1.ipynb
   "execution_count": 33,
=======
   "execution_count": 11,
>>>>>>> db1c9d4d8b7e0f4dfcc072b2ae1cad3df903c329:.ipynb_checkpoints/radiology-checkpoint.ipynb
   "metadata": {},
   "outputs": [
    {
     "name": "stderr",
     "output_type": "stream",
     "text": [
<<<<<<< HEAD:Untitled1.ipynb
      "/Users/lukepolson/anaconda3/lib/python3.6/site-packages/ipykernel_launcher.py:4: SettingWithCopyWarning: \n",
=======
      "<ipython-input-11-7b1aec9f79fc>:4: SettingWithCopyWarning: \n",
>>>>>>> db1c9d4d8b7e0f4dfcc072b2ae1cad3df903c329:.ipynb_checkpoints/radiology-checkpoint.ipynb
      "A value is trying to be set on a copy of a slice from a DataFrame.\n",
      "Try using .loc[row_indexer,col_indexer] = value instead\n",
      "\n",
      "See the caveats in the documentation: https://pandas.pydata.org/pandas-docs/stable/user_guide/indexing.html#returning-a-view-versus-a-copy\n",
      "  after removing the cwd from sys.path.\n"
     ]
    },
    {
     "data": {
      "text/plain": [
       "0.9556650246305419"
      ]
     },
<<<<<<< HEAD:Untitled1.ipynb
     "execution_count": 33,
=======
     "execution_count": 11,
>>>>>>> db1c9d4d8b7e0f4dfcc072b2ae1cad3df903c329:.ipynb_checkpoints/radiology-checkpoint.ipynb
     "metadata": {},
     "output_type": "execute_result"
    }
   ],
   "source": [
    "#\"Validate Genders\"\n",
    "df_vg = df[df['Gender']!=-1]\n",
    "corr_pred = df_vg['Male'].values==df_vg['Male_p'].values\n",
    "df_vg['corr_pred'] = corr_pred\n",
    "falses = df_vg[df_vg['corr_pred']==False].shape[0]\n",
    "trues = df_vg[df_vg['corr_pred']==True].shape[0]\n",
    "accuracy = trues/(trues+falses)\n",
    "accuracy"
   ]
  },
  {
   "cell_type": "markdown",
   "metadata": {},
   "source": [
    "Now the dataframe is fully processed and things can be done"
   ]
  },
  {
   "cell_type": "markdown",
   "metadata": {},
   "source": [
    "# Stuff Asked"
   ]
  },
  {
   "cell_type": "markdown",
   "metadata": {},
   "source": [
    "## Total Number of Award Recipients"
   ]
  },
  {
   "cell_type": "code",
<<<<<<< HEAD:Untitled1.ipynb
   "execution_count": 34,
=======
   "execution_count": 12,
>>>>>>> db1c9d4d8b7e0f4dfcc072b2ae1cad3df903c329:.ipynb_checkpoints/radiology-checkpoint.ipynb
   "metadata": {},
   "outputs": [
    {
     "data": {
      "text/plain": [
       "34"
      ]
     },
<<<<<<< HEAD:Untitled1.ipynb
     "execution_count": 34,
=======
     "execution_count": 12,
>>>>>>> db1c9d4d8b7e0f4dfcc072b2ae1cad3df903c329:.ipynb_checkpoints/radiology-checkpoint.ipynb
     "metadata": {},
     "output_type": "execute_result"
    }
   ],
   "source": [
    "sum((df.Society=='CGS').values)"
   ]
  },
  {
   "cell_type": "code",
   "execution_count": 35,
   "metadata": {},
   "outputs": [
    {
     "data": {
      "text/plain": [
       "225"
      ]
     },
     "execution_count": 35,
     "metadata": {},
     "output_type": "execute_result"
    }
   ],
   "source": [
    "df['Award Winner'].size"
   ]
  },
  {
   "cell_type": "code",
   "execution_count": 36,
   "metadata": {},
   "outputs": [
    {
     "data": {
      "text/plain": [
       "22"
      ]
     },
     "execution_count": 36,
     "metadata": {},
     "output_type": "execute_result"
    }
   ],
   "source": [
    "df[df['Gender']==-1].shape[0]"
   ]
  },
  {
   "cell_type": "code",
   "execution_count": 37,
   "metadata": {},
   "outputs": [
    {
     "data": {
      "text/plain": [
       "0      1\n",
       "1      1\n",
       "2      2\n",
       "3      1\n",
       "4      1\n",
       "      ..\n",
       "220    1\n",
       "221    1\n",
       "222    1\n",
       "223    1\n",
       "224    1\n",
       "Name: Gender, Length: 225, dtype: int64"
      ]
     },
     "execution_count": 37,
     "metadata": {},
     "output_type": "execute_result"
    }
   ],
   "source": [
    "df['Gender']"
   ]
  },
  {
   "cell_type": "markdown",
   "metadata": {},
   "source": [
    "## Total Number of Males/Females"
   ]
  },
  {
   "cell_type": "code",
   "execution_count": 38,
   "metadata": {},
   "outputs": [
    {
     "name": "stdout",
     "output_type": "stream",
     "text": [
      "Men 161 \n",
      "Women 64 \n"
     ]
    }
   ],
   "source": [
    "print(f\"Men {df[df['Male']==True].shape[0]} \")\n",
    "print(f\"Women {df[df['Female']==True].shape[0]} \")"
   ]
  },
  {
   "cell_type": "code",
   "execution_count": 39,
   "metadata": {},
   "outputs": [
    {
     "data": {
      "image/png": "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\n",
      "text/plain": [
       "<Figure size 432x288 with 1 Axes>"
      ]
     },
     "metadata": {},
     "output_type": "display_data"
    }
   ],
   "source": [
    "fig = plt.figure()\n",
    "ax = fig.add_axes([0,0,1,1])\n",
    "ax.axis('equal')\n",
    "labels = ['Men', 'Women']\n",
    "numbers = [df[df['Male']==True].shape[0], df[df['Female']==True].shape[0]]\n",
    "patches, texts, autotexts = ax.pie(numbers, colors=['grey', 'cyan'], autopct='%1.1f%%', radius=1)\n",
    "[text.set_fontsize(20) for text in texts]\n",
    "[autotext.set_fontsize(20) for autotext in autotexts]\n",
    "plt.legend(labels = ['Men', 'Women'], fontsize=20)\n",
    "plt.savefig('plots/pie_plot.png', dpi=200)\n",
    "plt.show()"
   ]
  },
  {
   "cell_type": "code",
   "execution_count": 40,
   "metadata": {},
   "outputs": [],
   "source": [
    "_ = df['Training Level'].value_counts()\n",
    "MD = _['MD']\n",
    "PhD = _['PhD']\n",
    "MDPhD = _['MD/PhD']\n",
    "Student = _['Student']\n",
    "un = _['Unknown']"
   ]
  },
  {
   "cell_type": "code",
   "execution_count": 41,
   "metadata": {},
   "outputs": [
    {
     "data": {
      "image/png": "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\n",
      "text/plain": [
       "<Figure size 720x504 with 1 Axes>"
      ]
     },
     "metadata": {},
     "output_type": "display_data"
    }
   ],
   "source": [
    "labels = ['MD', 'PhD', 'MD/PhD', 'Student', 'Unknown']\n",
    "data =  [MD, PhD, MDPhD, Student, un]\n",
    "fig = plt.figure(figsize =(10, 7))\n",
    "plt.pie(data, labels = labels, radius=0.5)\n",
    "  \n",
    "# show plot\n",
    "plt.show()"
   ]
  },
  {
   "cell_type": "code",
   "execution_count": 56,
   "metadata": {},
   "outputs": [
    {
     "data": {
      "image/png": "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\n",
      "text/plain": [
       "<Figure size 720x504 with 1 Axes>"
      ]
     },
     "metadata": {},
     "output_type": "display_data"
    }
   ],
   "source": [
    "# Creating color parameters\n",
    "colors = ( \"orange\", \"cyan\", \"brown\",\n",
    "          \"grey\", \"pink\", \"beige\")\n",
    "\n",
    "def func(pct, allvalues):\n",
    "    absolute = int(pct / 100.*np.sum(allvalues))\n",
    "    return \"{:.1f}%\\n(n={:d})\".format(pct, absolute)\n",
    "  \n",
    "# Creating plot\n",
    "fig, ax = plt.subplots(figsize =(10, 7))\n",
    "wedges, texts, autotexts = ax.pie(data, \n",
    "autopct = lambda pct: func(pct, data),\n",
    "labels = labels,\n",
    "colors = colors,\n",
    "startangle = 90,\n",
    "pctdistance=0.8,\n",
    "textprops = dict(color =\"k\", fontsize=14, backgroundcolor='white'))\n",
    "  \n",
    "  \n",
    "plt.setp(autotexts, size = 10, weight =\"bold\")\n",
    "\n",
    "plt.savefig('plots/pie_plot2.png', dpi=200)\n",
    "# show plot\n",
    "plt.show()"
   ]
  },
  {
   "cell_type": "code",
   "execution_count": 21,
   "metadata": {},
   "outputs": [
    {
     "data": {
      "image/png": "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\n",
      "text/plain": [
       "<Figure size 432x288 with 1 Axes>"
      ]
     },
     "metadata": {},
     "output_type": "display_data"
    }
   ],
   "source": [
    "fig = plt.figure()\n",
    "ax = fig.add_axes([0,0,1,1])\n",
    "ax.axis('equal')\n",
    "labels = ['Men', 'Women']\n",
    "numbers = MD, PhD, MDPhD, Student, un\n",
    "patches, texts, autotexts = ax.pie(numbers, autopct='%1.1f%%', radius=2)\n",
    "[text.set_fontsize(12) for text in texts]\n",
    "[autotext.set_fontsize(12) for autotext in autotexts]\n",
    "plt.legend(labels = ['MD', 'PhD', 'MD/PhD', 'Student', 'Unknown'], fontsize=14)\n",
    "plt.savefig('plots/pie_plot2.png', dpi=200)\n",
    "plt.show()"
   ]
  },
  {
   "cell_type": "code",
   "execution_count": 22,
   "metadata": {},
   "outputs": [
    {
     "data": {
      "image/png": "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\n",
      "text/plain": [
       "<Figure size 432x288 with 1 Axes>"
      ]
     },
     "metadata": {},
     "output_type": "display_data"
    }
   ],
   "source": [
    "fig = plt.figure()\n",
    "ax = fig.add_axes([0,0,1,1])\n",
    "ax.axis('equal')\n",
    "labels = ['Men', 'Women']\n",
    "numbers = [df[df['Male']==True].shape[0], df[df['Female']==True].shape[0]]\n",
    "patches, texts, autotexts = ax.pie(numbers, colors=['grey', 'cyan'], autopct='%1.1f%%', radius=1)\n",
    "[text.set_fontsize(20) for text in texts]\n",
    "[autotext.set_fontsize(20) for autotext in autotexts]\n",
    "plt.legend(labels = ['Men', 'Women'], fontsize=20)\n",
    "plt.savefig('plots/pie_plot.png', dpi=200)\n",
    "plt.show()"
   ]
  },
  {
   "cell_type": "markdown",
   "metadata": {},
   "source": [
    "## Award Count"
   ]
  },
  {
   "cell_type": "code",
   "execution_count": 21,
   "metadata": {},
   "outputs": [
    {
     "data": {
      "text/plain": [
       "228"
      ]
     },
     "execution_count": 21,
     "metadata": {},
     "output_type": "execute_result"
    }
   ],
   "source": [
    "162+2*27+4*3"
   ]
  },
  {
   "cell_type": "code",
   "execution_count": 22,
   "metadata": {},
   "outputs": [
    {
     "name": "stdout",
     "output_type": "stream",
     "text": [
      "People with one award 162 \n",
      "People with two awards 27 \n",
      "People with three or more awards 3 \n",
      "Men with one award 113 \n",
      "Men with two awards 21 \n",
      "Men with three or more awards 2 \n",
      "Women with one award 49 \n",
      "Women with two awards 6 \n",
      "Women with three or more awards 1 \n",
      "Maximum Number Awards by man 3\n",
      "Maximum Number Awards by woman 3\n"
     ]
    }
   ],
   "source": [
    "num_awards = df.groupby('Award Winner').size()\n",
    "print(f\"People with one award {num_awards[num_awards==1].shape[0]} \")\n",
    "print(f\"People with two awards {num_awards[num_awards==2].shape[0]} \")\n",
    "print(f\"People with three or more awards {num_awards[num_awards>=3].shape[0]} \")\n",
    "num_awards_men = df[df['Male']==True].groupby('Award Winner').size()\n",
    "print(f\"Men with one award {num_awards_men[num_awards_men==1].shape[0]} \")\n",
    "print(f\"Men with two awards {num_awards_men[num_awards_men==2].shape[0]} \")\n",
    "print(f\"Men with three or more awards {num_awards_men[num_awards_men>=3].shape[0]} \")\n",
    "num_awards_women = df[df['Female']==True].groupby('Award Winner').size()\n",
    "print(f\"Women with one award {num_awards_women[num_awards_women==1].shape[0]} \")\n",
    "print(f\"Women with two awards {num_awards_women[num_awards_women==2].shape[0]} \")\n",
    "print(f\"Women with three or more awards {num_awards_women[num_awards_women>=3].shape[0]} \")\n",
    "##\n",
    "print(f\"Maximum Number Awards by man {num_awards_men.max()}\")\n",
    "print(f\"Maximum Number Awards by woman {num_awards_women.max()}\")"
   ]
  },
  {
   "cell_type": "code",
   "execution_count": 23,
   "metadata": {},
   "outputs": [
    {
     "data": {
      "text/html": [
       "<div>\n",
       "<style scoped>\n",
       "    .dataframe tbody tr th:only-of-type {\n",
       "        vertical-align: middle;\n",
       "    }\n",
       "\n",
       "    .dataframe tbody tr th {\n",
       "        vertical-align: top;\n",
       "    }\n",
       "\n",
       "    .dataframe thead th {\n",
       "        text-align: right;\n",
       "    }\n",
       "</style>\n",
       "<table border=\"1\" class=\"dataframe\">\n",
       "  <thead>\n",
       "    <tr style=\"text-align: right;\">\n",
       "      <th></th>\n",
       "      <th>Unnamed: 0</th>\n",
       "      <th>Society</th>\n",
       "      <th>Award Type</th>\n",
       "      <th>Year</th>\n",
       "      <th>Award Winner</th>\n",
       "      <th>Training Level</th>\n",
       "      <th>Gender</th>\n",
       "      <th>Male</th>\n",
       "      <th>Female</th>\n",
       "      <th>FName</th>\n",
       "      <th>LName</th>\n",
       "      <th>pred_genders</th>\n",
       "      <th>Male_p</th>\n",
       "      <th>Female_p</th>\n",
       "    </tr>\n",
       "  </thead>\n",
       "  <tbody>\n",
       "    <tr>\n",
       "      <th>0</th>\n",
       "      <td>0</td>\n",
       "      <td>COS</td>\n",
       "      <td>Lifetime</td>\n",
       "      <td>2021</td>\n",
       "      <td>Brian Leonard</td>\n",
       "      <td>MD</td>\n",
       "      <td>1</td>\n",
       "      <td>True</td>\n",
       "      <td>False</td>\n",
       "      <td>Brian</td>\n",
       "      <td>Leonard</td>\n",
       "      <td>male</td>\n",
       "      <td>True</td>\n",
       "      <td>False</td>\n",
       "    </tr>\n",
       "    <tr>\n",
       "      <th>1</th>\n",
       "      <td>1</td>\n",
       "      <td>COS</td>\n",
       "      <td>Lifetime</td>\n",
       "      <td>2020</td>\n",
       "      <td>Simon Holland</td>\n",
       "      <td>MD</td>\n",
       "      <td>1</td>\n",
       "      <td>True</td>\n",
       "      <td>False</td>\n",
       "      <td>Simon</td>\n",
       "      <td>Holland</td>\n",
       "      <td>male</td>\n",
       "      <td>True</td>\n",
       "      <td>False</td>\n",
       "    </tr>\n",
       "    <tr>\n",
       "      <th>2</th>\n",
       "      <td>2</td>\n",
       "      <td>COS</td>\n",
       "      <td>Lifetime</td>\n",
       "      <td>2019</td>\n",
       "      <td>Helene Boisjoly</td>\n",
       "      <td>MD</td>\n",
       "      <td>2</td>\n",
       "      <td>False</td>\n",
       "      <td>True</td>\n",
       "      <td>Helene</td>\n",
       "      <td>Boisjoly</td>\n",
       "      <td>female</td>\n",
       "      <td>False</td>\n",
       "      <td>True</td>\n",
       "    </tr>\n",
       "    <tr>\n",
       "      <th>3</th>\n",
       "      <td>3</td>\n",
       "      <td>COS</td>\n",
       "      <td>Lifetime</td>\n",
       "      <td>2018</td>\n",
       "      <td>Graham Trope</td>\n",
       "      <td>MD/PhD</td>\n",
       "      <td>1</td>\n",
       "      <td>True</td>\n",
       "      <td>False</td>\n",
       "      <td>Graham</td>\n",
       "      <td>Trope</td>\n",
       "      <td>male</td>\n",
       "      <td>True</td>\n",
       "      <td>False</td>\n",
       "    </tr>\n",
       "    <tr>\n",
       "      <th>4</th>\n",
       "      <td>4</td>\n",
       "      <td>COS</td>\n",
       "      <td>Lifetime</td>\n",
       "      <td>2017</td>\n",
       "      <td>Seymour Brownstein</td>\n",
       "      <td>MD</td>\n",
       "      <td>1</td>\n",
       "      <td>True</td>\n",
       "      <td>False</td>\n",
       "      <td>Seymour</td>\n",
       "      <td>Brownstein</td>\n",
       "      <td>male</td>\n",
       "      <td>True</td>\n",
       "      <td>False</td>\n",
       "    </tr>\n",
       "    <tr>\n",
       "      <th>...</th>\n",
       "      <td>...</td>\n",
       "      <td>...</td>\n",
       "      <td>...</td>\n",
       "      <td>...</td>\n",
       "      <td>...</td>\n",
       "      <td>...</td>\n",
       "      <td>...</td>\n",
       "      <td>...</td>\n",
       "      <td>...</td>\n",
       "      <td>...</td>\n",
       "      <td>...</td>\n",
       "      <td>...</td>\n",
       "      <td>...</td>\n",
       "      <td>...</td>\n",
       "    </tr>\n",
       "    <tr>\n",
       "      <th>220</th>\n",
       "      <td>220</td>\n",
       "      <td>EPSO</td>\n",
       "      <td>Lifetime</td>\n",
       "      <td>2013</td>\n",
       "      <td>Jeff Sher</td>\n",
       "      <td>MD</td>\n",
       "      <td>1</td>\n",
       "      <td>True</td>\n",
       "      <td>False</td>\n",
       "      <td>Jeff</td>\n",
       "      <td>Sher</td>\n",
       "      <td>male</td>\n",
       "      <td>True</td>\n",
       "      <td>False</td>\n",
       "    </tr>\n",
       "    <tr>\n",
       "      <th>221</th>\n",
       "      <td>221</td>\n",
       "      <td>EPSO</td>\n",
       "      <td>Lifetime</td>\n",
       "      <td>2012</td>\n",
       "      <td>Jeff Hurwitz</td>\n",
       "      <td>MD</td>\n",
       "      <td>1</td>\n",
       "      <td>True</td>\n",
       "      <td>False</td>\n",
       "      <td>Jeff</td>\n",
       "      <td>Hurwitz</td>\n",
       "      <td>male</td>\n",
       "      <td>True</td>\n",
       "      <td>False</td>\n",
       "    </tr>\n",
       "    <tr>\n",
       "      <th>222</th>\n",
       "      <td>222</td>\n",
       "      <td>EPSO</td>\n",
       "      <td>Lifetime</td>\n",
       "      <td>2011</td>\n",
       "      <td>John Fowler</td>\n",
       "      <td>MD</td>\n",
       "      <td>1</td>\n",
       "      <td>True</td>\n",
       "      <td>False</td>\n",
       "      <td>John</td>\n",
       "      <td>Fowler</td>\n",
       "      <td>male</td>\n",
       "      <td>True</td>\n",
       "      <td>False</td>\n",
       "    </tr>\n",
       "    <tr>\n",
       "      <th>223</th>\n",
       "      <td>223</td>\n",
       "      <td>EPSO</td>\n",
       "      <td>Educator</td>\n",
       "      <td>2017</td>\n",
       "      <td>John Fowler</td>\n",
       "      <td>MD</td>\n",
       "      <td>1</td>\n",
       "      <td>True</td>\n",
       "      <td>False</td>\n",
       "      <td>John</td>\n",
       "      <td>Fowler</td>\n",
       "      <td>male</td>\n",
       "      <td>True</td>\n",
       "      <td>False</td>\n",
       "    </tr>\n",
       "    <tr>\n",
       "      <th>224</th>\n",
       "      <td>224</td>\n",
       "      <td>EPSO</td>\n",
       "      <td>Lifetime</td>\n",
       "      <td>2019</td>\n",
       "      <td>Kylen McReelis</td>\n",
       "      <td>MD</td>\n",
       "      <td>1</td>\n",
       "      <td>True</td>\n",
       "      <td>False</td>\n",
       "      <td>Kylen</td>\n",
       "      <td>McReelis</td>\n",
       "      <td>male</td>\n",
       "      <td>True</td>\n",
       "      <td>False</td>\n",
       "    </tr>\n",
       "  </tbody>\n",
       "</table>\n",
       "<p>225 rows × 14 columns</p>\n",
       "</div>"
      ],
      "text/plain": [
       "     Unnamed: 0 Society Award Type  Year        Award Winner Training Level  \\\n",
       "0             0     COS   Lifetime  2021       Brian Leonard             MD   \n",
       "1             1     COS   Lifetime  2020       Simon Holland             MD   \n",
       "2             2     COS   Lifetime  2019     Helene Boisjoly             MD   \n",
       "3             3     COS   Lifetime  2018        Graham Trope         MD/PhD   \n",
       "4             4     COS   Lifetime  2017  Seymour Brownstein             MD   \n",
       "..          ...     ...        ...   ...                 ...            ...   \n",
       "220         220    EPSO   Lifetime  2013           Jeff Sher             MD   \n",
       "221         221    EPSO   Lifetime  2012        Jeff Hurwitz             MD   \n",
       "222         222    EPSO   Lifetime  2011         John Fowler             MD   \n",
       "223         223    EPSO   Educator  2017         John Fowler             MD   \n",
       "224         224    EPSO   Lifetime  2019      Kylen McReelis             MD   \n",
       "\n",
       "     Gender   Male  Female    FName       LName pred_genders  Male_p  Female_p  \n",
       "0         1   True   False    Brian     Leonard         male    True     False  \n",
       "1         1   True   False    Simon     Holland         male    True     False  \n",
       "2         2  False    True   Helene    Boisjoly       female   False      True  \n",
       "3         1   True   False   Graham       Trope         male    True     False  \n",
       "4         1   True   False  Seymour  Brownstein         male    True     False  \n",
       "..      ...    ...     ...      ...         ...          ...     ...       ...  \n",
       "220       1   True   False     Jeff        Sher         male    True     False  \n",
       "221       1   True   False     Jeff     Hurwitz         male    True     False  \n",
       "222       1   True   False     John      Fowler         male    True     False  \n",
       "223       1   True   False     John      Fowler         male    True     False  \n",
       "224       1   True   False    Kylen    McReelis         male    True     False  \n",
       "\n",
       "[225 rows x 14 columns]"
      ]
     },
     "execution_count": 23,
     "metadata": {},
     "output_type": "execute_result"
    }
   ],
   "source": [
    "df"
   ]
  },
  {
   "cell_type": "markdown",
   "metadata": {},
   "source": [
    "## Number of People in Different Societies"
   ]
  },
  {
   "cell_type": "code",
   "execution_count": 24,
   "metadata": {},
   "outputs": [],
   "source": [
    "annotate = True"
   ]
  },
  {
   "cell_type": "code",
   "execution_count": 25,
   "metadata": {},
   "outputs": [],
   "source": [
    "award_cnt_label = 'Number of Award Recipients'"
   ]
  },
  {
   "cell_type": "code",
   "execution_count": 26,
   "metadata": {},
   "outputs": [
    {
     "data": {
      "text/html": [
       "<div>\n",
       "<style scoped>\n",
       "    .dataframe tbody tr th:only-of-type {\n",
       "        vertical-align: middle;\n",
       "    }\n",
       "\n",
       "    .dataframe tbody tr th {\n",
       "        vertical-align: top;\n",
       "    }\n",
       "\n",
       "    .dataframe thead th {\n",
       "        text-align: right;\n",
       "    }\n",
       "</style>\n",
       "<table border=\"1\" class=\"dataframe\">\n",
       "  <thead>\n",
       "    <tr style=\"text-align: right;\">\n",
       "      <th></th>\n",
       "      <th></th>\n",
       "      <th>Male</th>\n",
       "      <th>Female</th>\n",
       "    </tr>\n",
       "    <tr>\n",
       "      <th>Society</th>\n",
       "      <th>Award Type</th>\n",
       "      <th></th>\n",
       "      <th></th>\n",
       "    </tr>\n",
       "  </thead>\n",
       "  <tbody>\n",
       "    <tr>\n",
       "      <th rowspan=\"2\" valign=\"top\">CGS</th>\n",
       "      <th>Lifetime</th>\n",
       "      <td>2</td>\n",
       "      <td>0</td>\n",
       "    </tr>\n",
       "    <tr>\n",
       "      <th>Research</th>\n",
       "      <td>22</td>\n",
       "      <td>10</td>\n",
       "    </tr>\n",
       "    <tr>\n",
       "      <th rowspan=\"2\" valign=\"top\">COS</th>\n",
       "      <th>Lifetime</th>\n",
       "      <td>19</td>\n",
       "      <td>2</td>\n",
       "    </tr>\n",
       "    <tr>\n",
       "      <th>Research</th>\n",
       "      <td>99</td>\n",
       "      <td>50</td>\n",
       "    </tr>\n",
       "    <tr>\n",
       "      <th rowspan=\"3\" valign=\"top\">EPSO</th>\n",
       "      <th>Educator</th>\n",
       "      <td>1</td>\n",
       "      <td>0</td>\n",
       "    </tr>\n",
       "    <tr>\n",
       "      <th>Leader</th>\n",
       "      <td>8</td>\n",
       "      <td>1</td>\n",
       "    </tr>\n",
       "    <tr>\n",
       "      <th>Lifetime</th>\n",
       "      <td>10</td>\n",
       "      <td>1</td>\n",
       "    </tr>\n",
       "  </tbody>\n",
       "</table>\n",
       "</div>"
      ],
      "text/plain": [
       "                    Male  Female\n",
       "Society Award Type              \n",
       "CGS     Lifetime       2       0\n",
       "        Research      22      10\n",
       "COS     Lifetime      19       2\n",
       "        Research      99      50\n",
       "EPSO    Educator       1       0\n",
       "        Leader         8       1\n",
       "        Lifetime      10       1"
      ]
     },
     "execution_count": 26,
     "metadata": {},
     "output_type": "execute_result"
    }
   ],
   "source": [
    "df.groupby(['Society', 'Award Type']).sum()[['Male', 'Female']]"
   ]
  },
  {
   "cell_type": "code",
   "execution_count": 27,
   "metadata": {},
   "outputs": [
    {
     "data": {
      "image/png": "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\n",
      "text/plain": [
       "<Figure size 504x216 with 1 Axes>"
      ]
     },
     "metadata": {
      "needs_background": "light"
     },
     "output_type": "display_data"
    }
   ],
   "source": [
    "letter_counts = Counter(df['Society'].values)\n",
    "letter_counts_m = Counter(df[df['Male']==True].Society.values)\n",
    "letter_counts_w = Counter(df[df['Female']==True].Society.values)\n",
    "_m = pd.DataFrame.from_dict(letter_counts_m, orient='index')\n",
    "_w = pd.DataFrame.from_dict(letter_counts_w, orient='index')\n",
    "_ = pd.concat({'Men': _m, 'Women':_w},\n",
    "               axis = 1)\n",
    "\n",
    "fig, ax = plt.subplots(1, 1, figsize=(7,3))\n",
    "#_.plot(kind='bar', ax=ax[0], legend=None, ec='black')\n",
    "_.plot(kind='bar', ax=ax, color=['k', 'cyan'], ec='black', rot=0)\n",
    "#_m.plot(kind='bar', ax=ax, ec='black', color='grey', label='men', rot=0)\n",
    "ax.set_ylabel(award_cnt_label)\n",
    "#ax.set_title('Sex of Award Winners From Different Societies')\n",
    "ax.legend(['Men', 'Women'], fontsize=15)\n",
    "ax.set_xlabel('Opthamological Society')\n",
    "if annotate: annotate_bars(ax)\n",
    "fig.tight_layout()\n",
    "plt.savefig('plots/plot1.png', dpi=200)\n",
    "plt.show()"
   ]
  },
  {
   "cell_type": "code",
   "execution_count": 28,
   "metadata": {},
   "outputs": [
    {
     "data": {
      "text/html": [
       "<div>\n",
       "<style scoped>\n",
       "    .dataframe tbody tr th:only-of-type {\n",
       "        vertical-align: middle;\n",
       "    }\n",
       "\n",
       "    .dataframe tbody tr th {\n",
       "        vertical-align: top;\n",
       "    }\n",
       "\n",
       "    .dataframe thead th {\n",
       "        text-align: right;\n",
       "    }\n",
       "</style>\n",
       "<table border=\"1\" class=\"dataframe\">\n",
       "  <thead>\n",
       "    <tr style=\"text-align: right;\">\n",
       "      <th></th>\n",
       "      <th>Male</th>\n",
       "      <th>Female</th>\n",
       "    </tr>\n",
       "    <tr>\n",
       "      <th>Society</th>\n",
       "      <th></th>\n",
       "      <th></th>\n",
       "    </tr>\n",
       "  </thead>\n",
       "  <tbody>\n",
       "    <tr>\n",
       "      <th>CGS</th>\n",
       "      <td>24</td>\n",
       "      <td>10</td>\n",
       "    </tr>\n",
       "    <tr>\n",
       "      <th>COS</th>\n",
       "      <td>118</td>\n",
       "      <td>52</td>\n",
       "    </tr>\n",
       "    <tr>\n",
       "      <th>EPSO</th>\n",
       "      <td>19</td>\n",
       "      <td>2</td>\n",
       "    </tr>\n",
       "  </tbody>\n",
       "</table>\n",
       "</div>"
      ],
      "text/plain": [
       "         Male  Female\n",
       "Society              \n",
       "CGS        24      10\n",
       "COS       118      52\n",
       "EPSO       19       2"
      ]
     },
     "execution_count": 28,
     "metadata": {},
     "output_type": "execute_result"
    }
   ],
   "source": [
    "dfmw = df.groupby('Society').sum()[['Male', 'Female']].iloc[0:]\n",
    "dfmw"
   ]
  },
  {
   "cell_type": "markdown",
   "metadata": {},
   "source": [
    "## Award Levels"
   ]
  },
  {
   "cell_type": "code",
   "execution_count": 29,
   "metadata": {},
   "outputs": [],
   "source": [
    "dfmw = df.groupby('Award Type').sum()[['Male', 'Female']].iloc[0:]\n",
    "dfmw_tot = dfmw['Male'] + dfmw['Female']"
   ]
  },
  {
   "cell_type": "code",
   "execution_count": 30,
   "metadata": {},
   "outputs": [
    {
     "data": {
      "image/png": "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\n",
      "text/plain": [
       "<Figure size 504x216 with 1 Axes>"
      ]
     },
     "metadata": {
      "needs_background": "light"
     },
     "output_type": "display_data"
    }
   ],
   "source": [
    "fig, ax = plt.subplots(1, 1, figsize=(7,3))\n",
    "dfmw.plot(kind='bar', ax=ax, color=['k','cyan'], ec='black', rot=0)\n",
    "ax.set_ylabel(award_cnt_label, fontsize=8)\n",
    "#ax.set_title('Sex of Award Winners At Each Award Type')\n",
    "if annotate: annotate_bars(ax)\n",
    "ax.legend(['Men', 'Women'], fontsize=15)\n",
    "if annotate: annotate_bars(ax)\n",
    "fig.tight_layout()\n",
    "plt.savefig('plots/plot2.png', dpi=200)\n",
    "plt.show()"
   ]
  },
  {
   "cell_type": "code",
   "execution_count": 31,
   "metadata": {},
   "outputs": [],
   "source": [
    "dfmw = df.groupby(['Award Type', 'Society']).sum().unstack(fill_value=0).stack()[['Male', 'Female']].iloc[0:].reset_index()"
   ]
  },
  {
   "cell_type": "code",
   "execution_count": 32,
   "metadata": {},
   "outputs": [
    {
     "data": {
      "image/png": "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\n",
      "text/plain": [
       "<Figure size 720x216 with 3 Axes>"
      ]
     },
     "metadata": {
      "needs_background": "light"
     },
     "output_type": "display_data"
    }
   ],
   "source": [
    "fig, ax = plt.subplots(1, 3, figsize=(10,3))\n",
    "dfmw[dfmw['Society']=='CGS'].set_index('Award Type').plot(kind='bar', ax=ax[0], color=['k', 'cyan'], ec='black', rot=0)\n",
    "dfmw[dfmw['Society']=='COS'].set_index('Award Type').plot(kind='bar', ax=ax[1], color=['k', 'cyan'], ec='black', rot=0, legend=None)\n",
    "dfmw[dfmw['Society']=='EPSO'].set_index('Award Type').plot(kind='bar', ax=ax[2], color=['k', 'cyan'], ec='black', rot=0, legend=None)\n",
    "ax[0].set_title('CGS')\n",
    "ax[1].set_title('COS')\n",
    "ax[2].set_title('EPSO')\n",
    "ax[0].set_ylabel(award_cnt_label)\n",
    "[a.set_ylim(top=110) for a in ax]\n",
    "fig.tight_layout()\n",
    "if annotate: [annotate_bars(a) for a in ax]\n",
    "ax[0].legend(['Men', 'Women'], fontsize=15)\n",
    "fig.tight_layout()\n",
    "plt.savefig('plots/plot4.png', dpi=200)\n",
    "plt.show()"
   ]
  },
  {
   "cell_type": "markdown",
   "metadata": {},
   "source": [
    "## Number of Awards that don't specify training level"
   ]
  },
  {
   "cell_type": "code",
   "execution_count": 33,
   "metadata": {},
   "outputs": [
    {
     "data": {
      "text/plain": [
       "0"
      ]
     },
     "execution_count": 33,
     "metadata": {},
     "output_type": "execute_result"
    }
   ],
   "source": [
    "df[df['Training Level']==-1].shape[0]"
   ]
  },
  {
   "cell_type": "markdown",
   "metadata": {},
   "source": [
    "## Training Levels"
   ]
  },
  {
   "cell_type": "markdown",
   "metadata": {},
   "source": [
    "Number of men and women in each training level"
   ]
  },
  {
   "cell_type": "code",
   "execution_count": 34,
   "metadata": {},
   "outputs": [],
   "source": [
    "dfmw = df.groupby('Training Level').sum()[['Male', 'Female']].iloc[0:]"
   ]
  },
  {
   "cell_type": "code",
   "execution_count": 35,
   "metadata": {},
   "outputs": [
    {
     "data": {
      "image/png": "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\n",
      "text/plain": [
       "<Figure size 432x216 with 1 Axes>"
      ]
     },
     "metadata": {
      "needs_background": "light"
     },
     "output_type": "display_data"
    }
   ],
   "source": [
    "fig, ax = plt.subplots(1, 1, figsize=(6,3))\n",
    "#dfmw_tot.plot(kind='bar', ax=ax, color='cyan', ec='black', rot=0)\n",
    "dfmw.plot(kind='bar', ax=ax, color=['k','cyan'], ec='black', rot=0)\n",
    "ax.set_ylabel(award_cnt_label)\n",
    "#ax.set_title('Sex of Award Winners At Each Award Type')\n",
    "if annotate: annotate_bars(ax)\n",
    "ax.legend(['Men', 'Women'], fontsize=15)\n",
    "fig.tight_layout()\n",
    "plt.savefig('plots/plot3.png', dpi=200)\n",
    "plt.show()"
   ]
  },
  {
   "cell_type": "markdown",
   "metadata": {},
   "source": [
    "Training Level in All different Societies"
   ]
  },
  {
   "cell_type": "code",
   "execution_count": 36,
   "metadata": {},
   "outputs": [],
   "source": [
    "dfmw = df.groupby(['Training Level', 'Society']).sum().unstack(fill_value=0).stack()[['Male', 'Female']].iloc[0:]\n",
    "dfmw = dfmw.reindex(axis='index', level=0, labels=[\"Student\", \"MD\", \"PhD\", \"MD/PhD\", \"Unknown\"]).reset_index()"
   ]
  },
  {
   "cell_type": "code",
   "execution_count": 37,
   "metadata": {},
   "outputs": [
    {
     "data": {
      "image/png": "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\n",
      "text/plain": [
       "<Figure size 864x216 with 3 Axes>"
      ]
     },
     "metadata": {
      "needs_background": "light"
     },
     "output_type": "display_data"
    }
   ],
   "source": [
    "fig, ax = plt.subplots(1, 3, figsize=(12,3))\n",
    "my_colors = list(islice(cycle(['k', 'cyan']), None, len(df)))\n",
    "dfmw[dfmw['Society']=='CGS'].set_index('Training Level')[['Male', 'Female']].plot(kind='bar', ax=ax[0], ec='black', color=my_colors, legend=None, rot=0)\n",
    "dfmw[dfmw['Society']=='COS'].set_index('Training Level')[['Male', 'Female']].plot(kind='bar', ax=ax[1], ec='black', color=my_colors, legend=None, rot=0)\n",
    "dfmw[dfmw['Society']=='EPSO'].set_index('Training Level')[['Male', 'Female']].plot(kind='bar', ax=ax[2], ec='black', color=my_colors, legend=None, rot=0)\n",
    "ax[0].set_title('CGS')\n",
    "ax[1].set_title('COS')\n",
    "ax[2].set_title('EPSO')\n",
    "ax[0].set_ylabel(award_cnt_label)\n",
    "[a.set_ylim(top=100) for a in ax]\n",
    "ax[0].legend(['Men', 'Women'], fontsize=15)\n",
    "fig.tight_layout()\n",
    "if annotate: [annotate_bars(a) for a in ax]\n",
    "fig.tight_layout()\n",
    "plt.savefig('plots/plot5.png', dpi=200)\n",
    "plt.show()"
   ]
  },
  {
   "cell_type": "markdown",
   "metadata": {},
   "source": [
    "## Time Period/Year"
   ]
  },
  {
   "cell_type": "code",
   "execution_count": 38,
   "metadata": {},
   "outputs": [],
   "source": [
    "years = np.zeros(df.shape[0]).astype(str)\n",
    "years[(df['Year']<=2003).values * (df['Year']>=1995).values] = '1995-2003'\n",
    "years[(df['Year']<=2012).values * (df['Year']>=2004).values] = '2004-2012'\n",
    "years[(df['Year']<=2021).values * (df['Year']>=2013).values] = '2013-2021'\n",
    "df['Time Period'] = years"
   ]
  },
  {
   "cell_type": "code",
   "execution_count": 39,
   "metadata": {},
   "outputs": [
    {
     "data": {
      "text/html": [
       "<div>\n",
       "<style scoped>\n",
       "    .dataframe tbody tr th:only-of-type {\n",
       "        vertical-align: middle;\n",
       "    }\n",
       "\n",
       "    .dataframe tbody tr th {\n",
       "        vertical-align: top;\n",
       "    }\n",
       "\n",
       "    .dataframe thead th {\n",
       "        text-align: right;\n",
       "    }\n",
       "</style>\n",
       "<table border=\"1\" class=\"dataframe\">\n",
       "  <thead>\n",
       "    <tr style=\"text-align: right;\">\n",
       "      <th></th>\n",
       "      <th></th>\n",
       "      <th>Male</th>\n",
       "      <th>Female</th>\n",
       "    </tr>\n",
       "    <tr>\n",
       "      <th>Training Level</th>\n",
       "      <th>Time Period</th>\n",
       "      <th></th>\n",
       "      <th></th>\n",
       "    </tr>\n",
       "  </thead>\n",
       "  <tbody>\n",
       "    <tr>\n",
       "      <th rowspan=\"3\" valign=\"top\">MD</th>\n",
       "      <th>1995-2003</th>\n",
       "      <td>22</td>\n",
       "      <td>5</td>\n",
       "    </tr>\n",
       "    <tr>\n",
       "      <th>2004-2012</th>\n",
       "      <td>45</td>\n",
       "      <td>7</td>\n",
       "    </tr>\n",
       "    <tr>\n",
       "      <th>2013-2021</th>\n",
       "      <td>66</td>\n",
       "      <td>27</td>\n",
       "    </tr>\n",
       "    <tr>\n",
       "      <th rowspan=\"2\" valign=\"top\">MD/PhD</th>\n",
       "      <th>2004-2012</th>\n",
       "      <td>3</td>\n",
       "      <td>1</td>\n",
       "    </tr>\n",
       "    <tr>\n",
       "      <th>2013-2021</th>\n",
       "      <td>7</td>\n",
       "      <td>0</td>\n",
       "    </tr>\n",
       "    <tr>\n",
       "      <th rowspan=\"2\" valign=\"top\">PhD</th>\n",
       "      <th>2004-2012</th>\n",
       "      <td>1</td>\n",
       "      <td>1</td>\n",
       "    </tr>\n",
       "    <tr>\n",
       "      <th>2013-2021</th>\n",
       "      <td>2</td>\n",
       "      <td>2</td>\n",
       "    </tr>\n",
       "    <tr>\n",
       "      <th rowspan=\"3\" valign=\"top\">Student</th>\n",
       "      <th>1995-2003</th>\n",
       "      <td>0</td>\n",
       "      <td>1</td>\n",
       "    </tr>\n",
       "    <tr>\n",
       "      <th>2004-2012</th>\n",
       "      <td>1</td>\n",
       "      <td>4</td>\n",
       "    </tr>\n",
       "    <tr>\n",
       "      <th>2013-2021</th>\n",
       "      <td>13</td>\n",
       "      <td>12</td>\n",
       "    </tr>\n",
       "    <tr>\n",
       "      <th>Unknown</th>\n",
       "      <th>2013-2021</th>\n",
       "      <td>1</td>\n",
       "      <td>4</td>\n",
       "    </tr>\n",
       "  </tbody>\n",
       "</table>\n",
       "</div>"
      ],
      "text/plain": [
       "                            Male  Female\n",
       "Training Level Time Period              \n",
       "MD             1995-2003      22       5\n",
       "               2004-2012      45       7\n",
       "               2013-2021      66      27\n",
       "MD/PhD         2004-2012       3       1\n",
       "               2013-2021       7       0\n",
       "PhD            2004-2012       1       1\n",
       "               2013-2021       2       2\n",
       "Student        1995-2003       0       1\n",
       "               2004-2012       1       4\n",
       "               2013-2021      13      12\n",
       "Unknown        2013-2021       1       4"
      ]
     },
     "execution_count": 39,
     "metadata": {},
     "output_type": "execute_result"
    }
   ],
   "source": [
    "df.groupby(['Training Level', 'Time Period']).sum()[['Male', 'Female']]"
   ]
  },
  {
   "cell_type": "code",
   "execution_count": 40,
   "metadata": {},
   "outputs": [],
   "source": [
    "dfmw = df.groupby(['Training Level', 'Time Period']).sum().unstack(fill_value=0).stack()[['Male', 'Female']].iloc[0:]#.reindex([\"Student\", \"PhD\", \"MD\", \"MD/PhD\", \"Unknown\"])#.reset_index()\n",
    "dfmw = dfmw.reindex(axis='index', level=0, labels=[\"Student\", \"MD\", \"PhD\", \"MD/PhD\", \"Unknown\"]).reset_index()"
   ]
  },
  {
   "cell_type": "code",
   "execution_count": 41,
   "metadata": {},
   "outputs": [
    {
     "data": {
      "image/png": "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\n",
      "text/plain": [
       "<Figure size 864x216 with 3 Axes>"
      ]
     },
     "metadata": {
      "needs_background": "light"
     },
     "output_type": "display_data"
    }
   ],
   "source": [
    "fig, ax = plt.subplots(1, 3, figsize=(12,3))\n",
    "my_colors = list(islice(cycle(['k', 'cyan']), None, len(df)))\n",
    "dfmw[dfmw['Time Period']=='1995-2003'].set_index('Training Level')[['Male', 'Female']].plot(kind='bar', ax=ax[0], ec='black', color=my_colors, rot=0, legend=None)\n",
    "dfmw[dfmw['Time Period']=='2004-2012'].set_index('Training Level')[['Male', 'Female']].plot(kind='bar', ax=ax[1], ec='black', color=my_colors, legend=None, rot=0)\n",
    "dfmw[dfmw['Time Period']=='2013-2021'].set_index('Training Level')[['Male', 'Female']].plot(kind='bar', ax=ax[2], ec='black', color=my_colors, rot=0, legend=None)\n",
    "ax[2].set_title('Years 2013-2021')\n",
    "ax[1].set_title('Years 2004-2012')\n",
    "ax[0].set_title('Years 1995-2003')\n",
    "ax[0].set_ylabel(award_cnt_label)\n",
    "[a.set_ylim(top=85) for a in ax]\n",
    "ax[0].legend(['Men', 'Women'], fontsize=15)\n",
    "if annotate: [annotate_bars(a) for a in ax]\n",
    "fig.tight_layout()\n",
    "plt.savefig('plots/plot8.png', dpi=200)\n",
    "plt.show()"
   ]
  },
  {
   "cell_type": "code",
   "execution_count": 42,
   "metadata": {},
   "outputs": [],
   "source": [
    "dfmw = df.groupby(['Award Type', 'Time Period']).sum().unstack(fill_value=0).stack()[['Male', 'Female']].iloc[0:].reset_index()\n",
    "#dfmw = dfmw.reindex(axis='index', level=0, labels=[\"Student\", \"MD\", \"PhD\", \"MD/PhD\", \"Unknown\"]).reset_index()"
   ]
  },
  {
   "cell_type": "code",
   "execution_count": 44,
   "metadata": {},
   "outputs": [
    {
     "data": {
      "image/png": "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\n",
      "text/plain": [
       "<Figure size 864x216 with 3 Axes>"
      ]
     },
     "metadata": {
      "needs_background": "light"
     },
     "output_type": "display_data"
    }
   ],
   "source": [
    "fig, ax = plt.subplots(1, 3, figsize=(12,3))\n",
    "my_colors = list(islice(cycle(['k', 'cyan']), None, len(df)))\n",
    "dfmw[dfmw['Time Period']=='1995-2003'].set_index('Award Type')[['Male', 'Female']].plot(kind='bar', ax=ax[0], ec='black', color=my_colors, rot=0, legend=None)\n",
    "dfmw[dfmw['Time Period']=='2004-2012'].set_index('Award Type')[['Male', 'Female']].plot(kind='bar', ax=ax[1], ec='black', color=my_colors, legend=None, rot=0)\n",
    "dfmw[dfmw['Time Period']=='2013-2021'].set_index('Award Type')[['Male', 'Female']].plot(kind='bar', ax=ax[2], ec='black', color=my_colors, legend=None, rot=0)\n",
    "ax[0].set_title('Years 1995-2003')\n",
    "ax[1].set_title('Years 2004-2012')\n",
    "ax[2].set_title('Years 2013-2021')\n",
    "ax[0].set_ylabel(award_cnt_label)\n",
    "ax[0].legend(['Men', 'Women'], fontsize=15)\n",
    "[a.set_ylim(top=85) for a in ax]\n",
    "if annotate: [annotate_bars(a) for a in ax]\n",
    "fig.tight_layout()\n",
    "plt.savefig('plots/plot11.png', dpi=200)\n",
    "plt.show()"
   ]
  },
  {
   "cell_type": "code",
   "execution_count": 192,
   "metadata": {},
   "outputs": [
    {
     "data": {
      "text/plain": [
       "<matplotlib.axes._subplots.AxesSubplot at 0x12647e3c8>"
      ]
     },
     "execution_count": 192,
     "metadata": {},
     "output_type": "execute_result"
    },
    {
     "data": {
      "image/png": "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\n",
      "text/plain": [
       "<Figure size 720x360 with 1 Axes>"
      ]
     },
     "metadata": {},
     "output_type": "display_data"
    }
   ],
   "source": [
    "dfmw = df.groupby(['Training Level', 'Time Period']).sum().unstack(fill_value=0).stack()[['Male', 'Female']].iloc[0:].reset_index()\n",
    "dfmw['tot'] = dfmw['Male'] + dfmw['Female']\n",
    "fig, ax = plt.subplots(1,1,figsize=(10,5))\n",
    "dfmw[dfmw['Training Level']=='Student'][['Time Period', 'tot']].iloc[[1,0,2]].plot(x='Time Period', y='tot', label='Student', ls='--', marker='o', ax=ax)\n",
    "dfmw[dfmw['Training Level']=='PhD'][['Time Period', 'tot']].iloc[[1,0,2]].plot(x='Time Period', y='tot', label='PhD', ls='--',marker='o', ax=ax)\n",
    "dfmw[dfmw['Training Level']=='MD'][['Time Period', 'tot']].iloc[[1,0,2]].plot(x='Time Period', y='tot', label='MD', ls='--',marker='o', ax=ax)\n",
    "dfmw[dfmw['Training Level']=='MD/PhD'][['Time Period', 'tot']].iloc[[1,0,2]].plot(x='Time Period', y='tot', label='MD/PhD', ls='--',marker='o', ax=ax)\n",
    "dfmw[dfmw['Training Level']=='Unknown'][['Time Period', 'tot']].iloc[[1,0,2]].plot(x='Time Period', y='tot', label='Unknown', ls='--',marker='o', ax=ax)"
   ]
  },
  {
   "cell_type": "code",
   "execution_count": 193,
   "metadata": {},
   "outputs": [],
   "source": [
    "dfmw = df.groupby('Year').sum()[['Male', 'Female']]"
   ]
  },
  {
   "cell_type": "code",
   "execution_count": 194,
   "metadata": {},
   "outputs": [],
   "source": [
    "male = dfmw['Male'] # .append(pd.Series({1990:0, 1991:0, 1992:0, 1993:0, 1994:0, 1995:0})).sort_index()\n",
    "female = dfmw['Female'] #.append(pd.Series({1990:0, 1991:0, 1992:0, 1993:0, 1994:0, 1995:0})).sort_index()"
   ]
  },
  {
   "cell_type": "code",
   "execution_count": 195,
   "metadata": {},
   "outputs": [
    {
     "data": {
      "image/png": "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\n",
      "text/plain": [
       "<Figure size 576x216 with 1 Axes>"
      ]
     },
     "metadata": {},
     "output_type": "display_data"
    }
   ],
   "source": [
    "fig, ax = plt.subplots(1, 1, figsize=(8,3))\n",
    "male.plot(marker='o', ls='-', ax=ax, color='k', label='Men')\n",
    "female.plot(marker='o', ls='--', ax=ax, color='cyan', label='Women')\n",
    "ax.set_ylabel(award_cnt_label)\n",
    "ax.minorticks_on()\n",
    "ax.legend(fontsize=14)\n",
    "ax.grid(which='both')\n",
    "#ax.set_xlim(left=1990)\n",
    "fig.tight_layout()\n",
    "plt.savefig('plots/plot6.png', dpi=200)"
   ]
  },
  {
   "cell_type": "code",
   "execution_count": 196,
   "metadata": {},
   "outputs": [],
   "source": [
    "first_year = min(df['Year'].values)\n",
    "last_year = max(df['Year'].values)"
   ]
  },
  {
   "cell_type": "code",
   "execution_count": 197,
   "metadata": {},
   "outputs": [
    {
     "data": {
      "text/plain": [
       "5"
      ]
     },
     "execution_count": 197,
     "metadata": {},
     "output_type": "execute_result"
    }
   ],
   "source": [
    "df[df['Year']==2021]['Male'].sum()"
   ]
  },
  {
   "cell_type": "code",
   "execution_count": 198,
   "metadata": {},
   "outputs": [
    {
     "data": {
      "text/plain": [
       "4"
      ]
     },
     "execution_count": 198,
     "metadata": {},
     "output_type": "execute_result"
    }
   ],
   "source": [
    "df[df['Year']==2021]['Female'].sum()"
   ]
  },
  {
   "cell_type": "code",
   "execution_count": 199,
   "metadata": {},
   "outputs": [
    {
     "data": {
      "text/plain": [
       "0.4444444444444444"
      ]
     },
     "execution_count": 199,
     "metadata": {},
     "output_type": "execute_result"
    }
   ],
   "source": [
    "4/9"
   ]
  },
  {
   "cell_type": "code",
   "execution_count": 200,
   "metadata": {},
   "outputs": [
    {
     "data": {
      "text/plain": [
       "2021"
      ]
     },
     "execution_count": 200,
     "metadata": {},
     "output_type": "execute_result"
    }
   ],
   "source": [
    "last_year"
   ]
  },
  {
   "cell_type": "code",
   "execution_count": 201,
   "metadata": {},
   "outputs": [],
   "source": [
    "bins = np.arange(first_year, last_year+2, 3)"
   ]
  },
  {
   "cell_type": "code",
   "execution_count": 202,
   "metadata": {},
   "outputs": [
    {
     "data": {
      "image/png": "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\n",
      "text/plain": [
       "<Figure size 576x216 with 1 Axes>"
      ]
     },
     "metadata": {},
     "output_type": "display_data"
    }
   ],
   "source": [
    "fig, ax = plt.subplots(1, 1, figsize=(8,3))\n",
    "data_cgs = df[df['Society']=='CGS']['Year'].values\n",
    "data_eps = df[df['Society']=='EPS']['Year'].values\n",
    "data_cos = df[df['Society']=='COS']['Year'].values\n",
    "ax.hist(data_cgs, bins=bins, histtype='step', color='blue', alpha=1)\n",
    "ax.hist(data_eps, bins=bins, histtype='step', color='green')\n",
    "ax.hist(data_cos, bins=bins, histtype='step', color='red')\n",
    "ax.set_ylabel('# Of Awards')\n",
    "ax.set_xlabel('Year')\n",
    "fig.tight_layout()\n",
    "plt.show()"
   ]
  },
  {
   "cell_type": "code",
   "execution_count": 48,
   "metadata": {},
   "outputs": [],
   "source": [
    "dfmw = df.groupby(['Society', 'Time Period']).sum()[['Male', 'Female']].reset_index()"
   ]
  },
  {
   "cell_type": "code",
<<<<<<< HEAD:Untitled1.ipynb
   "execution_count": 50,
   "metadata": {
    "scrolled": true
   },
=======
   "execution_count": 49,
   "metadata": {},
>>>>>>> db1c9d4d8b7e0f4dfcc072b2ae1cad3df903c329:.ipynb_checkpoints/radiology-checkpoint.ipynb
   "outputs": [
    {
     "ename": "IndexError",
     "evalue": "index 0 is out of bounds for axis 0 with size 0",
     "output_type": "error",
     "traceback": [
      "\u001b[1;31m---------------------------------------------------------------------------\u001b[0m",
      "\u001b[1;31mIndexError\u001b[0m                                Traceback (most recent call last)",
      "\u001b[1;32m<ipython-input-49-7c9e93c0b799>\u001b[0m in \u001b[0;36m<module>\u001b[1;34m\u001b[0m\n\u001b[0;32m      2\u001b[0m \u001b[0mdfmw\u001b[0m\u001b[1;33m[\u001b[0m\u001b[0mdfmw\u001b[0m\u001b[1;33m[\u001b[0m\u001b[1;34m'Society'\u001b[0m\u001b[1;33m]\u001b[0m\u001b[1;33m==\u001b[0m\u001b[1;34m'CGS'\u001b[0m\u001b[1;33m]\u001b[0m\u001b[1;33m.\u001b[0m\u001b[0mset_index\u001b[0m\u001b[1;33m(\u001b[0m\u001b[1;34m'Time Period'\u001b[0m\u001b[1;33m)\u001b[0m\u001b[1;33m[\u001b[0m\u001b[1;33m[\u001b[0m\u001b[1;34m'Male'\u001b[0m\u001b[1;33m,\u001b[0m \u001b[1;34m'Female'\u001b[0m\u001b[1;33m]\u001b[0m\u001b[1;33m]\u001b[0m\u001b[1;33m.\u001b[0m\u001b[0mplot\u001b[0m\u001b[1;33m(\u001b[0m\u001b[0mkind\u001b[0m\u001b[1;33m=\u001b[0m\u001b[1;34m'bar'\u001b[0m\u001b[1;33m,\u001b[0m \u001b[0max\u001b[0m\u001b[1;33m=\u001b[0m\u001b[0max\u001b[0m\u001b[1;33m[\u001b[0m\u001b[1;36m0\u001b[0m\u001b[1;33m]\u001b[0m\u001b[1;33m,\u001b[0m \u001b[0mec\u001b[0m\u001b[1;33m=\u001b[0m\u001b[1;34m'black'\u001b[0m\u001b[1;33m)\u001b[0m\u001b[1;33m\u001b[0m\u001b[1;33m\u001b[0m\u001b[0m\n\u001b[0;32m      3\u001b[0m \u001b[0mdfmw\u001b[0m\u001b[1;33m[\u001b[0m\u001b[0mdfmw\u001b[0m\u001b[1;33m[\u001b[0m\u001b[1;34m'Society'\u001b[0m\u001b[1;33m]\u001b[0m\u001b[1;33m==\u001b[0m\u001b[1;34m'COS'\u001b[0m\u001b[1;33m]\u001b[0m\u001b[1;33m.\u001b[0m\u001b[0mset_index\u001b[0m\u001b[1;33m(\u001b[0m\u001b[1;34m'Time Period'\u001b[0m\u001b[1;33m)\u001b[0m\u001b[1;33m[\u001b[0m\u001b[1;33m[\u001b[0m\u001b[1;34m'Male'\u001b[0m\u001b[1;33m,\u001b[0m \u001b[1;34m'Female'\u001b[0m\u001b[1;33m]\u001b[0m\u001b[1;33m]\u001b[0m\u001b[1;33m.\u001b[0m\u001b[0mplot\u001b[0m\u001b[1;33m(\u001b[0m\u001b[0mkind\u001b[0m\u001b[1;33m=\u001b[0m\u001b[1;34m'bar'\u001b[0m\u001b[1;33m,\u001b[0m \u001b[0max\u001b[0m\u001b[1;33m=\u001b[0m\u001b[0max\u001b[0m\u001b[1;33m[\u001b[0m\u001b[1;36m1\u001b[0m\u001b[1;33m]\u001b[0m\u001b[1;33m,\u001b[0m \u001b[0mec\u001b[0m\u001b[1;33m=\u001b[0m\u001b[1;34m'black'\u001b[0m\u001b[1;33m,\u001b[0m \u001b[0mlegend\u001b[0m\u001b[1;33m=\u001b[0m\u001b[1;32mNone\u001b[0m\u001b[1;33m)\u001b[0m\u001b[1;33m\u001b[0m\u001b[1;33m\u001b[0m\u001b[0m\n\u001b[1;32m----> 4\u001b[1;33m \u001b[0mdfmw\u001b[0m\u001b[1;33m[\u001b[0m\u001b[0mdfmw\u001b[0m\u001b[1;33m[\u001b[0m\u001b[1;34m'Society'\u001b[0m\u001b[1;33m]\u001b[0m\u001b[1;33m==\u001b[0m\u001b[1;34m'EPS'\u001b[0m\u001b[1;33m]\u001b[0m\u001b[1;33m.\u001b[0m\u001b[0mset_index\u001b[0m\u001b[1;33m(\u001b[0m\u001b[1;34m'Time Period'\u001b[0m\u001b[1;33m)\u001b[0m\u001b[1;33m[\u001b[0m\u001b[1;33m[\u001b[0m\u001b[1;34m'Male'\u001b[0m\u001b[1;33m,\u001b[0m \u001b[1;34m'Female'\u001b[0m\u001b[1;33m]\u001b[0m\u001b[1;33m]\u001b[0m\u001b[1;33m.\u001b[0m\u001b[0mplot\u001b[0m\u001b[1;33m(\u001b[0m\u001b[0mkind\u001b[0m\u001b[1;33m=\u001b[0m\u001b[1;34m'bar'\u001b[0m\u001b[1;33m,\u001b[0m \u001b[0max\u001b[0m\u001b[1;33m=\u001b[0m\u001b[0max\u001b[0m\u001b[1;33m[\u001b[0m\u001b[1;36m2\u001b[0m\u001b[1;33m]\u001b[0m\u001b[1;33m,\u001b[0m \u001b[0mec\u001b[0m\u001b[1;33m=\u001b[0m\u001b[1;34m'black'\u001b[0m\u001b[1;33m,\u001b[0m \u001b[0mlegend\u001b[0m\u001b[1;33m=\u001b[0m\u001b[1;32mNone\u001b[0m\u001b[1;33m)\u001b[0m\u001b[1;33m\u001b[0m\u001b[1;33m\u001b[0m\u001b[0m\n\u001b[0m\u001b[0;32m      5\u001b[0m \u001b[0max\u001b[0m\u001b[1;33m[\u001b[0m\u001b[1;36m0\u001b[0m\u001b[1;33m]\u001b[0m\u001b[1;33m.\u001b[0m\u001b[0mset_title\u001b[0m\u001b[1;33m(\u001b[0m\u001b[1;34m'CGS'\u001b[0m\u001b[1;33m)\u001b[0m\u001b[1;33m\u001b[0m\u001b[1;33m\u001b[0m\u001b[0m\n\u001b[0;32m      6\u001b[0m \u001b[0max\u001b[0m\u001b[1;33m[\u001b[0m\u001b[1;36m1\u001b[0m\u001b[1;33m]\u001b[0m\u001b[1;33m.\u001b[0m\u001b[0mset_title\u001b[0m\u001b[1;33m(\u001b[0m\u001b[1;34m'COS'\u001b[0m\u001b[1;33m)\u001b[0m\u001b[1;33m\u001b[0m\u001b[1;33m\u001b[0m\u001b[0m\n",
      "\u001b[1;32m~\\anaconda3\\lib\\site-packages\\pandas\\plotting\\_core.py\u001b[0m in \u001b[0;36m__call__\u001b[1;34m(self, *args, **kwargs)\u001b[0m\n\u001b[0;32m    947\u001b[0m                     \u001b[0mdata\u001b[0m\u001b[1;33m.\u001b[0m\u001b[0mcolumns\u001b[0m \u001b[1;33m=\u001b[0m \u001b[0mlabel_name\u001b[0m\u001b[1;33m\u001b[0m\u001b[1;33m\u001b[0m\u001b[0m\n\u001b[0;32m    948\u001b[0m \u001b[1;33m\u001b[0m\u001b[0m\n\u001b[1;32m--> 949\u001b[1;33m         \u001b[1;32mreturn\u001b[0m \u001b[0mplot_backend\u001b[0m\u001b[1;33m.\u001b[0m\u001b[0mplot\u001b[0m\u001b[1;33m(\u001b[0m\u001b[0mdata\u001b[0m\u001b[1;33m,\u001b[0m \u001b[0mkind\u001b[0m\u001b[1;33m=\u001b[0m\u001b[0mkind\u001b[0m\u001b[1;33m,\u001b[0m \u001b[1;33m**\u001b[0m\u001b[0mkwargs\u001b[0m\u001b[1;33m)\u001b[0m\u001b[1;33m\u001b[0m\u001b[1;33m\u001b[0m\u001b[0m\n\u001b[0m\u001b[0;32m    950\u001b[0m \u001b[1;33m\u001b[0m\u001b[0m\n\u001b[0;32m    951\u001b[0m     \u001b[0m__call__\u001b[0m\u001b[1;33m.\u001b[0m\u001b[0m__doc__\u001b[0m \u001b[1;33m=\u001b[0m \u001b[0m__doc__\u001b[0m\u001b[1;33m\u001b[0m\u001b[1;33m\u001b[0m\u001b[0m\n",
      "\u001b[1;32m~\\anaconda3\\lib\\site-packages\\pandas\\plotting\\_matplotlib\\__init__.py\u001b[0m in \u001b[0;36mplot\u001b[1;34m(data, kind, **kwargs)\u001b[0m\n\u001b[0;32m     59\u001b[0m             \u001b[0mkwargs\u001b[0m\u001b[1;33m[\u001b[0m\u001b[1;34m\"ax\"\u001b[0m\u001b[1;33m]\u001b[0m \u001b[1;33m=\u001b[0m \u001b[0mgetattr\u001b[0m\u001b[1;33m(\u001b[0m\u001b[0max\u001b[0m\u001b[1;33m,\u001b[0m \u001b[1;34m\"left_ax\"\u001b[0m\u001b[1;33m,\u001b[0m \u001b[0max\u001b[0m\u001b[1;33m)\u001b[0m\u001b[1;33m\u001b[0m\u001b[1;33m\u001b[0m\u001b[0m\n\u001b[0;32m     60\u001b[0m     \u001b[0mplot_obj\u001b[0m \u001b[1;33m=\u001b[0m \u001b[0mPLOT_CLASSES\u001b[0m\u001b[1;33m[\u001b[0m\u001b[0mkind\u001b[0m\u001b[1;33m]\u001b[0m\u001b[1;33m(\u001b[0m\u001b[0mdata\u001b[0m\u001b[1;33m,\u001b[0m \u001b[1;33m**\u001b[0m\u001b[0mkwargs\u001b[0m\u001b[1;33m)\u001b[0m\u001b[1;33m\u001b[0m\u001b[1;33m\u001b[0m\u001b[0m\n\u001b[1;32m---> 61\u001b[1;33m     \u001b[0mplot_obj\u001b[0m\u001b[1;33m.\u001b[0m\u001b[0mgenerate\u001b[0m\u001b[1;33m(\u001b[0m\u001b[1;33m)\u001b[0m\u001b[1;33m\u001b[0m\u001b[1;33m\u001b[0m\u001b[0m\n\u001b[0m\u001b[0;32m     62\u001b[0m     \u001b[0mplot_obj\u001b[0m\u001b[1;33m.\u001b[0m\u001b[0mdraw\u001b[0m\u001b[1;33m(\u001b[0m\u001b[1;33m)\u001b[0m\u001b[1;33m\u001b[0m\u001b[1;33m\u001b[0m\u001b[0m\n\u001b[0;32m     63\u001b[0m     \u001b[1;32mreturn\u001b[0m \u001b[0mplot_obj\u001b[0m\u001b[1;33m.\u001b[0m\u001b[0mresult\u001b[0m\u001b[1;33m\u001b[0m\u001b[1;33m\u001b[0m\u001b[0m\n",
      "\u001b[1;32m~\\anaconda3\\lib\\site-packages\\pandas\\plotting\\_matplotlib\\core.py\u001b[0m in \u001b[0;36mgenerate\u001b[1;34m(self)\u001b[0m\n\u001b[0;32m    276\u001b[0m         \u001b[1;32mfor\u001b[0m \u001b[0max\u001b[0m \u001b[1;32min\u001b[0m \u001b[0mself\u001b[0m\u001b[1;33m.\u001b[0m\u001b[0maxes\u001b[0m\u001b[1;33m:\u001b[0m\u001b[1;33m\u001b[0m\u001b[1;33m\u001b[0m\u001b[0m\n\u001b[0;32m    277\u001b[0m             \u001b[0mself\u001b[0m\u001b[1;33m.\u001b[0m\u001b[0m_post_plot_logic_common\u001b[0m\u001b[1;33m(\u001b[0m\u001b[0max\u001b[0m\u001b[1;33m,\u001b[0m \u001b[0mself\u001b[0m\u001b[1;33m.\u001b[0m\u001b[0mdata\u001b[0m\u001b[1;33m)\u001b[0m\u001b[1;33m\u001b[0m\u001b[1;33m\u001b[0m\u001b[0m\n\u001b[1;32m--> 278\u001b[1;33m             \u001b[0mself\u001b[0m\u001b[1;33m.\u001b[0m\u001b[0m_post_plot_logic\u001b[0m\u001b[1;33m(\u001b[0m\u001b[0max\u001b[0m\u001b[1;33m,\u001b[0m \u001b[0mself\u001b[0m\u001b[1;33m.\u001b[0m\u001b[0mdata\u001b[0m\u001b[1;33m)\u001b[0m\u001b[1;33m\u001b[0m\u001b[1;33m\u001b[0m\u001b[0m\n\u001b[0m\u001b[0;32m    279\u001b[0m \u001b[1;33m\u001b[0m\u001b[0m\n\u001b[0;32m    280\u001b[0m     \u001b[1;32mdef\u001b[0m \u001b[0m_args_adjust\u001b[0m\u001b[1;33m(\u001b[0m\u001b[0mself\u001b[0m\u001b[1;33m)\u001b[0m\u001b[1;33m:\u001b[0m\u001b[1;33m\u001b[0m\u001b[1;33m\u001b[0m\u001b[0m\n",
      "\u001b[1;32m~\\anaconda3\\lib\\site-packages\\pandas\\plotting\\_matplotlib\\core.py\u001b[0m in \u001b[0;36m_post_plot_logic\u001b[1;34m(self, ax, data)\u001b[0m\n\u001b[0;32m   1459\u001b[0m         \u001b[0mname\u001b[0m \u001b[1;33m=\u001b[0m \u001b[0mself\u001b[0m\u001b[1;33m.\u001b[0m\u001b[0m_get_index_name\u001b[0m\u001b[1;33m(\u001b[0m\u001b[1;33m)\u001b[0m\u001b[1;33m\u001b[0m\u001b[1;33m\u001b[0m\u001b[0m\n\u001b[0;32m   1460\u001b[0m \u001b[1;33m\u001b[0m\u001b[0m\n\u001b[1;32m-> 1461\u001b[1;33m         \u001b[0ms_edge\u001b[0m \u001b[1;33m=\u001b[0m \u001b[0mself\u001b[0m\u001b[1;33m.\u001b[0m\u001b[0max_pos\u001b[0m\u001b[1;33m[\u001b[0m\u001b[1;36m0\u001b[0m\u001b[1;33m]\u001b[0m \u001b[1;33m-\u001b[0m \u001b[1;36m0.25\u001b[0m \u001b[1;33m+\u001b[0m \u001b[0mself\u001b[0m\u001b[1;33m.\u001b[0m\u001b[0mlim_offset\u001b[0m\u001b[1;33m\u001b[0m\u001b[1;33m\u001b[0m\u001b[0m\n\u001b[0m\u001b[0;32m   1462\u001b[0m         \u001b[0me_edge\u001b[0m \u001b[1;33m=\u001b[0m \u001b[0mself\u001b[0m\u001b[1;33m.\u001b[0m\u001b[0max_pos\u001b[0m\u001b[1;33m[\u001b[0m\u001b[1;33m-\u001b[0m\u001b[1;36m1\u001b[0m\u001b[1;33m]\u001b[0m \u001b[1;33m+\u001b[0m \u001b[1;36m0.25\u001b[0m \u001b[1;33m+\u001b[0m \u001b[0mself\u001b[0m\u001b[1;33m.\u001b[0m\u001b[0mbar_width\u001b[0m \u001b[1;33m+\u001b[0m \u001b[0mself\u001b[0m\u001b[1;33m.\u001b[0m\u001b[0mlim_offset\u001b[0m\u001b[1;33m\u001b[0m\u001b[1;33m\u001b[0m\u001b[0m\n\u001b[0;32m   1463\u001b[0m \u001b[1;33m\u001b[0m\u001b[0m\n",
      "\u001b[1;31mIndexError\u001b[0m: index 0 is out of bounds for axis 0 with size 0"
     ]
    },
    {
     "data": {
      "image/png": "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\n",
      "text/plain": [
       "<Figure size 936x360 with 3 Axes>"
      ]
     },
     "metadata": {},
     "output_type": "display_data"
    }
   ],
   "source": [
    "fig, ax = plt.subplots(1, 3, figsize=(13,5))\n",
    "dfmw[dfmw['Society']=='CGS'].set_index('Time Period')[['Male', 'Female']].plot(kind='bar', ax=ax[0], ec='black')\n",
    "dfmw[dfmw['Society']=='COS'].set_index('Time Period')[['Male', 'Female']].plot(kind='bar', ax=ax[1], ec='black', legend=None)\n",
    "dfmw[dfmw['Society']=='EPS'].set_index('Time Period')[['Male', 'Female']].plot(kind='bar', ax=ax[2], ec='black', legend=None)\n",
    "ax[0].set_title('CGS')\n",
    "ax[1].set_title('COS')\n",
    "ax[2].set_title('EPS')\n",
    "ax[0].set_ylabel('# Awards')\n",
    "if annotate: [annotate_bars(a) for a in ax]\n",
    "fig.tight_layout()\n",
    "plt.show()"
   ]
  },
  {
   "cell_type": "markdown",
   "metadata": {},
   "source": [
    "## P-Value Between Societies"
   ]
  },
  {
   "cell_type": "markdown",
   "metadata": {},
   "source": [
    "Past year 2010"
   ]
  },
  {
   "cell_type": "code",
   "execution_count": 50,
   "metadata": {},
   "outputs": [
    {
     "data": {
      "text/html": [
       "<div>\n",
       "<style scoped>\n",
       "    .dataframe tbody tr th:only-of-type {\n",
       "        vertical-align: middle;\n",
       "    }\n",
       "\n",
       "    .dataframe tbody tr th {\n",
       "        vertical-align: top;\n",
       "    }\n",
       "\n",
       "    .dataframe thead th {\n",
       "        text-align: right;\n",
       "    }\n",
       "</style>\n",
       "<table border=\"1\" class=\"dataframe\">\n",
       "  <thead>\n",
       "    <tr style=\"text-align: right;\">\n",
       "      <th></th>\n",
       "      <th>Unnamed: 0</th>\n",
       "      <th>Society</th>\n",
       "      <th>Award Type</th>\n",
       "      <th>Year</th>\n",
       "      <th>Award Winner</th>\n",
       "      <th>Training Level</th>\n",
       "      <th>Gender</th>\n",
       "      <th>Male</th>\n",
       "      <th>Female</th>\n",
       "      <th>FName</th>\n",
       "      <th>LName</th>\n",
       "      <th>pred_genders</th>\n",
       "      <th>Male_p</th>\n",
       "      <th>Female_p</th>\n",
       "      <th>Time Period</th>\n",
       "    </tr>\n",
       "  </thead>\n",
       "  <tbody>\n",
       "    <tr>\n",
       "      <th>0</th>\n",
       "      <td>0</td>\n",
       "      <td>COS</td>\n",
       "      <td>Lifetime</td>\n",
       "      <td>2021</td>\n",
       "      <td>Brian Leonard</td>\n",
       "      <td>MD</td>\n",
       "      <td>1</td>\n",
       "      <td>True</td>\n",
       "      <td>False</td>\n",
       "      <td>Brian</td>\n",
       "      <td>Leonard</td>\n",
       "      <td>male</td>\n",
       "      <td>True</td>\n",
       "      <td>False</td>\n",
       "      <td>&gt;2010</td>\n",
       "    </tr>\n",
       "    <tr>\n",
       "      <th>1</th>\n",
       "      <td>1</td>\n",
       "      <td>COS</td>\n",
       "      <td>Lifetime</td>\n",
       "      <td>2020</td>\n",
       "      <td>Simon Holland</td>\n",
       "      <td>MD</td>\n",
       "      <td>1</td>\n",
       "      <td>True</td>\n",
       "      <td>False</td>\n",
       "      <td>Simon</td>\n",
       "      <td>Holland</td>\n",
       "      <td>male</td>\n",
       "      <td>True</td>\n",
       "      <td>False</td>\n",
       "      <td>&gt;2010</td>\n",
       "    </tr>\n",
       "    <tr>\n",
       "      <th>2</th>\n",
       "      <td>2</td>\n",
       "      <td>COS</td>\n",
       "      <td>Lifetime</td>\n",
       "      <td>2019</td>\n",
       "      <td>Helene Boisjoly</td>\n",
       "      <td>MD</td>\n",
       "      <td>2</td>\n",
       "      <td>False</td>\n",
       "      <td>True</td>\n",
       "      <td>Helene</td>\n",
       "      <td>Boisjoly</td>\n",
       "      <td>female</td>\n",
       "      <td>False</td>\n",
       "      <td>True</td>\n",
       "      <td>&gt;2010</td>\n",
       "    </tr>\n",
       "    <tr>\n",
       "      <th>3</th>\n",
       "      <td>3</td>\n",
       "      <td>COS</td>\n",
       "      <td>Lifetime</td>\n",
       "      <td>2018</td>\n",
       "      <td>Graham Trope</td>\n",
       "      <td>MD/PhD</td>\n",
       "      <td>1</td>\n",
       "      <td>True</td>\n",
       "      <td>False</td>\n",
       "      <td>Graham</td>\n",
       "      <td>Trope</td>\n",
       "      <td>male</td>\n",
       "      <td>True</td>\n",
       "      <td>False</td>\n",
       "      <td>&gt;2010</td>\n",
       "    </tr>\n",
       "    <tr>\n",
       "      <th>4</th>\n",
       "      <td>4</td>\n",
       "      <td>COS</td>\n",
       "      <td>Lifetime</td>\n",
       "      <td>2017</td>\n",
       "      <td>Seymour Brownstein</td>\n",
       "      <td>MD</td>\n",
       "      <td>1</td>\n",
       "      <td>True</td>\n",
       "      <td>False</td>\n",
       "      <td>Seymour</td>\n",
       "      <td>Brownstein</td>\n",
       "      <td>male</td>\n",
       "      <td>True</td>\n",
       "      <td>False</td>\n",
       "      <td>&gt;2010</td>\n",
       "    </tr>\n",
       "    <tr>\n",
       "      <th>...</th>\n",
       "      <td>...</td>\n",
       "      <td>...</td>\n",
       "      <td>...</td>\n",
       "      <td>...</td>\n",
       "      <td>...</td>\n",
       "      <td>...</td>\n",
       "      <td>...</td>\n",
       "      <td>...</td>\n",
       "      <td>...</td>\n",
       "      <td>...</td>\n",
       "      <td>...</td>\n",
       "      <td>...</td>\n",
       "      <td>...</td>\n",
       "      <td>...</td>\n",
       "      <td>...</td>\n",
       "    </tr>\n",
       "    <tr>\n",
       "      <th>220</th>\n",
       "      <td>220</td>\n",
       "      <td>EPSO</td>\n",
       "      <td>Lifetime</td>\n",
       "      <td>2013</td>\n",
       "      <td>Jeff Sher</td>\n",
       "      <td>MD</td>\n",
       "      <td>1</td>\n",
       "      <td>True</td>\n",
       "      <td>False</td>\n",
       "      <td>Jeff</td>\n",
       "      <td>Sher</td>\n",
       "      <td>male</td>\n",
       "      <td>True</td>\n",
       "      <td>False</td>\n",
       "      <td>&gt;2010</td>\n",
       "    </tr>\n",
       "    <tr>\n",
       "      <th>221</th>\n",
       "      <td>221</td>\n",
       "      <td>EPSO</td>\n",
       "      <td>Lifetime</td>\n",
       "      <td>2012</td>\n",
       "      <td>Jeff Hurwitz</td>\n",
       "      <td>MD</td>\n",
       "      <td>1</td>\n",
       "      <td>True</td>\n",
       "      <td>False</td>\n",
       "      <td>Jeff</td>\n",
       "      <td>Hurwitz</td>\n",
       "      <td>male</td>\n",
       "      <td>True</td>\n",
       "      <td>False</td>\n",
       "      <td>&gt;2010</td>\n",
       "    </tr>\n",
       "    <tr>\n",
       "      <th>222</th>\n",
       "      <td>222</td>\n",
       "      <td>EPSO</td>\n",
       "      <td>Lifetime</td>\n",
       "      <td>2011</td>\n",
       "      <td>John Fowler</td>\n",
       "      <td>MD</td>\n",
       "      <td>1</td>\n",
       "      <td>True</td>\n",
       "      <td>False</td>\n",
       "      <td>John</td>\n",
       "      <td>Fowler</td>\n",
       "      <td>male</td>\n",
       "      <td>True</td>\n",
       "      <td>False</td>\n",
       "      <td>&gt;2010</td>\n",
       "    </tr>\n",
       "    <tr>\n",
       "      <th>223</th>\n",
       "      <td>223</td>\n",
       "      <td>EPSO</td>\n",
       "      <td>Educator</td>\n",
       "      <td>2017</td>\n",
       "      <td>John Fowler</td>\n",
       "      <td>MD</td>\n",
       "      <td>1</td>\n",
       "      <td>True</td>\n",
       "      <td>False</td>\n",
       "      <td>John</td>\n",
       "      <td>Fowler</td>\n",
       "      <td>male</td>\n",
       "      <td>True</td>\n",
       "      <td>False</td>\n",
       "      <td>&gt;2010</td>\n",
       "    </tr>\n",
       "    <tr>\n",
       "      <th>224</th>\n",
       "      <td>224</td>\n",
       "      <td>EPSO</td>\n",
       "      <td>Lifetime</td>\n",
       "      <td>2019</td>\n",
       "      <td>Kylen McReelis</td>\n",
       "      <td>MD</td>\n",
       "      <td>1</td>\n",
       "      <td>True</td>\n",
       "      <td>False</td>\n",
       "      <td>Kylen</td>\n",
       "      <td>McReelis</td>\n",
       "      <td>male</td>\n",
       "      <td>True</td>\n",
       "      <td>False</td>\n",
       "      <td>&gt;2010</td>\n",
       "    </tr>\n",
       "  </tbody>\n",
       "</table>\n",
       "<p>156 rows × 15 columns</p>\n",
       "</div>"
      ],
      "text/plain": [
       "     Unnamed: 0 Society Award Type  Year        Award Winner Training Level  \\\n",
       "0             0     COS   Lifetime  2021       Brian Leonard             MD   \n",
       "1             1     COS   Lifetime  2020       Simon Holland             MD   \n",
       "2             2     COS   Lifetime  2019     Helene Boisjoly             MD   \n",
       "3             3     COS   Lifetime  2018        Graham Trope         MD/PhD   \n",
       "4             4     COS   Lifetime  2017  Seymour Brownstein             MD   \n",
       "..          ...     ...        ...   ...                 ...            ...   \n",
       "220         220    EPSO   Lifetime  2013           Jeff Sher             MD   \n",
       "221         221    EPSO   Lifetime  2012        Jeff Hurwitz             MD   \n",
       "222         222    EPSO   Lifetime  2011         John Fowler             MD   \n",
       "223         223    EPSO   Educator  2017         John Fowler             MD   \n",
       "224         224    EPSO   Lifetime  2019      Kylen McReelis             MD   \n",
       "\n",
       "     Gender   Male  Female    FName       LName pred_genders  Male_p  \\\n",
       "0         1   True   False    Brian     Leonard         male    True   \n",
       "1         1   True   False    Simon     Holland         male    True   \n",
       "2         2  False    True   Helene    Boisjoly       female   False   \n",
       "3         1   True   False   Graham       Trope         male    True   \n",
       "4         1   True   False  Seymour  Brownstein         male    True   \n",
       "..      ...    ...     ...      ...         ...          ...     ...   \n",
       "220       1   True   False     Jeff        Sher         male    True   \n",
       "221       1   True   False     Jeff     Hurwitz         male    True   \n",
       "222       1   True   False     John      Fowler         male    True   \n",
       "223       1   True   False     John      Fowler         male    True   \n",
       "224       1   True   False    Kylen    McReelis         male    True   \n",
       "\n",
       "     Female_p Time Period  \n",
       "0       False       >2010  \n",
       "1       False       >2010  \n",
       "2        True       >2010  \n",
       "3       False       >2010  \n",
       "4       False       >2010  \n",
       "..        ...         ...  \n",
       "220     False       >2010  \n",
       "221     False       >2010  \n",
       "222     False       >2010  \n",
       "223     False       >2010  \n",
       "224     False       >2010  \n",
       "\n",
       "[156 rows x 15 columns]"
      ]
     },
     "execution_count": 50,
     "metadata": {},
     "output_type": "execute_result"
    }
   ],
   "source": [
    "df[df['Year']>2010]"
   ]
  },
  {
   "cell_type": "code",
   "execution_count": 51,
   "metadata": {},
   "outputs": [],
   "source": [
    "societies = list(df.groupby('Society').sum().index)\n",
    "male = df[df['Year']>2010].groupby('Society').sum()['Male'].values\n",
    "fem = df[df['Year']>2010].groupby('Society').sum()['Female'].values\n",
    "n = fem+male\n",
    "p = fem/n\n",
    "p_err = np.sqrt(p*(1-p)/n)"
   ]
  },
  {
   "cell_type": "code",
   "execution_count": 52,
   "metadata": {},
   "outputs": [
    {
     "data": {
      "text/plain": [
       "array([0.29411765, 0.38613861, 0.0952381 ])"
      ]
     },
     "execution_count": 52,
     "metadata": {},
     "output_type": "execute_result"
    }
   ],
   "source": [
    "p"
   ]
  },
  {
   "cell_type": "code",
   "execution_count": 53,
   "metadata": {},
   "outputs": [
    {
     "data": {
      "text/plain": [
       "array([ 34, 101,  21], dtype=int64)"
      ]
     },
     "execution_count": 53,
     "metadata": {},
     "output_type": "execute_result"
    }
   ],
   "source": [
    "n"
   ]
  },
  {
   "cell_type": "code",
   "execution_count": 54,
   "metadata": {},
   "outputs": [
    {
     "data": {
      "image/png": "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\n",
      "text/plain": [
       "<Figure size 360x288 with 1 Axes>"
      ]
     },
     "metadata": {},
     "output_type": "display_data"
    }
   ],
   "source": [
    "plt.figure(figsize=(5,4))\n",
    "plt.ylabel('% Females With Awards')\n",
    "plt.minorticks_off()\n",
    "plt.xlabel('Society')\n",
    "plt.bar(societies, 100*p)\n",
    "plt.errorbar(societies, 100*p, yerr=100*p_err, fmt=\"o\", color=\"r\")\n",
    "plt.show()"
   ]
  },
  {
   "cell_type": "markdown",
   "metadata": {},
   "source": [
    "https://stats.stackexchange.com/questions/113602/test-if-two-binomial-distributions-are-statistically-different-from-each-other"
   ]
  },
  {
   "cell_type": "code",
   "execution_count": 55,
   "metadata": {},
   "outputs": [
    {
     "data": {
      "text/plain": [
       "['CGS', 'COS', 'EPSO']"
      ]
     },
     "execution_count": 55,
     "metadata": {},
     "output_type": "execute_result"
    }
   ],
   "source": [
    "societies"
   ]
  },
  {
   "cell_type": "code",
   "execution_count": 56,
   "metadata": {},
   "outputs": [
    {
     "data": {
      "text/plain": [
       "array([0.29411765, 0.38613861, 0.0952381 ])"
      ]
     },
     "execution_count": 56,
     "metadata": {},
     "output_type": "execute_result"
    }
   ],
   "source": [
    "p"
   ]
  },
  {
   "cell_type": "code",
   "execution_count": null,
   "metadata": {},
   "outputs": [],
   "source": [
    "n"
   ]
  },
  {
   "cell_type": "markdown",
   "metadata": {},
   "source": [
    "Example: 0 vs. 2"
   ]
  },
  {
   "cell_type": "code",
   "execution_count": null,
   "metadata": {},
   "outputs": [],
   "source": [
    "i1 = 1\n",
    "i2 = 2\n",
    "n1 = n[i1]\n",
    "n2 = n[i2]\n",
    "p1 = p[i1]\n",
    "p2 = p[i2]"
   ]
  },
  {
   "cell_type": "code",
   "execution_count": null,
   "metadata": {},
   "outputs": [],
   "source": [
    "pt = (p1*n1+p2*n2) / (n1 + n2)\n",
    "z = (p1 - p2) / np.sqrt(pt*(1-pt)*(1/n1 + 1/n2))\n",
    "pvalue = scipy.stats.norm.sf(abs(z))"
   ]
  },
  {
   "cell_type": "code",
   "execution_count": null,
   "metadata": {},
   "outputs": [],
   "source": [
    "z"
   ]
  },
  {
   "cell_type": "code",
   "execution_count": null,
   "metadata": {},
   "outputs": [],
   "source": [
    "print(f'Society {societies[i1]} vs Society {societies[i2]}: {scipy.stats.norm.sf(abs(z))}')"
   ]
  },
  {
   "cell_type": "markdown",
   "metadata": {},
   "source": [
    "If comparing to the 28%"
   ]
  },
  {
   "cell_type": "code",
   "execution_count": 62,
   "metadata": {},
   "outputs": [],
   "source": [
    "def compute_pvalue(i):\n",
    "    p_pop = 0.28\n",
    "    z = (p[i] - p_pop) / np.sqrt(pt*(1-pt)*(1/n[i]))\n",
    "    return scipy.stats.norm.sf(abs(z))"
   ]
  },
  {
   "cell_type": "code",
   "execution_count": 63,
   "metadata": {},
   "outputs": [
    {
     "data": {
      "text/plain": [
       "['CGS', 'COS', 'EPSO']"
      ]
     },
     "execution_count": 63,
     "metadata": {},
     "output_type": "execute_result"
    }
   ],
   "source": [
    "societies"
   ]
  },
  {
   "cell_type": "code",
   "execution_count": 96,
   "metadata": {},
   "outputs": [
    {
     "data": {
      "text/plain": [
       "array([0.86165184, 0.02393414, 0.07306063])"
      ]
     },
     "execution_count": 96,
     "metadata": {},
     "output_type": "execute_result"
    }
   ],
   "source": [
    "2*np.array([compute_pvalue(i) for i in range(3)])"
   ]
  },
  {
   "cell_type": "markdown",
   "metadata": {},
   "source": [
    "#### Societies and award ttypes"
   ]
  },
  {
   "cell_type": "code",
   "execution_count": 75,
   "metadata": {},
   "outputs": [],
   "source": [
    "dfmw = df.groupby(['Award Type', 'Society']).sum().unstack(fill_value=0).stack()[['Male', 'Female']].iloc[0:].reset_index()\n",
    "dfmw_cgs = dfmw[dfmw['Society']=='CGS']\n",
    "dfmw_cos = dfmw[dfmw['Society']=='COS']"
   ]
  },
  {
   "cell_type": "code",
   "execution_count": 90,
   "metadata": {},
   "outputs": [],
   "source": [
    "no_research_cgs = dfmw_cgs[dfmw_cgs['Award Type']!='Research'].sum()\n",
    "research_cgs = dfmw_cgs[dfmw_cgs['Award Type']=='Research'].sum()\n",
    "no_research_cos = dfmw_cos[dfmw_cos['Award Type']!='Research'].sum()\n",
    "research_cos = dfmw_cos[dfmw_cos['Award Type']=='Research'].sum()"
   ]
  },
  {
   "cell_type": "code",
   "execution_count": 92,
   "metadata": {},
   "outputs": [],
   "source": [
    "n_cgs_r = research_cgs['Female'] + research_cgs['Male']\n",
    "p_cgs_r = research_cgs['Female']/n_cgs\n",
    "n_cgs_nr = no_research_cgs['Female'] + no_research_cgs['Male']\n",
    "p_cgs_nr = no_research_cgs['Female']/n_cgs_nr\n",
    "\n",
    "n_cos_r = research_cos['Female'] + research_cos['Male']\n",
    "p_cos_r = research_cos['Female']/n_cos_r\n",
    "n_cos_nr = no_research_cos['Female'] + no_research_cos['Male']\n",
    "p_cos_nr = no_research_cos['Female']/n_cos_nr"
   ]
  },
  {
   "cell_type": "code",
   "execution_count": 93,
   "metadata": {},
   "outputs": [],
   "source": [
    "def compute_z(p1,p2,n1,n2):\n",
    "    pt = (p1*n1+p2*n2) / (n1 + n2)\n",
    "    z = (p1 - p2) / np.sqrt(pt*(1-pt)*(1/n1 + 1/n2))\n",
    "    return z"
   ]
  },
  {
   "cell_type": "code",
   "execution_count": 94,
   "metadata": {},
   "outputs": [
    {
     "data": {
      "text/plain": [
       "0.17336118873369766"
      ]
     },
     "execution_count": 94,
     "metadata": {},
     "output_type": "execute_result"
    }
   ],
   "source": [
    "scipy.stats.norm.sf(compute_z(p_cgs_r, p_cgs_nr, n_cgs_r, n_cgs_nr))"
   ]
  },
  {
   "cell_type": "code",
   "execution_count": 95,
   "metadata": {},
   "outputs": [
    {
     "data": {
      "text/plain": [
       "0.01262115619027707"
      ]
     },
     "execution_count": 95,
     "metadata": {},
     "output_type": "execute_result"
    }
   ],
   "source": [
    "scipy.stats.norm.sf(compute_z(p_cos_r, p_cos_nr, n_cos_r, n_cos_nr))"
   ]
  },
  {
   "cell_type": "markdown",
   "metadata": {},
   "source": [
    "# Time Dependent Stuff"
   ]
  },
  {
   "cell_type": "code",
   "execution_count": 154,
   "metadata": {},
   "outputs": [
    {
     "ename": "TypeError",
     "evalue": "can only concatenate str (not \"float\") to str",
     "output_type": "error",
     "traceback": [
      "\u001b[1;31m---------------------------------------------------------------------------\u001b[0m",
      "\u001b[1;31mTypeError\u001b[0m                                 Traceback (most recent call last)",
      "\u001b[1;32m<ipython-input-154-ca9118bea3c4>\u001b[0m in \u001b[0;36m<module>\u001b[1;34m\u001b[0m\n\u001b[0;32m      2\u001b[0m \u001b[0max\u001b[0m \u001b[1;33m=\u001b[0m \u001b[0maxes\u001b[0m\u001b[1;33m[\u001b[0m\u001b[1;36m0\u001b[0m\u001b[1;33m]\u001b[0m\u001b[1;33m\u001b[0m\u001b[1;33m\u001b[0m\u001b[0m\n\u001b[0;32m      3\u001b[0m \u001b[0mdata\u001b[0m \u001b[1;33m=\u001b[0m \u001b[0mdf\u001b[0m\u001b[1;33m[\u001b[0m\u001b[1;34m'Award Type'\u001b[0m\u001b[1;33m]\u001b[0m\u001b[1;33m.\u001b[0m\u001b[0mvalues\u001b[0m\u001b[1;33m\u001b[0m\u001b[1;33m\u001b[0m\u001b[0m\n\u001b[1;32m----> 4\u001b[1;33m \u001b[0mbins\u001b[0m \u001b[1;33m=\u001b[0m \u001b[0mnp\u001b[0m\u001b[1;33m.\u001b[0m\u001b[0marange\u001b[0m\u001b[1;33m(\u001b[0m\u001b[1;36m1\u001b[0m\u001b[1;33m,\u001b[0m \u001b[0mdata\u001b[0m\u001b[1;33m.\u001b[0m\u001b[0mmax\u001b[0m\u001b[1;33m(\u001b[0m\u001b[1;33m)\u001b[0m \u001b[1;33m+\u001b[0m \u001b[1;36m1.5\u001b[0m\u001b[1;33m)\u001b[0m \u001b[1;33m-\u001b[0m \u001b[1;36m0.5\u001b[0m\u001b[1;33m\u001b[0m\u001b[1;33m\u001b[0m\u001b[0m\n\u001b[0m\u001b[0;32m      5\u001b[0m \u001b[0max\u001b[0m\u001b[1;33m.\u001b[0m\u001b[0mhist\u001b[0m\u001b[1;33m(\u001b[0m\u001b[0mdata\u001b[0m\u001b[1;33m,\u001b[0m \u001b[0mbins\u001b[0m\u001b[1;33m,\u001b[0m \u001b[0mec\u001b[0m\u001b[1;33m=\u001b[0m\u001b[1;34m'black'\u001b[0m\u001b[1;33m)\u001b[0m\u001b[1;33m\u001b[0m\u001b[1;33m\u001b[0m\u001b[0m\n\u001b[0;32m      6\u001b[0m \u001b[0max\u001b[0m\u001b[1;33m.\u001b[0m\u001b[0mset_xticks\u001b[0m\u001b[1;33m(\u001b[0m\u001b[0mbins\u001b[0m\u001b[1;33m[\u001b[0m\u001b[1;33m:\u001b[0m\u001b[1;33m-\u001b[0m\u001b[1;36m1\u001b[0m\u001b[1;33m]\u001b[0m \u001b[1;33m+\u001b[0m \u001b[1;36m0.5\u001b[0m\u001b[1;33m)\u001b[0m\u001b[1;33m\u001b[0m\u001b[1;33m\u001b[0m\u001b[0m\n",
      "\u001b[1;31mTypeError\u001b[0m: can only concatenate str (not \"float\") to str"
     ]
    },
    {
     "data": {
      "image/png": "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\n",
      "text/plain": [
       "<Figure size 936x216 with 4 Axes>"
      ]
     },
     "metadata": {},
     "output_type": "display_data"
    }
   ],
   "source": [
    "fig, axes = plt.subplots(1, 4, figsize=(13,3))\n",
    "ax = axes[0]\n",
    "data = df['Award Type'].values\n",
    "bins = np.arange(1, data.max() + 1.5) - 0.5\n",
    "ax.hist(data, bins, ec='black')\n",
    "ax.set_xticks(bins[:-1] + 0.5)\n",
    "ax.set_xlabel('Award Type')\n",
    "ax.set_ylabel('Frequency')\n",
    "ax = axes[1]\n",
    "data = df['Gender'].values\n",
    "bins = np.arange(1, data.max() + 1.5) - 0.5\n",
    "ax.hist(data, bins, ec='black')\n",
    "ax.set_xticks(bins[:-1] + 0.5)\n",
    "ax.set_xlabel('Gender')\n",
    "ax = axes[2]\n",
    "data = df['Training Level'].values\n",
    "bins = np.arange(1, data.max() + 1.5) - 0.5\n",
    "ax.hist(data, bins, ec='black')\n",
    "ax.set_xticks(bins[:-1] + 0.5)\n",
    "ax.set_xlabel('Training Level')\n",
    "ax = axes[3]\n",
    "data = df['Year'].values\n",
    "ax.hist(data, ec='black')\n",
    "ax.set_ylabel('# Of Awards')\n",
    "ax.set_xlabel('Year')\n",
    "if annotate: [annotate_bars(a) for a in axes]\n",
    "fig.tight_layout()\n",
    "plt.show()"
   ]
  },
  {
   "cell_type": "code",
   "execution_count": null,
   "metadata": {},
   "outputs": [],
   "source": [
    "df['Society']"
   ]
  },
  {
   "cell_type": "code",
   "execution_count": 91,
   "metadata": {},
   "outputs": [
    {
     "name": "stderr",
     "output_type": "stream",
     "text": [
      "<ipython-input-91-423e3703f4b3>:8: RuntimeWarning: invalid value encountered in longlong_scalars\n",
      "  p = fem/n\n",
      "<ipython-input-91-423e3703f4b3>:8: RuntimeWarning: invalid value encountered in longlong_scalars\n",
      "  p = fem/n\n",
      "<ipython-input-91-423e3703f4b3>:8: RuntimeWarning: invalid value encountered in longlong_scalars\n",
      "  p = fem/n\n",
      "<ipython-input-91-423e3703f4b3>:8: RuntimeWarning: invalid value encountered in longlong_scalars\n",
      "  p = fem/n\n"
     ]
    }
   ],
   "source": [
    "def get_p(lwr_yr=-np.inf, upr_yr=np.inf, df=df, soc='all'):\n",
    "    if soc!='all':\n",
    "        df = df[df['Society']==soc]\n",
    "    cond = (df['Year']<upr_yr) & (df['Year']>lwr_yr)\n",
    "    fem = df[cond][['Male', 'Female']].sum()[1]\n",
    "    male = df[cond][['Male', 'Female']].sum()[0]\n",
    "    n = fem+male\n",
    "    p = fem/n\n",
    "    p_err = np.sqrt(p*(1-p)/n)\n",
    "    return np.array([p, p_err])\n",
    "\n",
    "yrs_l = ['<2000', '2000-2010', '>2010']\n",
    "yrs = [-np.inf, 2000, 2010, np.inf]\n",
    "\n",
    "# total\n",
    "def get_p_and_err(soc='all'):\n",
    "    p_arr = np.array([get_p(yrs[i], yrs[i+1], soc=soc) for i in range(len(yrs)-1)])\n",
    "    p = p_arr.T[0]\n",
    "    p_err = p_arr.T[1]\n",
    "    return p, p_err\n",
    "\n",
    "p_all, p_err_all = get_p_and_err()\n",
    "p_cos, p_err_cos = get_p_and_err(soc='COS')\n",
    "p_cgs, p_err_cgs = get_p_and_err(soc='CGS')\n",
    "p_eps, p_err_eps = get_p_and_err(soc='EPS')\n",
    "# "
   ]
  },
  {
   "cell_type": "code",
   "execution_count": 92,
   "metadata": {},
   "outputs": [
    {
     "data": {
      "image/png": "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\n",
      "text/plain": [
       "<Figure size 360x288 with 1 Axes>"
      ]
     },
     "metadata": {},
     "output_type": "display_data"
    }
   ],
   "source": [
    "plt.figure(figsize=(5,4))\n",
    "plt.errorbar(yrs_l, 100*p_all, 100*p_err_all, fmt='go--')\n",
    "plt.ylabel('Female Awards [Percentage]')\n",
    "plt.xlabel('Year')\n",
    "plt.minorticks_off()\n",
    "plt.grid()"
   ]
  },
  {
   "cell_type": "code",
   "execution_count": 93,
   "metadata": {},
   "outputs": [
    {
     "data": {
      "text/plain": [
       "array([0.13333333, 0.14634146, 0.32692308])"
      ]
     },
     "execution_count": 93,
     "metadata": {},
     "output_type": "execute_result"
    }
   ],
   "source": [
    "p_all"
   ]
  },
  {
   "cell_type": "code",
   "execution_count": 94,
   "metadata": {},
   "outputs": [
    {
     "data": {
      "text/plain": [
       "array([0.08777075, 0.05519934, 0.03755717])"
      ]
     },
     "execution_count": 94,
     "metadata": {},
     "output_type": "execute_result"
    }
   ],
   "source": [
    "p_err_all"
   ]
  },
  {
   "cell_type": "code",
   "execution_count": 95,
   "metadata": {},
   "outputs": [
    {
     "data": {
      "text/plain": [
       "['<2000', '2000-2010', '>2010']"
      ]
     },
     "execution_count": 95,
     "metadata": {},
     "output_type": "execute_result"
    }
   ],
   "source": [
    "yrs_l"
   ]
  },
  {
   "cell_type": "code",
   "execution_count": 96,
   "metadata": {},
   "outputs": [
    {
     "data": {
      "image/png": "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\n",
      "text/plain": [
       "<Figure size 936x360 with 3 Axes>"
      ]
     },
     "metadata": {},
     "output_type": "display_data"
    }
   ],
   "source": [
    "fig, ax = plt.subplots(1, 3, figsize=(13,5))\n",
    "ax[0].errorbar(yrs_l, 100*p_cos, 100*p_err_cos, fmt='go--')\n",
    "ax[1].errorbar(yrs_l, 100*p_cgs, 100*p_err_cgs, fmt='go--')\n",
    "ax[2].errorbar(yrs_l, 100*p_eps, 100*p_err_eps, fmt='go--')\n",
    "ax[0].set_title('COS')\n",
    "ax[1].set_title('CGS')\n",
    "ax[2].set_title('EPS')\n",
    "ax[0].set_ylabel('% Females with Awards')\n",
    "if annotate: [annotate_bars(a) for a in ax]\n",
    "fig.tight_layout()\n",
    "plt.show()"
   ]
  },
  {
   "cell_type": "markdown",
   "metadata": {},
   "source": [
    "# Societies"
   ]
  },
  {
   "cell_type": "code",
   "execution_count": 97,
   "metadata": {},
   "outputs": [],
   "source": [
    "societies = list(df.groupby('Society').sum().index)\n",
    "societies[2] = 'Eye'\n",
    "male = df.groupby('Society').sum()['Male'].values\n",
    "fem = df.groupby('Society').sum()['Female'].values\n",
    "n = fem+male\n",
    "p = fem/n\n",
    "p_err = np.sqrt(p*(1-p)/n)"
   ]
  },
  {
   "cell_type": "code",
   "execution_count": 98,
   "metadata": {},
   "outputs": [
    {
     "data": {
      "image/png": "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\n",
      "text/plain": [
       "<Figure size 360x288 with 1 Axes>"
      ]
     },
     "metadata": {},
     "output_type": "display_data"
    }
   ],
   "source": [
    "fig, ax = plt.subplots(1,1,figsize=(5,4))\n",
    "ax.set_ylabel('% Females With Awards')\n",
    "ax.minorticks_off()\n",
    "ax.set_xlabel('Society')\n",
    "ax.bar(societies, 100*p)\n",
    "ax.errorbar(societies, 100*p, yerr=100*p_err, fmt=\"o\", color=\"r\")\n",
    "if annotate: annotate_bars(ax)\n",
    "plt.show()"
   ]
  },
  {
   "cell_type": "markdown",
   "metadata": {},
   "source": [
    "# Training Level"
   ]
  },
  {
   "cell_type": "markdown",
   "metadata": {},
   "source": [
    "Maybe use Wilson score as error on $\\hat{p}$"
   ]
  },
  {
   "cell_type": "code",
   "execution_count": 99,
   "metadata": {},
   "outputs": [],
   "source": [
    "t_level = list(df.groupby('Training Level').sum().index)\n",
    "male = df.groupby('Training Level').sum()['Male'].values\n",
    "fem = df.groupby('Training Level').sum()['Female'].values\n",
    "n = fem+male\n",
    "p = fem/n\n",
    "p_err = np.sqrt(p*(1-p)/n)"
   ]
  },
  {
   "cell_type": "code",
   "execution_count": 100,
   "metadata": {},
   "outputs": [
    {
     "data": {
      "image/png": "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\n",
      "text/plain": [
       "<Figure size 360x288 with 1 Axes>"
      ]
     },
     "metadata": {},
     "output_type": "display_data"
    }
   ],
   "source": [
    "fig, ax = plt.subplots(1,1,figsize=(5,4))\n",
    "ax.set_ylabel('% Females With Awards')\n",
    "ax.minorticks_off()\n",
    "ax.set_xlabel('Training Level')\n",
    "ax.bar(t_level, 100*p)\n",
    "ax.errorbar(t_level, 100*p, yerr=100*p_err, fmt=\"o\", color=\"r\")\n",
    "plt.xticks([-1,1,2,3,4,5])\n",
    "if annotate: annotate_bars(ax)\n",
    "plt.show()"
   ]
  },
  {
   "cell_type": "markdown",
   "metadata": {},
   "source": [
    "# Award Type"
   ]
  },
  {
   "cell_type": "code",
   "execution_count": 101,
   "metadata": {},
   "outputs": [],
   "source": [
    "a_type = list(df.groupby('Award Type').sum().index)\n",
    "male = df.groupby('Award Type').sum()['Male'].values\n",
    "fem = df.groupby('Award Type').sum()['Female'].values\n",
    "n = fem+male\n",
    "p = fem/n\n",
    "p_err = np.sqrt(p*(1-p)/n)"
   ]
  },
  {
   "cell_type": "code",
   "execution_count": 102,
   "metadata": {},
   "outputs": [
    {
     "data": {
      "image/png": "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\n",
      "text/plain": [
       "<Figure size 360x288 with 1 Axes>"
      ]
     },
     "metadata": {},
     "output_type": "display_data"
    }
   ],
   "source": [
    "fig, ax = plt.subplots(1,1,figsize=(5,4))\n",
    "ax.set_ylabel('% Females With Awards')\n",
    "ax.minorticks_off()\n",
    "ax.set_xlabel('Award Type')\n",
    "ax.bar(a_type, 100*p)\n",
    "ax.errorbar(a_type, 100*p, yerr=100*p_err, fmt=\"o\", color=\"r\")\n",
    "if annotate: annotate_bars(ax)\n",
    "plt.show()"
   ]
  },
  {
   "cell_type": "markdown",
   "metadata": {},
   "source": [
    "# Societies and Years Awards Were Handed Out"
   ]
  },
  {
   "cell_type": "code",
   "execution_count": 203,
   "metadata": {},
   "outputs": [],
   "source": [
    "societies = list(df.groupby('Society').sum().index)\n",
    "years0 = df[df['Society']==societies[0]].Year.values.astype(int)\n",
    "years1 = df[df['Society']==societies[1]].Year.values.astype(int)\n",
    "years2 = df[df['Society']==societies[2]].Year.values.astype(int)"
   ]
  },
  {
   "cell_type": "code",
   "execution_count": 204,
   "metadata": {},
   "outputs": [],
   "source": [
    "unique0, counts0 = np.unique(years0, return_counts=True)\n",
    "unique1, counts1 = np.unique(years1, return_counts=True)\n",
    "unique2, counts2 = np.unique(years2, return_counts=True)"
   ]
  },
  {
   "cell_type": "code",
   "execution_count": 206,
   "metadata": {},
   "outputs": [
    {
     "data": {
      "image/png": "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\n",
      "text/plain": [
       "<Figure size 576x216 with 1 Axes>"
      ]
     },
     "metadata": {},
     "output_type": "display_data"
    }
   ],
   "source": [
    "fig, ax = plt.subplots(1, 1, figsize=(8,3))\n",
    "ax.plot(unique0, counts0, 'o--', color='green', label=societies[0])\n",
    "ax.plot(unique1, counts1, 'o--', color='k', label=societies[1])\n",
    "ax.plot(unique2, counts2, 'o--', color='blue', label=societies[2])\n",
    "ax.set_ylabel(award_cnt_label)\n",
    "ax.minorticks_on()\n",
    "ax.legend(fontsize=14)\n",
    "ax.grid(which='both')\n",
    "#ax.set_xlim(left=1990)\n",
    "fig.tight_layout()\n",
    "plt.savefig('plots/plot9.png', dpi=200)"
   ]
  },
  {
   "cell_type": "code",
   "execution_count": 277,
   "metadata": {},
   "outputs": [
    {
     "data": {
      "image/png": "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\n",
      "text/plain": [
       "<Figure size 936x216 with 3 Axes>"
      ]
     },
     "metadata": {},
     "output_type": "display_data"
    }
   ],
   "source": [
    "fig, axes = plt.subplots(1, 3, figsize=(13,3))\n",
    "bins = np.arange(years0.min()-1+0.5, years0.max()+0.5) \n",
    "axes[0].hist(years0, bins=bins, ec='white', color='k')\n",
    "axes[0].set_title(societies[0])\n",
    "axes[0].set_ylabel(award_cnt_label)\n",
    "bins = np.arange(years1.min()-1+0.5, years1.max()+0.5) \n",
    "axes[1].hist(years1, bins=bins, ec='white', color='k')\n",
    "axes[1].set_title(societies[1])\n",
    "bins = np.arange(years2.min()-1+0.5, years2.max() +0.5) \n",
    "axes[2].hist(years2, bins=bins, ec='white', color='k')\n",
    "axes[2].set_title(societies[2], fontsize=12)\n",
    "fig.tight_layout()\n",
    "fig.text(0.5, -0.05, 'Year', fontsize=20)\n",
    "plt.savefig('plots/plot7.png', dpi=200)\n",
    "plt.show()"
   ]
  },
  {
   "cell_type": "markdown",
   "metadata": {},
   "source": []
  },
  {
   "cell_type": "code",
   "execution_count": null,
   "metadata": {},
   "outputs": [],
   "source": []
  },
  {
   "cell_type": "code",
   "execution_count": null,
   "metadata": {},
   "outputs": [],
   "source": []
  },
  {
   "cell_type": "code",
   "execution_count": null,
   "metadata": {},
   "outputs": [],
   "source": []
  },
  {
   "cell_type": "code",
   "execution_count": null,
   "metadata": {},
   "outputs": [],
   "source": []
  },
  {
   "cell_type": "code",
   "execution_count": null,
   "metadata": {},
   "outputs": [],
   "source": []
  },
  {
   "cell_type": "code",
   "execution_count": null,
   "metadata": {},
   "outputs": [],
   "source": []
  },
  {
   "cell_type": "code",
   "execution_count": null,
   "metadata": {},
   "outputs": [],
   "source": []
  },
  {
   "cell_type": "code",
   "execution_count": null,
   "metadata": {},
   "outputs": [],
   "source": []
  },
  {
   "cell_type": "markdown",
   "metadata": {},
   "source": [
    "# Extra (OBtaining Genders From Website)"
   ]
  },
  {
   "cell_type": "code",
   "execution_count": 37,
   "metadata": {},
   "outputs": [],
   "source": [
    "def get_genders(names):\n",
    "    pred_genders = []\n",
    "    myKey = \"JljB4rjnA72npkDnX9kBzqVneqV8BQZRU2Zz\"\n",
    "    for name in names:\n",
    "        url = \"https://gender-api.com/get?key=\" + myKey + \"&split={}\".format(name)\n",
    "        response = urlopen(url)\n",
    "        decoded = response.read().decode('utf-8')\n",
    "        data = json.loads(decoded)\n",
    "        pred_genders.append(data['gender'])\n",
    "    return pred_genders\n"
   ]
  },
  {
   "cell_type": "code",
   "execution_count": 38,
   "metadata": {},
   "outputs": [
    {
     "name": "stderr",
     "output_type": "stream",
     "text": [
      "<ipython-input-35-aaec7cf2b4aa>:14: SettingWithCopyWarning: \n",
      "A value is trying to be set on a copy of a slice from a DataFrame\n",
      "\n",
      "See the caveats in the documentation: https://pandas.pydata.org/pandas-docs/stable/user_guide/indexing.html#returning-a-view-versus-a-copy\n",
      "  df['Society'][df['Society']=='Eye physicians and surgeons of Ontario'] = 'EPS'\n",
      "<ipython-input-35-aaec7cf2b4aa>:15: SettingWithCopyWarning: \n",
      "A value is trying to be set on a copy of a slice from a DataFrame\n",
      "\n",
      "See the caveats in the documentation: https://pandas.pydata.org/pandas-docs/stable/user_guide/indexing.html#returning-a-view-versus-a-copy\n",
      "  df['Society'][df['Society']=='*COS'] = 'COS'\n"
     ]
    }
   ],
   "source": [
    "df = open_df('gender_data3.csv', dropna=False)"
   ]
  },
  {
   "cell_type": "code",
   "execution_count": 39,
   "metadata": {},
   "outputs": [],
   "source": [
    "pred_genders = get_genders(df['FName'].values)"
   ]
  },
  {
   "cell_type": "code",
   "execution_count": 40,
   "metadata": {},
   "outputs": [],
   "source": [
    "df['pred_genders'] = pred_genders\n",
    "df.to_csv('gender_data_predicted.csv')"
   ]
  },
  {
   "cell_type": "code",
   "execution_count": 41,
   "metadata": {
    "scrolled": true
   },
   "outputs": [
    {
     "data": {
      "text/html": [
       "<div>\n",
       "<style scoped>\n",
       "    .dataframe tbody tr th:only-of-type {\n",
       "        vertical-align: middle;\n",
       "    }\n",
       "\n",
       "    .dataframe tbody tr th {\n",
       "        vertical-align: top;\n",
       "    }\n",
       "\n",
       "    .dataframe thead th {\n",
       "        text-align: right;\n",
       "    }\n",
       "</style>\n",
       "<table border=\"1\" class=\"dataframe\">\n",
       "  <thead>\n",
       "    <tr style=\"text-align: right;\">\n",
       "      <th></th>\n",
       "      <th>Society</th>\n",
       "      <th>Award Type</th>\n",
       "      <th>Year</th>\n",
       "      <th>Award Winner</th>\n",
       "      <th>Training Level</th>\n",
       "      <th>Gender</th>\n",
       "      <th>Male</th>\n",
       "      <th>Female</th>\n",
       "      <th>FName</th>\n",
       "      <th>LName</th>\n",
       "      <th>pred_genders</th>\n",
       "    </tr>\n",
       "  </thead>\n",
       "  <tbody>\n",
       "    <tr>\n",
       "      <th>0</th>\n",
       "      <td>COS</td>\n",
       "      <td>3</td>\n",
       "      <td>2021</td>\n",
       "      <td>Brian Leonard</td>\n",
       "      <td>1</td>\n",
       "      <td>1</td>\n",
       "      <td>True</td>\n",
       "      <td>False</td>\n",
       "      <td>Brian</td>\n",
       "      <td>Leonard</td>\n",
       "      <td>male</td>\n",
       "    </tr>\n",
       "    <tr>\n",
       "      <th>1</th>\n",
       "      <td>COS</td>\n",
       "      <td>3</td>\n",
       "      <td>2020</td>\n",
       "      <td>Simon Holland</td>\n",
       "      <td>1</td>\n",
       "      <td>1</td>\n",
       "      <td>True</td>\n",
       "      <td>False</td>\n",
       "      <td>Simon</td>\n",
       "      <td>Holland</td>\n",
       "      <td>male</td>\n",
       "    </tr>\n",
       "    <tr>\n",
       "      <th>2</th>\n",
       "      <td>COS</td>\n",
       "      <td>3</td>\n",
       "      <td>2019</td>\n",
       "      <td>Helene Boisjoly</td>\n",
       "      <td>1</td>\n",
       "      <td>2</td>\n",
       "      <td>False</td>\n",
       "      <td>True</td>\n",
       "      <td>Helene</td>\n",
       "      <td>Boisjoly</td>\n",
       "      <td>female</td>\n",
       "    </tr>\n",
       "    <tr>\n",
       "      <th>3</th>\n",
       "      <td>COS</td>\n",
       "      <td>3</td>\n",
       "      <td>2018</td>\n",
       "      <td>Graham Trope</td>\n",
       "      <td>3</td>\n",
       "      <td>1</td>\n",
       "      <td>True</td>\n",
       "      <td>False</td>\n",
       "      <td>Graham</td>\n",
       "      <td>Trope</td>\n",
       "      <td>male</td>\n",
       "    </tr>\n",
       "    <tr>\n",
       "      <th>4</th>\n",
       "      <td>COS</td>\n",
       "      <td>3</td>\n",
       "      <td>2017</td>\n",
       "      <td>Seymour Brownstein</td>\n",
       "      <td>1</td>\n",
       "      <td>1</td>\n",
       "      <td>True</td>\n",
       "      <td>False</td>\n",
       "      <td>Seymour</td>\n",
       "      <td>Brownstein</td>\n",
       "      <td>male</td>\n",
       "    </tr>\n",
       "    <tr>\n",
       "      <th>...</th>\n",
       "      <td>...</td>\n",
       "      <td>...</td>\n",
       "      <td>...</td>\n",
       "      <td>...</td>\n",
       "      <td>...</td>\n",
       "      <td>...</td>\n",
       "      <td>...</td>\n",
       "      <td>...</td>\n",
       "      <td>...</td>\n",
       "      <td>...</td>\n",
       "      <td>...</td>\n",
       "    </tr>\n",
       "    <tr>\n",
       "      <th>220</th>\n",
       "      <td>EPS</td>\n",
       "      <td>3</td>\n",
       "      <td>2013</td>\n",
       "      <td>Jeff Sher</td>\n",
       "      <td>1</td>\n",
       "      <td>1</td>\n",
       "      <td>True</td>\n",
       "      <td>False</td>\n",
       "      <td>Jeff</td>\n",
       "      <td>Sher</td>\n",
       "      <td>male</td>\n",
       "    </tr>\n",
       "    <tr>\n",
       "      <th>221</th>\n",
       "      <td>EPS</td>\n",
       "      <td>3</td>\n",
       "      <td>2012</td>\n",
       "      <td>Jeff Hurwitz</td>\n",
       "      <td>1</td>\n",
       "      <td>1</td>\n",
       "      <td>True</td>\n",
       "      <td>False</td>\n",
       "      <td>Jeff</td>\n",
       "      <td>Hurwitz</td>\n",
       "      <td>male</td>\n",
       "    </tr>\n",
       "    <tr>\n",
       "      <th>222</th>\n",
       "      <td>EPS</td>\n",
       "      <td>3</td>\n",
       "      <td>2011</td>\n",
       "      <td>John Fowler</td>\n",
       "      <td>1</td>\n",
       "      <td>1</td>\n",
       "      <td>True</td>\n",
       "      <td>False</td>\n",
       "      <td>John</td>\n",
       "      <td>Fowler</td>\n",
       "      <td>male</td>\n",
       "    </tr>\n",
       "    <tr>\n",
       "      <th>223</th>\n",
       "      <td>EPS</td>\n",
       "      <td>1</td>\n",
       "      <td>2017</td>\n",
       "      <td>John Fowler</td>\n",
       "      <td>1</td>\n",
       "      <td>1</td>\n",
       "      <td>True</td>\n",
       "      <td>False</td>\n",
       "      <td>John</td>\n",
       "      <td>Fowler</td>\n",
       "      <td>male</td>\n",
       "    </tr>\n",
       "    <tr>\n",
       "      <th>224</th>\n",
       "      <td>EPS</td>\n",
       "      <td>3</td>\n",
       "      <td>2019</td>\n",
       "      <td>Kylen McReelis</td>\n",
       "      <td>1</td>\n",
       "      <td>1</td>\n",
       "      <td>True</td>\n",
       "      <td>False</td>\n",
       "      <td>Kylen</td>\n",
       "      <td>McReelis</td>\n",
       "      <td>male</td>\n",
       "    </tr>\n",
       "  </tbody>\n",
       "</table>\n",
       "<p>225 rows × 11 columns</p>\n",
       "</div>"
      ],
      "text/plain": [
       "    Society  Award Type  Year        Award Winner  Training Level  Gender  \\\n",
       "0       COS           3  2021       Brian Leonard               1       1   \n",
       "1       COS           3  2020       Simon Holland               1       1   \n",
       "2       COS           3  2019     Helene Boisjoly               1       2   \n",
       "3       COS           3  2018        Graham Trope               3       1   \n",
       "4       COS           3  2017  Seymour Brownstein               1       1   \n",
       "..      ...         ...   ...                 ...             ...     ...   \n",
       "220     EPS           3  2013           Jeff Sher               1       1   \n",
       "221     EPS           3  2012        Jeff Hurwitz               1       1   \n",
       "222     EPS           3  2011         John Fowler               1       1   \n",
       "223     EPS           1  2017         John Fowler               1       1   \n",
       "224     EPS           3  2019      Kylen McReelis               1       1   \n",
       "\n",
       "      Male  Female    FName       LName pred_genders  \n",
       "0     True   False    Brian     Leonard         male  \n",
       "1     True   False    Simon     Holland         male  \n",
       "2    False    True   Helene    Boisjoly       female  \n",
       "3     True   False   Graham       Trope         male  \n",
       "4     True   False  Seymour  Brownstein         male  \n",
       "..     ...     ...      ...         ...          ...  \n",
       "220   True   False     Jeff        Sher         male  \n",
       "221   True   False     Jeff     Hurwitz         male  \n",
       "222   True   False     John      Fowler         male  \n",
       "223   True   False     John      Fowler         male  \n",
       "224   True   False    Kylen    McReelis         male  \n",
       "\n",
       "[225 rows x 11 columns]"
      ]
     },
     "execution_count": 41,
     "metadata": {},
     "output_type": "execute_result"
    }
   ],
   "source": [
    "df"
   ]
  },
  {
   "cell_type": "markdown",
   "metadata": {},
   "source": [
    "# Statistics (Oct 15 2021)"
   ]
  },
  {
   "cell_type": "markdown",
   "metadata": {},
   "source": [
    "The columns that take into account all information are `Male` and `Female`"
   ]
  },
  {
   "cell_type": "code",
   "execution_count": 103,
   "metadata": {},
   "outputs": [],
   "source": [
    "def get_p(df=df, lwr_yr=-np.inf, upr_yr=np.inf, soc='all', award='all', t_level='all'):\n",
    "    if soc!='all':\n",
    "        df = df[df['Society']==soc]\n",
    "    if award!='all':\n",
    "        df = df[df['Award Type']==award]\n",
    "    if t_level!='all':\n",
    "        df = df[df['Training Level']==t_level]\n",
    "    cond = (df['Year']<upr_yr) & (df['Year']>lwr_yr)\n",
    "    fem = df[cond][['Male', 'Female']].sum()[1]\n",
    "    male = df[cond][['Male', 'Female']].sum()[0]\n",
    "    n = fem+male\n",
    "    p = fem/n\n",
    "    p_err = np.sqrt(p*(1-p)/n)\n",
    "    return np.array([p,p_err])\n",
    "\n",
    "def get_cont_table(df, column, pair, geqleq=False, posfalse=False):\n",
    "    if geqleq:\n",
    "        df1 = df[(df[column]>=pair[0][0])&(df[column]<=pair[0][1])]\n",
    "        df2 = df[(df[column]>=pair[1][0])&(df[column]<=pair[1][1])]\n",
    "    elif posfalse:\n",
    "        df1 = df[df[column]==pair]\n",
    "        df2 = df[df[column]!=pair]\n",
    "    else:\n",
    "        df1 = df[df[column]==pair[0]]\n",
    "        df2 = df[df[column]==pair[1]]\n",
    "    \n",
    "    fem1 = df1[['Male', 'Female']].sum()[1]\n",
    "    male1 = df1[['Male', 'Female']].sum()[0]\n",
    "    fem2 = df2[['Male', 'Female']].sum()[1]\n",
    "    male2 = df2[['Male', 'Female']].sum()[0]\n",
    "    return np.array([[fem1, fem2],[male1,male2]])\n",
    "\n",
    "def get_p_binom(df, assumed_ratio=0.283):\n",
    "    fem = df[['Male', 'Female']].sum()[1]\n",
    "    male = df[['Male', 'Female']].sum()[0]\n",
    "    return binom_test(fem, fem+male, assumed_ratio)"
   ]
  },
  {
   "cell_type": "code",
   "execution_count": 27,
   "metadata": {},
   "outputs": [],
   "source": [
    "ps = get_p(df)"
   ]
  },
  {
   "cell_type": "code",
   "execution_count": 28,
   "metadata": {},
   "outputs": [
    {
     "data": {
      "text/plain": [
       "0.058950191358295836"
      ]
     },
     "execution_count": 28,
     "metadata": {},
     "output_type": "execute_result"
    }
   ],
   "source": [
    "ps[1]*1.96"
   ]
  },
  {
   "cell_type": "code",
   "execution_count": 70,
   "metadata": {},
   "outputs": [
    {
     "data": {
      "text/html": [
       "<div>\n",
       "<style scoped>\n",
       "    .dataframe tbody tr th:only-of-type {\n",
       "        vertical-align: middle;\n",
       "    }\n",
       "\n",
       "    .dataframe tbody tr th {\n",
       "        vertical-align: top;\n",
       "    }\n",
       "\n",
       "    .dataframe thead th {\n",
       "        text-align: right;\n",
       "    }\n",
       "</style>\n",
       "<table border=\"1\" class=\"dataframe\">\n",
       "  <thead>\n",
       "    <tr style=\"text-align: right;\">\n",
       "      <th></th>\n",
       "      <th>Unnamed: 0</th>\n",
       "      <th>Society</th>\n",
       "      <th>Award Type</th>\n",
       "      <th>Year</th>\n",
       "      <th>Award Winner</th>\n",
       "      <th>Training Level</th>\n",
       "      <th>Gender</th>\n",
       "      <th>Male</th>\n",
       "      <th>Female</th>\n",
       "      <th>FName</th>\n",
       "      <th>LName</th>\n",
       "      <th>pred_genders</th>\n",
       "      <th>Male_p</th>\n",
       "      <th>Female_p</th>\n",
       "    </tr>\n",
       "  </thead>\n",
       "  <tbody>\n",
       "    <tr>\n",
       "      <th>170</th>\n",
       "      <td>170</td>\n",
       "      <td>CGS</td>\n",
       "      <td>Lifetime</td>\n",
       "      <td>2018</td>\n",
       "      <td>Graham Trope</td>\n",
       "      <td>MD/PhD</td>\n",
       "      <td>1</td>\n",
       "      <td>True</td>\n",
       "      <td>False</td>\n",
       "      <td>Graham</td>\n",
       "      <td>Trope</td>\n",
       "      <td>male</td>\n",
       "      <td>True</td>\n",
       "      <td>False</td>\n",
       "    </tr>\n",
       "    <tr>\n",
       "      <th>171</th>\n",
       "      <td>171</td>\n",
       "      <td>CGS</td>\n",
       "      <td>Lifetime</td>\n",
       "      <td>2016</td>\n",
       "      <td>Gordon Douglas</td>\n",
       "      <td>MD</td>\n",
       "      <td>1</td>\n",
       "      <td>True</td>\n",
       "      <td>False</td>\n",
       "      <td>Gordon</td>\n",
       "      <td>Douglas</td>\n",
       "      <td>male</td>\n",
       "      <td>True</td>\n",
       "      <td>False</td>\n",
       "    </tr>\n",
       "    <tr>\n",
       "      <th>172</th>\n",
       "      <td>172</td>\n",
       "      <td>CGS</td>\n",
       "      <td>Research</td>\n",
       "      <td>2020</td>\n",
       "      <td>James Armstrong</td>\n",
       "      <td>MD/PhD</td>\n",
       "      <td>1</td>\n",
       "      <td>True</td>\n",
       "      <td>False</td>\n",
       "      <td>James</td>\n",
       "      <td>Armstrong</td>\n",
       "      <td>male</td>\n",
       "      <td>True</td>\n",
       "      <td>False</td>\n",
       "    </tr>\n",
       "    <tr>\n",
       "      <th>173</th>\n",
       "      <td>173</td>\n",
       "      <td>CGS</td>\n",
       "      <td>Research</td>\n",
       "      <td>2019</td>\n",
       "      <td>Saba Samet</td>\n",
       "      <td>MD</td>\n",
       "      <td>2</td>\n",
       "      <td>False</td>\n",
       "      <td>True</td>\n",
       "      <td>Saba</td>\n",
       "      <td>Samet</td>\n",
       "      <td>female</td>\n",
       "      <td>False</td>\n",
       "      <td>True</td>\n",
       "    </tr>\n",
       "    <tr>\n",
       "      <th>174</th>\n",
       "      <td>174</td>\n",
       "      <td>CGS</td>\n",
       "      <td>Research</td>\n",
       "      <td>2018</td>\n",
       "      <td>Bill Shi</td>\n",
       "      <td>Student</td>\n",
       "      <td>-1</td>\n",
       "      <td>True</td>\n",
       "      <td>False</td>\n",
       "      <td>Bill</td>\n",
       "      <td>Shi</td>\n",
       "      <td>male</td>\n",
       "      <td>True</td>\n",
       "      <td>False</td>\n",
       "    </tr>\n",
       "    <tr>\n",
       "      <th>175</th>\n",
       "      <td>175</td>\n",
       "      <td>CGS</td>\n",
       "      <td>Research</td>\n",
       "      <td>2017</td>\n",
       "      <td>Matthew Schlenker</td>\n",
       "      <td>MD</td>\n",
       "      <td>1</td>\n",
       "      <td>True</td>\n",
       "      <td>False</td>\n",
       "      <td>Matthew</td>\n",
       "      <td>Schlenker</td>\n",
       "      <td>male</td>\n",
       "      <td>True</td>\n",
       "      <td>False</td>\n",
       "    </tr>\n",
       "    <tr>\n",
       "      <th>176</th>\n",
       "      <td>176</td>\n",
       "      <td>CGS</td>\n",
       "      <td>Research</td>\n",
       "      <td>2016</td>\n",
       "      <td>Nicholas Ault</td>\n",
       "      <td>Student</td>\n",
       "      <td>1</td>\n",
       "      <td>True</td>\n",
       "      <td>False</td>\n",
       "      <td>Nicholas</td>\n",
       "      <td>Ault</td>\n",
       "      <td>male</td>\n",
       "      <td>True</td>\n",
       "      <td>False</td>\n",
       "    </tr>\n",
       "    <tr>\n",
       "      <th>177</th>\n",
       "      <td>177</td>\n",
       "      <td>CGS</td>\n",
       "      <td>Research</td>\n",
       "      <td>2015</td>\n",
       "      <td>Edward Moss</td>\n",
       "      <td>MD</td>\n",
       "      <td>1</td>\n",
       "      <td>True</td>\n",
       "      <td>False</td>\n",
       "      <td>Edward</td>\n",
       "      <td>Moss</td>\n",
       "      <td>male</td>\n",
       "      <td>True</td>\n",
       "      <td>False</td>\n",
       "    </tr>\n",
       "    <tr>\n",
       "      <th>178</th>\n",
       "      <td>178</td>\n",
       "      <td>CGS</td>\n",
       "      <td>Research</td>\n",
       "      <td>2013</td>\n",
       "      <td>Yiannis Lordanous</td>\n",
       "      <td>MD</td>\n",
       "      <td>1</td>\n",
       "      <td>True</td>\n",
       "      <td>False</td>\n",
       "      <td>Yiannis</td>\n",
       "      <td>Lordanous</td>\n",
       "      <td>male</td>\n",
       "      <td>True</td>\n",
       "      <td>False</td>\n",
       "    </tr>\n",
       "    <tr>\n",
       "      <th>179</th>\n",
       "      <td>179</td>\n",
       "      <td>CGS</td>\n",
       "      <td>Research</td>\n",
       "      <td>2020</td>\n",
       "      <td>Carter Lim</td>\n",
       "      <td>MD</td>\n",
       "      <td>1</td>\n",
       "      <td>True</td>\n",
       "      <td>False</td>\n",
       "      <td>Carter</td>\n",
       "      <td>Lim</td>\n",
       "      <td>male</td>\n",
       "      <td>True</td>\n",
       "      <td>False</td>\n",
       "    </tr>\n",
       "    <tr>\n",
       "      <th>180</th>\n",
       "      <td>180</td>\n",
       "      <td>CGS</td>\n",
       "      <td>Research</td>\n",
       "      <td>2020</td>\n",
       "      <td>Nikoleta Tellios</td>\n",
       "      <td>Unknown</td>\n",
       "      <td>2</td>\n",
       "      <td>False</td>\n",
       "      <td>True</td>\n",
       "      <td>Nikoleta</td>\n",
       "      <td>Tellios</td>\n",
       "      <td>female</td>\n",
       "      <td>False</td>\n",
       "      <td>True</td>\n",
       "    </tr>\n",
       "    <tr>\n",
       "      <th>181</th>\n",
       "      <td>181</td>\n",
       "      <td>CGS</td>\n",
       "      <td>Research</td>\n",
       "      <td>2020</td>\n",
       "      <td>Lucas Torres</td>\n",
       "      <td>MD</td>\n",
       "      <td>1</td>\n",
       "      <td>True</td>\n",
       "      <td>False</td>\n",
       "      <td>Lucas</td>\n",
       "      <td>Torres</td>\n",
       "      <td>male</td>\n",
       "      <td>True</td>\n",
       "      <td>False</td>\n",
       "    </tr>\n",
       "    <tr>\n",
       "      <th>182</th>\n",
       "      <td>182</td>\n",
       "      <td>CGS</td>\n",
       "      <td>Research</td>\n",
       "      <td>2020</td>\n",
       "      <td>Cindy Hutnik</td>\n",
       "      <td>MD</td>\n",
       "      <td>2</td>\n",
       "      <td>False</td>\n",
       "      <td>True</td>\n",
       "      <td>Cindy</td>\n",
       "      <td>Hutnik</td>\n",
       "      <td>female</td>\n",
       "      <td>False</td>\n",
       "      <td>True</td>\n",
       "    </tr>\n",
       "    <tr>\n",
       "      <th>183</th>\n",
       "      <td>183</td>\n",
       "      <td>CGS</td>\n",
       "      <td>Research</td>\n",
       "      <td>2019</td>\n",
       "      <td>Vinay Kansal</td>\n",
       "      <td>MD</td>\n",
       "      <td>1</td>\n",
       "      <td>True</td>\n",
       "      <td>False</td>\n",
       "      <td>Vinay</td>\n",
       "      <td>Kansal</td>\n",
       "      <td>male</td>\n",
       "      <td>True</td>\n",
       "      <td>False</td>\n",
       "    </tr>\n",
       "    <tr>\n",
       "      <th>184</th>\n",
       "      <td>184</td>\n",
       "      <td>CGS</td>\n",
       "      <td>Research</td>\n",
       "      <td>2019</td>\n",
       "      <td>Emily Mathieu</td>\n",
       "      <td>PhD</td>\n",
       "      <td>-1</td>\n",
       "      <td>False</td>\n",
       "      <td>True</td>\n",
       "      <td>Emily</td>\n",
       "      <td>Mathieu</td>\n",
       "      <td>female</td>\n",
       "      <td>False</td>\n",
       "      <td>True</td>\n",
       "    </tr>\n",
       "    <tr>\n",
       "      <th>185</th>\n",
       "      <td>185</td>\n",
       "      <td>CGS</td>\n",
       "      <td>Research</td>\n",
       "      <td>2019</td>\n",
       "      <td>Lucas Torres</td>\n",
       "      <td>MD</td>\n",
       "      <td>1</td>\n",
       "      <td>True</td>\n",
       "      <td>False</td>\n",
       "      <td>Lucas</td>\n",
       "      <td>Torres</td>\n",
       "      <td>male</td>\n",
       "      <td>True</td>\n",
       "      <td>False</td>\n",
       "    </tr>\n",
       "    <tr>\n",
       "      <th>186</th>\n",
       "      <td>186</td>\n",
       "      <td>CGS</td>\n",
       "      <td>Research</td>\n",
       "      <td>2018</td>\n",
       "      <td>Evan Michaelov</td>\n",
       "      <td>MD</td>\n",
       "      <td>1</td>\n",
       "      <td>True</td>\n",
       "      <td>False</td>\n",
       "      <td>Evan</td>\n",
       "      <td>Michaelov</td>\n",
       "      <td>male</td>\n",
       "      <td>True</td>\n",
       "      <td>False</td>\n",
       "    </tr>\n",
       "    <tr>\n",
       "      <th>187</th>\n",
       "      <td>187</td>\n",
       "      <td>CGS</td>\n",
       "      <td>Research</td>\n",
       "      <td>2018</td>\n",
       "      <td>Emily Mathieu</td>\n",
       "      <td>PhD</td>\n",
       "      <td>-1</td>\n",
       "      <td>False</td>\n",
       "      <td>True</td>\n",
       "      <td>Emily</td>\n",
       "      <td>Mathieu</td>\n",
       "      <td>female</td>\n",
       "      <td>False</td>\n",
       "      <td>True</td>\n",
       "    </tr>\n",
       "    <tr>\n",
       "      <th>188</th>\n",
       "      <td>188</td>\n",
       "      <td>CGS</td>\n",
       "      <td>Research</td>\n",
       "      <td>2018</td>\n",
       "      <td>Simrenjeet Sandhu</td>\n",
       "      <td>MD</td>\n",
       "      <td>1</td>\n",
       "      <td>True</td>\n",
       "      <td>False</td>\n",
       "      <td>Simrenjeet</td>\n",
       "      <td>Sandhu</td>\n",
       "      <td>unknown</td>\n",
       "      <td>False</td>\n",
       "      <td>False</td>\n",
       "    </tr>\n",
       "    <tr>\n",
       "      <th>189</th>\n",
       "      <td>189</td>\n",
       "      <td>CGS</td>\n",
       "      <td>Research</td>\n",
       "      <td>2018</td>\n",
       "      <td>Sunil Parapurum</td>\n",
       "      <td>PhD</td>\n",
       "      <td>1</td>\n",
       "      <td>True</td>\n",
       "      <td>False</td>\n",
       "      <td>Sunil</td>\n",
       "      <td>Parapurum</td>\n",
       "      <td>male</td>\n",
       "      <td>True</td>\n",
       "      <td>False</td>\n",
       "    </tr>\n",
       "    <tr>\n",
       "      <th>190</th>\n",
       "      <td>190</td>\n",
       "      <td>CGS</td>\n",
       "      <td>Research</td>\n",
       "      <td>2017</td>\n",
       "      <td>Wendy Wang</td>\n",
       "      <td>Student</td>\n",
       "      <td>2</td>\n",
       "      <td>False</td>\n",
       "      <td>True</td>\n",
       "      <td>Wendy</td>\n",
       "      <td>Wang</td>\n",
       "      <td>female</td>\n",
       "      <td>False</td>\n",
       "      <td>True</td>\n",
       "    </tr>\n",
       "    <tr>\n",
       "      <th>191</th>\n",
       "      <td>191</td>\n",
       "      <td>CGS</td>\n",
       "      <td>Research</td>\n",
       "      <td>2017</td>\n",
       "      <td>Jayme Vianna</td>\n",
       "      <td>MD</td>\n",
       "      <td>1</td>\n",
       "      <td>True</td>\n",
       "      <td>False</td>\n",
       "      <td>Jayme</td>\n",
       "      <td>Vianna</td>\n",
       "      <td>female</td>\n",
       "      <td>False</td>\n",
       "      <td>True</td>\n",
       "    </tr>\n",
       "    <tr>\n",
       "      <th>192</th>\n",
       "      <td>192</td>\n",
       "      <td>CGS</td>\n",
       "      <td>Research</td>\n",
       "      <td>2017</td>\n",
       "      <td>Shawn Cohen</td>\n",
       "      <td>MD</td>\n",
       "      <td>1</td>\n",
       "      <td>True</td>\n",
       "      <td>False</td>\n",
       "      <td>Shawn</td>\n",
       "      <td>Cohen</td>\n",
       "      <td>male</td>\n",
       "      <td>True</td>\n",
       "      <td>False</td>\n",
       "    </tr>\n",
       "    <tr>\n",
       "      <th>193</th>\n",
       "      <td>193</td>\n",
       "      <td>CGS</td>\n",
       "      <td>Research</td>\n",
       "      <td>2016</td>\n",
       "      <td>Sarah Mullen</td>\n",
       "      <td>MD</td>\n",
       "      <td>2</td>\n",
       "      <td>False</td>\n",
       "      <td>True</td>\n",
       "      <td>Sarah</td>\n",
       "      <td>Mullen</td>\n",
       "      <td>female</td>\n",
       "      <td>False</td>\n",
       "      <td>True</td>\n",
       "    </tr>\n",
       "    <tr>\n",
       "      <th>194</th>\n",
       "      <td>194</td>\n",
       "      <td>CGS</td>\n",
       "      <td>Research</td>\n",
       "      <td>2016</td>\n",
       "      <td>Angela Zhang</td>\n",
       "      <td>MD</td>\n",
       "      <td>2</td>\n",
       "      <td>False</td>\n",
       "      <td>True</td>\n",
       "      <td>Angela</td>\n",
       "      <td>Zhang</td>\n",
       "      <td>female</td>\n",
       "      <td>False</td>\n",
       "      <td>True</td>\n",
       "    </tr>\n",
       "    <tr>\n",
       "      <th>195</th>\n",
       "      <td>195</td>\n",
       "      <td>CGS</td>\n",
       "      <td>Research</td>\n",
       "      <td>2016</td>\n",
       "      <td>Yogesh Patodia</td>\n",
       "      <td>Student</td>\n",
       "      <td>1</td>\n",
       "      <td>True</td>\n",
       "      <td>False</td>\n",
       "      <td>Yogesh</td>\n",
       "      <td>Patodia</td>\n",
       "      <td>male</td>\n",
       "      <td>True</td>\n",
       "      <td>False</td>\n",
       "    </tr>\n",
       "    <tr>\n",
       "      <th>196</th>\n",
       "      <td>196</td>\n",
       "      <td>CGS</td>\n",
       "      <td>Research</td>\n",
       "      <td>2016</td>\n",
       "      <td>Jayme Vianna</td>\n",
       "      <td>MD</td>\n",
       "      <td>1</td>\n",
       "      <td>True</td>\n",
       "      <td>False</td>\n",
       "      <td>Jayme</td>\n",
       "      <td>Vianna</td>\n",
       "      <td>female</td>\n",
       "      <td>False</td>\n",
       "      <td>True</td>\n",
       "    </tr>\n",
       "    <tr>\n",
       "      <th>197</th>\n",
       "      <td>197</td>\n",
       "      <td>CGS</td>\n",
       "      <td>Research</td>\n",
       "      <td>2015</td>\n",
       "      <td>Jeremy Murphy</td>\n",
       "      <td>MD</td>\n",
       "      <td>1</td>\n",
       "      <td>True</td>\n",
       "      <td>False</td>\n",
       "      <td>Jeremy</td>\n",
       "      <td>Murphy</td>\n",
       "      <td>male</td>\n",
       "      <td>True</td>\n",
       "      <td>False</td>\n",
       "    </tr>\n",
       "    <tr>\n",
       "      <th>198</th>\n",
       "      <td>198</td>\n",
       "      <td>CGS</td>\n",
       "      <td>Research</td>\n",
       "      <td>2015</td>\n",
       "      <td>Sourabh Arora</td>\n",
       "      <td>MD</td>\n",
       "      <td>1</td>\n",
       "      <td>True</td>\n",
       "      <td>False</td>\n",
       "      <td>Sourabh</td>\n",
       "      <td>Arora</td>\n",
       "      <td>male</td>\n",
       "      <td>True</td>\n",
       "      <td>False</td>\n",
       "    </tr>\n",
       "    <tr>\n",
       "      <th>199</th>\n",
       "      <td>199</td>\n",
       "      <td>CGS</td>\n",
       "      <td>Research</td>\n",
       "      <td>2015</td>\n",
       "      <td>Tal Milman</td>\n",
       "      <td>Student</td>\n",
       "      <td>1</td>\n",
       "      <td>True</td>\n",
       "      <td>False</td>\n",
       "      <td>Tal</td>\n",
       "      <td>Milman</td>\n",
       "      <td>male</td>\n",
       "      <td>True</td>\n",
       "      <td>False</td>\n",
       "    </tr>\n",
       "    <tr>\n",
       "      <th>200</th>\n",
       "      <td>200</td>\n",
       "      <td>CGS</td>\n",
       "      <td>Research</td>\n",
       "      <td>2015</td>\n",
       "      <td>Sera Thomas</td>\n",
       "      <td>Unknown</td>\n",
       "      <td>2</td>\n",
       "      <td>False</td>\n",
       "      <td>True</td>\n",
       "      <td>Sera</td>\n",
       "      <td>Thomas</td>\n",
       "      <td>female</td>\n",
       "      <td>False</td>\n",
       "      <td>True</td>\n",
       "    </tr>\n",
       "    <tr>\n",
       "      <th>201</th>\n",
       "      <td>201</td>\n",
       "      <td>CGS</td>\n",
       "      <td>Research</td>\n",
       "      <td>2014</td>\n",
       "      <td>Gary Yau</td>\n",
       "      <td>MD</td>\n",
       "      <td>1</td>\n",
       "      <td>True</td>\n",
       "      <td>False</td>\n",
       "      <td>Gary</td>\n",
       "      <td>Yau</td>\n",
       "      <td>male</td>\n",
       "      <td>True</td>\n",
       "      <td>False</td>\n",
       "    </tr>\n",
       "    <tr>\n",
       "      <th>202</th>\n",
       "      <td>202</td>\n",
       "      <td>CGS</td>\n",
       "      <td>Research</td>\n",
       "      <td>2014</td>\n",
       "      <td>Kelsey Watson</td>\n",
       "      <td>Student</td>\n",
       "      <td>2</td>\n",
       "      <td>False</td>\n",
       "      <td>True</td>\n",
       "      <td>Kelsey</td>\n",
       "      <td>Watson</td>\n",
       "      <td>female</td>\n",
       "      <td>False</td>\n",
       "      <td>True</td>\n",
       "    </tr>\n",
       "    <tr>\n",
       "      <th>203</th>\n",
       "      <td>203</td>\n",
       "      <td>CGS</td>\n",
       "      <td>Research</td>\n",
       "      <td>2014</td>\n",
       "      <td>Yiannis Lordanous</td>\n",
       "      <td>MD</td>\n",
       "      <td>1</td>\n",
       "      <td>True</td>\n",
       "      <td>False</td>\n",
       "      <td>Yiannis</td>\n",
       "      <td>Lordanous</td>\n",
       "      <td>male</td>\n",
       "      <td>True</td>\n",
       "      <td>False</td>\n",
       "    </tr>\n",
       "  </tbody>\n",
       "</table>\n",
       "</div>"
      ],
      "text/plain": [
       "     Unnamed: 0 Society Award Type  Year       Award Winner Training Level  \\\n",
       "170         170     CGS   Lifetime  2018       Graham Trope         MD/PhD   \n",
       "171         171     CGS   Lifetime  2016     Gordon Douglas             MD   \n",
       "172         172     CGS   Research  2020    James Armstrong         MD/PhD   \n",
       "173         173     CGS   Research  2019         Saba Samet             MD   \n",
       "174         174     CGS   Research  2018           Bill Shi        Student   \n",
       "175         175     CGS   Research  2017  Matthew Schlenker             MD   \n",
       "176         176     CGS   Research  2016      Nicholas Ault        Student   \n",
       "177         177     CGS   Research  2015        Edward Moss             MD   \n",
       "178         178     CGS   Research  2013  Yiannis Lordanous             MD   \n",
       "179         179     CGS   Research  2020         Carter Lim             MD   \n",
       "180         180     CGS   Research  2020   Nikoleta Tellios        Unknown   \n",
       "181         181     CGS   Research  2020       Lucas Torres             MD   \n",
       "182         182     CGS   Research  2020       Cindy Hutnik             MD   \n",
       "183         183     CGS   Research  2019       Vinay Kansal             MD   \n",
       "184         184     CGS   Research  2019      Emily Mathieu            PhD   \n",
       "185         185     CGS   Research  2019       Lucas Torres             MD   \n",
       "186         186     CGS   Research  2018     Evan Michaelov             MD   \n",
       "187         187     CGS   Research  2018      Emily Mathieu            PhD   \n",
       "188         188     CGS   Research  2018  Simrenjeet Sandhu             MD   \n",
       "189         189     CGS   Research  2018    Sunil Parapurum            PhD   \n",
       "190         190     CGS   Research  2017         Wendy Wang        Student   \n",
       "191         191     CGS   Research  2017       Jayme Vianna             MD   \n",
       "192         192     CGS   Research  2017        Shawn Cohen             MD   \n",
       "193         193     CGS   Research  2016       Sarah Mullen             MD   \n",
       "194         194     CGS   Research  2016       Angela Zhang             MD   \n",
       "195         195     CGS   Research  2016     Yogesh Patodia        Student   \n",
       "196         196     CGS   Research  2016       Jayme Vianna             MD   \n",
       "197         197     CGS   Research  2015      Jeremy Murphy             MD   \n",
       "198         198     CGS   Research  2015      Sourabh Arora             MD   \n",
       "199         199     CGS   Research  2015         Tal Milman        Student   \n",
       "200         200     CGS   Research  2015        Sera Thomas        Unknown   \n",
       "201         201     CGS   Research  2014           Gary Yau             MD   \n",
       "202         202     CGS   Research  2014      Kelsey Watson        Student   \n",
       "203         203     CGS   Research  2014  Yiannis Lordanous             MD   \n",
       "\n",
       "     Gender   Male  Female       FName      LName pred_genders  Male_p  \\\n",
       "170       1   True   False      Graham      Trope         male    True   \n",
       "171       1   True   False      Gordon    Douglas         male    True   \n",
       "172       1   True   False       James  Armstrong         male    True   \n",
       "173       2  False    True        Saba      Samet       female   False   \n",
       "174      -1   True   False        Bill        Shi         male    True   \n",
       "175       1   True   False     Matthew  Schlenker         male    True   \n",
       "176       1   True   False    Nicholas       Ault         male    True   \n",
       "177       1   True   False      Edward       Moss         male    True   \n",
       "178       1   True   False     Yiannis  Lordanous         male    True   \n",
       "179       1   True   False      Carter        Lim         male    True   \n",
       "180       2  False    True    Nikoleta    Tellios       female   False   \n",
       "181       1   True   False       Lucas     Torres         male    True   \n",
       "182       2  False    True       Cindy     Hutnik       female   False   \n",
       "183       1   True   False       Vinay     Kansal         male    True   \n",
       "184      -1  False    True       Emily    Mathieu       female   False   \n",
       "185       1   True   False       Lucas     Torres         male    True   \n",
       "186       1   True   False        Evan  Michaelov         male    True   \n",
       "187      -1  False    True       Emily    Mathieu       female   False   \n",
       "188       1   True   False  Simrenjeet     Sandhu      unknown   False   \n",
       "189       1   True   False       Sunil  Parapurum         male    True   \n",
       "190       2  False    True       Wendy       Wang       female   False   \n",
       "191       1   True   False       Jayme     Vianna       female   False   \n",
       "192       1   True   False       Shawn      Cohen         male    True   \n",
       "193       2  False    True       Sarah     Mullen       female   False   \n",
       "194       2  False    True      Angela      Zhang       female   False   \n",
       "195       1   True   False      Yogesh    Patodia         male    True   \n",
       "196       1   True   False       Jayme     Vianna       female   False   \n",
       "197       1   True   False      Jeremy     Murphy         male    True   \n",
       "198       1   True   False     Sourabh      Arora         male    True   \n",
       "199       1   True   False         Tal     Milman         male    True   \n",
       "200       2  False    True        Sera     Thomas       female   False   \n",
       "201       1   True   False        Gary        Yau         male    True   \n",
       "202       2  False    True      Kelsey     Watson       female   False   \n",
       "203       1   True   False     Yiannis  Lordanous         male    True   \n",
       "\n",
       "     Female_p  \n",
       "170     False  \n",
       "171     False  \n",
       "172     False  \n",
       "173      True  \n",
       "174     False  \n",
       "175     False  \n",
       "176     False  \n",
       "177     False  \n",
       "178     False  \n",
       "179     False  \n",
       "180      True  \n",
       "181     False  \n",
       "182      True  \n",
       "183     False  \n",
       "184      True  \n",
       "185     False  \n",
       "186     False  \n",
       "187      True  \n",
       "188     False  \n",
       "189     False  \n",
       "190      True  \n",
       "191      True  \n",
       "192     False  \n",
       "193      True  \n",
       "194      True  \n",
       "195     False  \n",
       "196      True  \n",
       "197     False  \n",
       "198     False  \n",
       "199     False  \n",
       "200      True  \n",
       "201     False  \n",
       "202      True  \n",
       "203     False  "
      ]
     },
     "execution_count": 70,
     "metadata": {},
     "output_type": "execute_result"
    }
   ],
   "source": [
    "df[df['Society']=='CGS']"
   ]
  },
  {
   "cell_type": "markdown",
   "metadata": {},
   "source": [
    "In order"
   ]
  },
  {
   "cell_type": "code",
   "execution_count": 86,
   "metadata": {},
   "outputs": [
    {
     "data": {
      "text/plain": [
       "array([0.22916667, 0.0606646 ])"
      ]
     },
     "execution_count": 86,
     "metadata": {},
     "output_type": "execute_result"
    }
   ],
   "source": [
    "get_p(df, lwr_yr=2004, upr_yr=2012)"
   ]
  },
  {
   "cell_type": "code",
   "execution_count": 79,
   "metadata": {},
   "outputs": [
    {
     "data": {
      "text/plain": [
       "(0.5393939393939394, 0.26577581020243607)"
      ]
     },
     "execution_count": 79,
     "metadata": {},
     "output_type": "execute_result"
    }
   ],
   "source": [
    "tab = get_cont_table(df, 'Year', [[1995,2003], [2013,2021]], geqleq=True)\n",
    "fisher_exact(tab)"
   ]
  },
  {
   "cell_type": "code",
   "execution_count": 144,
   "metadata": {},
   "outputs": [
    {
     "data": {
      "text/plain": [
       "(3.9583333333333335, 0.1037071377008197)"
      ]
     },
     "execution_count": 144,
     "metadata": {},
     "output_type": "execute_result"
    }
   ],
   "source": [
    "tab = get_cont_table(df, 'Society', ['CGS', 'EPSO'])\n",
    "fisher_exact(tab)"
   ]
  },
  {
   "cell_type": "code",
   "execution_count": 94,
   "metadata": {},
   "outputs": [
    {
     "data": {
      "text/plain": [
       "31"
      ]
     },
     "execution_count": 94,
     "metadata": {},
     "output_type": "execute_result"
    }
   ],
   "source": [
    "df[df['Award Type']=='Lifetime']['Male'].sum()"
   ]
  },
  {
   "cell_type": "code",
   "execution_count": 87,
   "metadata": {},
   "outputs": [
    {
     "data": {
      "text/plain": [
       "(3.797872340425532, 0.0009906813971732318)"
      ]
     },
     "execution_count": 87,
     "metadata": {},
     "output_type": "execute_result"
    }
   ],
   "source": [
    "tab = get_cont_table(df, 'Training Level', 'Student', posfalse=True)\n",
    "fisher_exact(tab)"
   ]
  },
  {
   "cell_type": "code",
   "execution_count": 147,
   "metadata": {},
   "outputs": [
    {
     "data": {
      "text/plain": [
       "(3.9669421487603307, 0.2758506098009902)"
      ]
     },
     "execution_count": 147,
     "metadata": {},
     "output_type": "execute_result"
    }
   ],
   "source": [
    "tab = get_cont_table(df, 'Award Type', ['Research', 'Leader'])\n",
    "fisher_exact(tab)"
   ]
  },
  {
   "cell_type": "code",
   "execution_count": 91,
   "metadata": {},
   "outputs": [
    {
     "data": {
      "text/plain": [
       "0.2422680412371134"
      ]
     },
     "execution_count": 91,
     "metadata": {},
     "output_type": "execute_result"
    }
   ],
   "source": [
    "_ = df[df['Training Level']!='Student']\n",
    "_['Female'].sum()/_.shape[0]"
   ]
  },
  {
   "cell_type": "code",
   "execution_count": 96,
   "metadata": {},
   "outputs": [
    {
     "data": {
      "text/plain": [
       "array([0.32743363, 0.04414586])"
      ]
     },
     "execution_count": 96,
     "metadata": {},
     "output_type": "execute_result"
    }
   ],
   "source": [
    "get_p(df, lwr_yr=2013, upr_yr=2021)"
   ]
  },
  {
   "cell_type": "code",
   "execution_count": 101,
   "metadata": {},
   "outputs": [
    {
     "data": {
      "text/plain": [
       "21"
      ]
     },
     "execution_count": 101,
     "metadata": {},
     "output_type": "execute_result"
    }
   ],
   "source": [
    "df[df['Society']=='EPSO'].shape[0]"
   ]
  },
  {
   "cell_type": "code",
   "execution_count": 111,
   "metadata": {},
   "outputs": [
    {
     "data": {
      "text/plain": [
       "0.1604423813509086"
      ]
     },
     "execution_count": 111,
     "metadata": {},
     "output_type": "execute_result"
    }
   ],
   "source": [
    "_=df[df['Award Type']=='Research']\n",
    "get_p_binom(_)"
   ]
  },
  {
   "cell_type": "code",
   "execution_count": 142,
   "metadata": {},
   "outputs": [
    {
     "data": {
      "text/plain": [
       "0.024810310958427992"
      ]
     },
     "execution_count": 142,
     "metadata": {},
     "output_type": "execute_result"
    }
   ],
   "source": [
    "_=df[df['Training Level']=='Unknown']\n",
    "_['Female'].sum()/_.shape[0]\n",
    "get_p_binom(_)"
   ]
  },
  {
   "cell_type": "code",
   "execution_count": 136,
   "metadata": {},
   "outputs": [
    {
     "data": {
      "text/plain": [
       "172"
      ]
     },
     "execution_count": 136,
     "metadata": {},
     "output_type": "execute_result"
    }
   ],
   "source": [
    "_.shape[0]"
   ]
  },
  {
   "cell_type": "code",
   "execution_count": 35,
   "metadata": {},
   "outputs": [
    {
     "data": {
      "text/plain": [
       "(4.797979797979798, 0.02426346747560236)"
      ]
     },
     "execution_count": 35,
     "metadata": {},
     "output_type": "execute_result"
    }
   ],
   "source": [
    "tab = get_cont_table(df[df['Society']=='COS'], 'Award Type', 'Research', posfalse=True)\n",
    "fisher_exact(tab)"
   ]
  },
  {
   "cell_type": "code",
   "execution_count": 42,
   "metadata": {},
   "outputs": [
    {
     "data": {
      "text/plain": [
       "(1.375, 1.0)"
      ]
     },
     "execution_count": 42,
     "metadata": {},
     "output_type": "execute_result"
    }
   ],
   "source": [
    "tab = get_cont_table(df[df['Society']=='EPSO'], 'Award Type', 'Leader', posfalse=True)\n",
    "fisher_exact(tab)"
   ]
  },
  {
   "cell_type": "code",
   "execution_count": 55,
   "metadata": {},
   "outputs": [
    {
     "data": {
      "text/plain": [
       "0.043641892800000005"
      ]
     },
     "execution_count": 55,
     "metadata": {},
     "output_type": "execute_result"
    }
   ],
   "source": [
    "get_p_binom(df[df['Training Level']=='Unknown'])"
   ]
  },
  {
   "cell_type": "markdown",
   "metadata": {},
   "source": []
  },
  {
   "cell_type": "code",
   "execution_count": null,
   "metadata": {},
   "outputs": [],
   "source": []
  }
 ],
 "metadata": {
  "kernelspec": {
   "display_name": "Python 3",
   "language": "python",
   "name": "python3"
  },
  "language_info": {
   "codemirror_mode": {
    "name": "ipython",
    "version": 3
   },
   "file_extension": ".py",
   "mimetype": "text/x-python",
   "name": "python",
   "nbconvert_exporter": "python",
   "pygments_lexer": "ipython3",
   "version": "3.6.9"
  }
 },
 "nbformat": 4,
 "nbformat_minor": 4
}
