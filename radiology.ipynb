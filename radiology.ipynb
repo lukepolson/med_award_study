{
 "cells": [
  {
   "cell_type": "code",
   "execution_count": 30,
   "metadata": {},
   "outputs": [],
   "source": [
    "import json\n",
    "from urllib.request import urlopen\n",
    "import numpy as np\n",
    "import pandas as pd\n",
    "import matplotlib.pyplot as plt\n",
    "import matplotlib\n",
    "import scipy.stats\n",
    "from collections import Counter\n",
    "from scipy.optimize import curve_fit\n",
    "from scipy import stats\n",
    "#plt.style.use('seaborn')\n",
    "plt.style.use(['science', 'notebook'])\n",
    "\n",
    "def annotate_bars(ax):\n",
    "    for p in ax.patches:\n",
    "        ax.annotate('{}'.format(p.get_height()), (p.get_x()+p.get_width()/2, p.get_height()),\n",
    "                   bbox={'facecolor': 'white', 'alpha': 1, 'pad': 1}, ha='center', fontsize=10)\n",
    "\n",
    "def get_ci_manual(t, s_err, n, x, x2, y2, ax=None):  \n",
    "    ci = t * s_err * np.sqrt(1/n + (x2 - np.mean(x))**2 / np.sum((x - np.mean(x))**2))\n",
    "    return ci\n",
    "\n",
    "def line(x, m, b):\n",
    "    return m*x+b\n",
    "\n",
    "def get_line_and_CI(x,y,yerr):\n",
    "    # Get data\n",
    "    xdata = x[y>0]\n",
    "    ydata = y[y>0]\n",
    "    yerrdata = yerr[y>0]\n",
    "    # Fit to Curve\n",
    "    popt, pcov = curve_fit(line, xdata, ydata, sigma=yerrdata)\n",
    "    xfit = np.linspace(np.min(xdata), np.max(xdata), 100)\n",
    "    yfit = line(xfit, popt[0], popt[1])\n",
    "    # Statistics\n",
    "    NN = yfit.size\n",
    "    NP = 2               \n",
    "    dof = NN - NP                   \n",
    "    t = stats.t.ppf(0.975, NN - NP)  \n",
    "    # Estimates of Error in Data/Model\n",
    "    y_model = m*xdata + b\n",
    "    resid = ydata - y_model                                                           \n",
    "    s_err = np.sqrt(np.sum(resid**2) / dof)\n",
    "    # Confidence Interval\n",
    "    ci = get_ci_manual(t, s_err, NN, xdata, xfit, yfit)\n",
    "    return xdata, ydata, xfit, yfit, ci, popt, pcov"
   ]
  },
  {
   "cell_type": "markdown",
   "metadata": {},
   "source": [
    "* Gender\n",
    "* Change Kupura to female\n",
    "* Award Recipients Y axis\n",
    "* X axis all labels\n",
    "* 2019-2021 all societies"
   ]
  },
  {
   "cell_type": "code",
   "execution_count": 2,
   "metadata": {},
   "outputs": [],
   "source": [
    "award_cnt_label='Total Number of Award Recipients'"
   ]
  },
  {
   "cell_type": "code",
   "execution_count": 3,
   "metadata": {},
   "outputs": [],
   "source": [
    "df = pd.read_csv('master2_withpred.csv', delimiter=',')"
   ]
  },
  {
   "cell_type": "code",
   "execution_count": 4,
   "metadata": {},
   "outputs": [],
   "source": [
    "df['male'] = df['Gender']=='1'\n",
    "df['female'] = df['Gender']=='2'\n",
    "df['male_p'] = df['pred_gender']=='male'\n",
    "df['female_p'] = df['pred_gender']=='female'\n",
    "df = df[['Year', 'male', 'female', 'male_p', 'female_p', 'Society']]\n",
    "df = df.dropna()"
   ]
  },
  {
   "cell_type": "code",
   "execution_count": 5,
   "metadata": {},
   "outputs": [
    {
     "name": "stderr",
     "output_type": "stream",
     "text": [
      "C:\\Users\\lukep\\anaconda3\\lib\\site-packages\\pandas\\core\\computation\\expressions.py:203: UserWarning: evaluating in Python space because the '+' operator is not supported by numexpr for the bool dtype, use '|' instead\n",
      "  warnings.warn(\n"
     ]
    }
   ],
   "source": [
    "df['has_gender'] = df['male']+df['female']\n",
    "df['has_gender_p'] = df['male_p']+df['female_p']\n",
    "df.loc[~df.has_gender&df.has_gender_p&df.male_p, 'male'] = True\n",
    "df.loc[~df.has_gender&df.has_gender_p&df.female_p, 'female'] = True\n",
    "df = df[df.Year != 'Current fellows']\n",
    "df.Year = df.Year.astype(float)"
   ]
  },
  {
   "cell_type": "code",
   "execution_count": 6,
   "metadata": {},
   "outputs": [
    {
     "data": {
      "image/png": "[encoded data removed]",
      "text/plain": [
       "<Figure size 576x216 with 1 Axes>"
      ]
     },
     "metadata": {
      "needs_background": "light"
     },
     "output_type": "display_data"
    }
   ],
   "source": [
    "bins = np.arange(1960, 2025, 5)\n",
    "plt.figure(figsize=(8,3))\n",
    "plt.hist(df.Year.astype(float), bins=bins, color='k')\n",
    "plt.xlabel('Year of Award')\n",
    "plt.ylabel('Number of Awards')\n",
    "plt.show()"
   ]
  },
  {
   "cell_type": "markdown",
   "metadata": {},
   "source": [
    "Obtain years and year labels in segments of every 5 years and put them as an additional column to the dataframe"
   ]
  },
  {
   "cell_type": "code",
   "execution_count": 7,
   "metadata": {},
   "outputs": [],
   "source": [
    "years = np.zeros(df.shape[0])\n",
    "year_labels = np.zeros(df.shape[0]).astype(str)\n",
    "groupings = np.arange(1950, 2030, 5)\n",
    "for i in range(len(groupings)-1):\n",
    "    years[(df.Year<groupings[i+1]).values * (df.Year>=groupings[i]).values] = (groupings[i+1] + groupings[i])/2\n",
    "    year_labels[(df.Year<groupings[i+1]).values * (df.Year>=groupings[i]).values] = f'{groupings[i]}-{groupings[i+1]}'\n",
    "df['TP'] = years\n",
    "df['TP_l'] = year_labels"
   ]
  },
  {
   "cell_type": "markdown",
   "metadata": {},
   "source": [
    "Obtain proportion of female recipients in these 5 year segments for\n",
    "\n",
    "* A) All societies together\n",
    "* B) Seperate Societies"
   ]
  },
  {
   "cell_type": "code",
   "execution_count": 41,
   "metadata": {},
   "outputs": [],
   "source": [
    "dfmw = df.groupby(['Society', 'TP_l']).sum().unstack(fill_value=0).stack()[['male', 'female']].iloc[0:].reset_index()\n",
    "dfmw['tot'] = dfmw['male'] + dfmw['female']\n",
    "dfmw = dfmw[dfmw.tot!=0]\n",
    "# All societies together\n",
    "dfmw_all = dfmw.groupby(['TP_l']).sum()\n",
    "#Get p values\n",
    "dfmw['p'] = dfmw['female']/dfmw['tot']\n",
    "dfmw_all['p'] = dfmw_all['female']/dfmw_all['tot']\n",
    "\n",
    "dfmw['TP'] = (dfmw['TP_l'].map(lambda x: float(x[0:4])) + dfmw['TP_l'].map(lambda x: float(x[5:])))/2\n",
    "dfmw_all['TP'] = (dfmw_all.index.map(lambda x: float(x[0:4])) + dfmw_all.index.map(lambda x: float(x[5:])))/2"
   ]
  },
  {
   "cell_type": "markdown",
   "metadata": {},
   "source": [
    "All societies together"
   ]
  },
  {
   "cell_type": "code",
   "execution_count": 42,
   "metadata": {},
   "outputs": [],
   "source": [
    "x_l = list(dfmw_all.index)\n",
    "x = dfmw_all.TP.values\n",
    "y = dfmw_all.p.values\n",
    "n = dfmw_all.tot.values\n",
    "yerr = np.sqrt(y*(1-y)/n)"
   ]
  },
  {
   "cell_type": "markdown",
   "metadata": {},
   "source": [
    "Fit data to best fit line and get the confidence interval"
   ]
  },
  {
   "cell_type": "code",
   "execution_count": 43,
   "metadata": {},
   "outputs": [],
   "source": [
    "xdata, ydata, xfit, yfit, ci, popt, pcov = get_line_and_CI(x,y,yerr)\n",
    "m, m_err = popt[0], np.sqrt(pcov[0,0])"
   ]
  },
  {
   "cell_type": "markdown",
   "metadata": {},
   "source": [
    "Show plot"
   ]
  },
  {
   "cell_type": "code",
   "execution_count": 44,
   "metadata": {},
   "outputs": [
    {
     "data": {
      "image/png": "[encoded data removed]",
      "text/plain": [
       "<Figure size 576x288 with 1 Axes>"
      ]
     },
     "metadata": {},
     "output_type": "display_data"
    }
   ],
   "source": [
    "fig, ax = plt.subplots(figsize=(8,4), facecolor='white')\n",
    "plt.title('Proportion of Women Receiving Awards in all Societies')\n",
    "plt.errorbar(xdata,100*ydata,yerr=100*yerrdata, color='k', ls='')\n",
    "plt.plot(xdata,100*ydata, 'o', color='r', label='Data')\n",
    "plt.plot(xdata, 100*(m*xdata+b), label='Fit')\n",
    "plt.fill_between(xfit, 100*(yfit + ci), 100*(yfit - ci), color=\"blue\", linestyle=\"--\", alpha=0.3, label='95% CI')\n",
    "plt.ylabel('% Women')\n",
    "plt.xticks(rotation=45)\n",
    "plt.grid()\n",
    "plt.tight_layout()\n",
    "plt.text(1975, 35, f'$m={100*m:.2f}\\pm{100*m_err:.2f}$%/year', bbox=dict(facecolor='white', edgecolor='k'))\n",
    "plt.legend(loc='lower right', facecolor='white', framealpha=1, frameon=True)\n",
    "plt.savefig('plots_rad/all_societies.png',dpi=200)\n",
    "plt.show()"
   ]
  },
  {
   "cell_type": "markdown",
   "metadata": {},
   "source": [
    "Stuff having to do with societies."
   ]
  },
  {
   "cell_type": "code",
   "execution_count": 291,
   "metadata": {},
   "outputs": [],
   "source": [
    "societies = df['Society'].unique().astype(str)"
   ]
  },
  {
   "cell_type": "code",
   "execution_count": 294,
   "metadata": {},
   "outputs": [],
   "source": [
    "i=6\n",
    "x = dfmw[dfmw.Society==societies[i]].TP_l.values\n",
    "y = dfmw[dfmw.Society==societies[i]].p.values\n",
    "n = dfmw[dfmw.Society==societies[i]].tot.values\n",
    "yerr = np.sqrt(y*(1-y)/n)"
   ]
  },
  {
   "cell_type": "code",
   "execution_count": 295,
   "metadata": {},
   "outputs": [
    {
     "data": {
      "image/png": "[encoded data removed]",
      "text/plain": [
       "<Figure size 576x288 with 1 Axes>"
      ]
     },
     "metadata": {},
     "output_type": "display_data"
    }
   ],
   "source": [
    "plt.figure(figsize=(8,4))\n",
    "plt.title(societies[i])\n",
    "plt.plot(x,100*y, color='r', ls='--')\n",
    "plt.errorbar(x,100*y,yerr=100*yerr, color='k', ls='')\n",
    "plt.ylabel('% Women')\n",
    "plt.xticks(rotation=45)\n",
    "plt.tight_layout()\n",
    "plt.savefig('plots_rad/sample_society.png',dpi=200)\n",
    "plt.show()"
   ]
  },
  {
   "cell_type": "markdown",
   "metadata": {},
   "source": [
    "# Extra (OBtaining Genders From Website)"
   ]
  },
  {
   "cell_type": "code",
   "execution_count": 15,
   "metadata": {},
   "outputs": [],
   "source": [
    "def get_genders(names):\n",
    "    pred_genders = []\n",
    "    myKey = \"JljB4rjnA72npkDnX9kBzqVneqV8BQZRU2Zz\"\n",
    "    for name in names:\n",
    "        url = \"https://gender-api.com/get?key=\" + myKey + \"&split={}\".format(name)\n",
    "        response = urlopen(url)\n",
    "        decoded = response.read().decode('utf-8')\n",
    "        data = json.loads(decoded)\n",
    "        pred_genders.append(data['gender'])\n",
    "    return pred_genders\n",
    "\n",
    "def remove_char(arr, char):\n",
    "    return ' '.join(list(filter(lambda x:char not in x, arr.split())))"
   ]
  },
  {
   "cell_type": "code",
   "execution_count": 16,
   "metadata": {},
   "outputs": [],
   "source": [
    "df = pd.read_csv('radio_master.csv')"
   ]
  },
  {
   "cell_type": "code",
   "execution_count": 17,
   "metadata": {},
   "outputs": [],
   "source": [
    "arr = df['Name'].to_numpy()\n",
    "arr = np.array([a.split(',')[0] for a in arr])\n",
    "arr = np.array([a.split(':')[-1] for a in arr])\n",
    "arr = np.vectorize(remove_char)(arr, '*')\n",
    "arr = np.vectorize(remove_char)(arr, '.')\n",
    "arr = np.vectorize(remove_char)(arr, '(')\n",
    "\n",
    "f_name = [a.split(' ')[0] for a in arr]\n",
    "l_name = [a.split(' ')[-1] for a in arr]\n",
    "\n",
    "f_name = [f.encode() for f in f_name]\n",
    "l_name = [l.encode() for l in l_name]"
   ]
  },
  {
   "cell_type": "code",
   "execution_count": 39,
   "metadata": {},
   "outputs": [],
   "source": [
    "pred_genders = get_genders(df['FName'].values)"
   ]
  },
  {
   "cell_type": "code",
   "execution_count": 40,
   "metadata": {},
   "outputs": [],
   "source": [
    "df['pred_genders'] = pred_genders\n",
    "df.to_csv('gender_data_predicted.csv')"
   ]
  },
  {
   "cell_type": "code",
   "execution_count": 41,
   "metadata": {},
   "outputs": [
    {
     "data": {
      "text/html": [
       "<div>\n",
       "<style scoped>\n",
       "    .dataframe tbody tr th:only-of-type {\n",
       "        vertical-align: middle;\n",
       "    }\n",
       "\n",
       "    .dataframe tbody tr th {\n",
       "        vertical-align: top;\n",
       "    }\n",
       "\n",
       "    .dataframe thead th {\n",
       "        text-align: right;\n",
       "    }\n",
       "</style>\n",
       "<table border=\"1\" class=\"dataframe\">\n",
       "  <thead>\n",
       "    <tr style=\"text-align: right;\">\n",
       "      <th></th>\n",
       "      <th>Society</th>\n",
       "      <th>Award Type</th>\n",
       "      <th>Year</th>\n",
       "      <th>Award Winner</th>\n",
       "      <th>Training Level</th>\n",
       "      <th>Gender</th>\n",
       "      <th>Male</th>\n",
       "      <th>Female</th>\n",
       "      <th>FName</th>\n",
       "      <th>LName</th>\n",
       "      <th>pred_genders</th>\n",
       "    </tr>\n",
       "  </thead>\n",
       "  <tbody>\n",
       "    <tr>\n",
       "      <th>0</th>\n",
       "      <td>COS</td>\n",
       "      <td>3</td>\n",
       "      <td>2021</td>\n",
       "      <td>Brian Leonard</td>\n",
       "      <td>1</td>\n",
       "      <td>1</td>\n",
       "      <td>True</td>\n",
       "      <td>False</td>\n",
       "      <td>Brian</td>\n",
       "      <td>Leonard</td>\n",
       "      <td>male</td>\n",
       "    </tr>\n",
       "    <tr>\n",
       "      <th>1</th>\n",
       "      <td>COS</td>\n",
       "      <td>3</td>\n",
       "      <td>2020</td>\n",
       "      <td>Simon Holland</td>\n",
       "      <td>1</td>\n",
       "      <td>1</td>\n",
       "      <td>True</td>\n",
       "      <td>False</td>\n",
       "      <td>Simon</td>\n",
       "      <td>Holland</td>\n",
       "      <td>male</td>\n",
       "    </tr>\n",
       "    <tr>\n",
       "      <th>2</th>\n",
       "      <td>COS</td>\n",
       "      <td>3</td>\n",
       "      <td>2019</td>\n",
       "      <td>Helene Boisjoly</td>\n",
       "      <td>1</td>\n",
       "      <td>2</td>\n",
       "      <td>False</td>\n",
       "      <td>True</td>\n",
       "      <td>Helene</td>\n",
       "      <td>Boisjoly</td>\n",
       "      <td>female</td>\n",
       "    </tr>\n",
       "    <tr>\n",
       "      <th>3</th>\n",
       "      <td>COS</td>\n",
       "      <td>3</td>\n",
       "      <td>2018</td>\n",
       "      <td>Graham Trope</td>\n",
       "      <td>3</td>\n",
       "      <td>1</td>\n",
       "      <td>True</td>\n",
       "      <td>False</td>\n",
       "      <td>Graham</td>\n",
       "      <td>Trope</td>\n",
       "      <td>male</td>\n",
       "    </tr>\n",
       "    <tr>\n",
       "      <th>4</th>\n",
       "      <td>COS</td>\n",
       "      <td>3</td>\n",
       "      <td>2017</td>\n",
       "      <td>Seymour Brownstein</td>\n",
       "      <td>1</td>\n",
       "      <td>1</td>\n",
       "      <td>True</td>\n",
       "      <td>False</td>\n",
       "      <td>Seymour</td>\n",
       "      <td>Brownstein</td>\n",
       "      <td>male</td>\n",
       "    </tr>\n",
       "    <tr>\n",
       "      <th>...</th>\n",
       "      <td>...</td>\n",
       "      <td>...</td>\n",
       "      <td>...</td>\n",
       "      <td>...</td>\n",
       "      <td>...</td>\n",
       "      <td>...</td>\n",
       "      <td>...</td>\n",
       "      <td>...</td>\n",
       "      <td>...</td>\n",
       "      <td>...</td>\n",
       "      <td>...</td>\n",
       "    </tr>\n",
       "    <tr>\n",
       "      <th>220</th>\n",
       "      <td>EPS</td>\n",
       "      <td>3</td>\n",
       "      <td>2013</td>\n",
       "      <td>Jeff Sher</td>\n",
       "      <td>1</td>\n",
       "      <td>1</td>\n",
       "      <td>True</td>\n",
       "      <td>False</td>\n",
       "      <td>Jeff</td>\n",
       "      <td>Sher</td>\n",
       "      <td>male</td>\n",
       "    </tr>\n",
       "    <tr>\n",
       "      <th>221</th>\n",
       "      <td>EPS</td>\n",
       "      <td>3</td>\n",
       "      <td>2012</td>\n",
       "      <td>Jeff Hurwitz</td>\n",
       "      <td>1</td>\n",
       "      <td>1</td>\n",
       "      <td>True</td>\n",
       "      <td>False</td>\n",
       "      <td>Jeff</td>\n",
       "      <td>Hurwitz</td>\n",
       "      <td>male</td>\n",
       "    </tr>\n",
       "    <tr>\n",
       "      <th>222</th>\n",
       "      <td>EPS</td>\n",
       "      <td>3</td>\n",
       "      <td>2011</td>\n",
       "      <td>John Fowler</td>\n",
       "      <td>1</td>\n",
       "      <td>1</td>\n",
       "      <td>True</td>\n",
       "      <td>False</td>\n",
       "      <td>John</td>\n",
       "      <td>Fowler</td>\n",
       "      <td>male</td>\n",
       "    </tr>\n",
       "    <tr>\n",
       "      <th>223</th>\n",
       "      <td>EPS</td>\n",
       "      <td>1</td>\n",
       "      <td>2017</td>\n",
       "      <td>John Fowler</td>\n",
       "      <td>1</td>\n",
       "      <td>1</td>\n",
       "      <td>True</td>\n",
       "      <td>False</td>\n",
       "      <td>John</td>\n",
       "      <td>Fowler</td>\n",
       "      <td>male</td>\n",
       "    </tr>\n",
       "    <tr>\n",
       "      <th>224</th>\n",
       "      <td>EPS</td>\n",
       "      <td>3</td>\n",
       "      <td>2019</td>\n",
       "      <td>Kylen McReelis</td>\n",
       "      <td>1</td>\n",
       "      <td>1</td>\n",
       "      <td>True</td>\n",
       "      <td>False</td>\n",
       "      <td>Kylen</td>\n",
       "      <td>McReelis</td>\n",
       "      <td>male</td>\n",
       "    </tr>\n",
       "  </tbody>\n",
       "</table>\n",
       "<p>225 rows × 11 columns</p>\n",
       "</div>"
      ],
      "text/plain": [
       "    Society  Award Type  Year        Award Winner  Training Level  Gender  \\\n",
       "0       COS           3  2021       Brian Leonard               1       1   \n",
       "1       COS           3  2020       Simon Holland               1       1   \n",
       "2       COS           3  2019     Helene Boisjoly               1       2   \n",
       "3       COS           3  2018        Graham Trope               3       1   \n",
       "4       COS           3  2017  Seymour Brownstein               1       1   \n",
       "..      ...         ...   ...                 ...             ...     ...   \n",
       "220     EPS           3  2013           Jeff Sher               1       1   \n",
       "221     EPS           3  2012        Jeff Hurwitz               1       1   \n",
       "222     EPS           3  2011         John Fowler               1       1   \n",
       "223     EPS           1  2017         John Fowler               1       1   \n",
       "224     EPS           3  2019      Kylen McReelis               1       1   \n",
       "\n",
       "      Male  Female    FName       LName pred_genders  \n",
       "0     True   False    Brian     Leonard         male  \n",
       "1     True   False    Simon     Holland         male  \n",
       "2    False    True   Helene    Boisjoly       female  \n",
       "3     True   False   Graham       Trope         male  \n",
       "4     True   False  Seymour  Brownstein         male  \n",
       "..     ...     ...      ...         ...          ...  \n",
       "220   True   False     Jeff        Sher         male  \n",
       "221   True   False     Jeff     Hurwitz         male  \n",
       "222   True   False     John      Fowler         male  \n",
       "223   True   False     John      Fowler         male  \n",
       "224   True   False    Kylen    McReelis         male  \n",
       "\n",
       "[225 rows x 11 columns]"
      ]
     },
     "execution_count": 41,
     "metadata": {},
     "output_type": "execute_result"
    }
   ],
   "source": [
    "df"
   ]
  },
  {
   "cell_type": "code",
   "execution_count": null,
   "metadata": {},
   "outputs": [],
   "source": []
  },
  {
   "cell_type": "code",
   "execution_count": null,
   "metadata": {},
   "outputs": [],
   "source": []
  },
  {
   "cell_type": "code",
   "execution_count": null,
   "metadata": {},
   "outputs": [],
   "source": []
  },
  {
   "cell_type": "code",
   "execution_count": null,
   "metadata": {},
   "outputs": [],
   "source": []
  },
  {
   "cell_type": "code",
   "execution_count": null,
   "metadata": {},
   "outputs": [],
   "source": []
  },
  {
   "cell_type": "code",
   "execution_count": null,
   "metadata": {},
   "outputs": [],
   "source": []
  },
  {
   "cell_type": "code",
   "execution_count": null,
   "metadata": {},
   "outputs": [],
   "source": []
  },
  {
   "cell_type": "code",
   "execution_count": 383,
   "metadata": {},
   "outputs": [],
   "source": [
    "import statsmodels.api as sm"
   ]
  },
  {
   "cell_type": "code",
   "execution_count": 397,
   "metadata": {},
   "outputs": [],
   "source": [
    "X = sm.add_constant(xfit)\n",
    "Y = yfit\n",
    "W = 1/yerrfit**2"
   ]
  },
  {
   "cell_type": "code",
   "execution_count": 398,
   "metadata": {},
   "outputs": [],
   "source": [
    "results = sm.WLS(Y, X, weights=W).fit()"
   ]
  },
  {
   "cell_type": "code",
   "execution_count": 399,
   "metadata": {},
   "outputs": [
    {
     "name": "stderr",
     "output_type": "stream",
     "text": [
      "C:\\Users\\lukep\\anaconda3\\lib\\site-packages\\scipy\\stats\\stats.py:1541: UserWarning: kurtosistest only valid for n>=20 ... continuing anyway, n=10\n",
      "  warnings.warn(\"kurtosistest only valid for n>=20 ... continuing \"\n"
     ]
    },
    {
     "data": {
      "text/html": [
       "<table class=\"simpletable\">\n",
       "<caption>WLS Regression Results</caption>\n",
       "<tr>\n",
       "  <th>Dep. Variable:</th>            <td>y</td>        <th>  R-squared:         </th> <td>   0.848</td>\n",
       "</tr>\n",
       "<tr>\n",
       "  <th>Model:</th>                   <td>WLS</td>       <th>  Adj. R-squared:    </th> <td>   0.828</td>\n",
       "</tr>\n",
       "<tr>\n",
       "  <th>Method:</th>             <td>Least Squares</td>  <th>  F-statistic:       </th> <td>   44.47</td>\n",
       "</tr>\n",
       "<tr>\n",
       "  <th>Date:</th>             <td>Thu, 02 Dec 2021</td> <th>  Prob (F-statistic):</th> <td>0.000158</td>\n",
       "</tr>\n",
       "<tr>\n",
       "  <th>Time:</th>                 <td>21:13:47</td>     <th>  Log-Likelihood:    </th> <td>  18.143</td>\n",
       "</tr>\n",
       "<tr>\n",
       "  <th>No. Observations:</th>      <td>    10</td>      <th>  AIC:               </th> <td>  -32.29</td>\n",
       "</tr>\n",
       "<tr>\n",
       "  <th>Df Residuals:</th>          <td>     8</td>      <th>  BIC:               </th> <td>  -31.68</td>\n",
       "</tr>\n",
       "<tr>\n",
       "  <th>Df Model:</th>              <td>     1</td>      <th>                     </th>     <td> </td>   \n",
       "</tr>\n",
       "<tr>\n",
       "  <th>Covariance Type:</th>      <td>nonrobust</td>    <th>                     </th>     <td> </td>   \n",
       "</tr>\n",
       "</table>\n",
       "<table class=\"simpletable\">\n",
       "<tr>\n",
       "    <td></td>       <th>coef</th>     <th>std err</th>      <th>t</th>      <th>P>|t|</th>  <th>[0.025</th>    <th>0.975]</th>  \n",
       "</tr>\n",
       "<tr>\n",
       "  <th>const</th> <td>  -13.0429</td> <td>    1.994</td> <td>   -6.540</td> <td> 0.000</td> <td>  -17.642</td> <td>   -8.444</td>\n",
       "</tr>\n",
       "<tr>\n",
       "  <th>x1</th>    <td>    0.0066</td> <td>    0.001</td> <td>    6.668</td> <td> 0.000</td> <td>    0.004</td> <td>    0.009</td>\n",
       "</tr>\n",
       "</table>\n",
       "<table class=\"simpletable\">\n",
       "<tr>\n",
       "  <th>Omnibus:</th>       <td> 1.809</td> <th>  Durbin-Watson:     </th> <td>   1.376</td>\n",
       "</tr>\n",
       "<tr>\n",
       "  <th>Prob(Omnibus):</th> <td> 0.405</td> <th>  Jarque-Bera (JB):  </th> <td>   0.817</td>\n",
       "</tr>\n",
       "<tr>\n",
       "  <th>Skew:</th>          <td> 0.156</td> <th>  Prob(JB):          </th> <td>   0.665</td>\n",
       "</tr>\n",
       "<tr>\n",
       "  <th>Kurtosis:</th>      <td> 1.635</td> <th>  Cond. No.          </th> <td>3.27e+05</td>\n",
       "</tr>\n",
       "</table><br/><br/>Notes:<br/>[1] Standard Errors assume that the covariance matrix of the errors is correctly specified.<br/>[2] The condition number is large, 3.27e+05. This might indicate that there are<br/>strong multicollinearity or other numerical problems."
      ],
      "text/plain": [
       "<class 'statsmodels.iolib.summary.Summary'>\n",
       "\"\"\"\n",
       "                            WLS Regression Results                            \n",
       "==============================================================================\n",
       "Dep. Variable:                      y   R-squared:                       0.848\n",
       "Model:                            WLS   Adj. R-squared:                  0.828\n",
       "Method:                 Least Squares   F-statistic:                     44.47\n",
       "Date:                Thu, 02 Dec 2021   Prob (F-statistic):           0.000158\n",
       "Time:                        21:13:47   Log-Likelihood:                 18.143\n",
       "No. Observations:                  10   AIC:                            -32.29\n",
       "Df Residuals:                       8   BIC:                            -31.68\n",
       "Df Model:                           1                                         \n",
       "Covariance Type:            nonrobust                                         \n",
       "==============================================================================\n",
       "                 coef    std err          t      P>|t|      [0.025      0.975]\n",
       "------------------------------------------------------------------------------\n",
       "const        -13.0429      1.994     -6.540      0.000     -17.642      -8.444\n",
       "x1             0.0066      0.001      6.668      0.000       0.004       0.009\n",
       "==============================================================================\n",
       "Omnibus:                        1.809   Durbin-Watson:                   1.376\n",
       "Prob(Omnibus):                  0.405   Jarque-Bera (JB):                0.817\n",
       "Skew:                           0.156   Prob(JB):                        0.665\n",
       "Kurtosis:                       1.635   Cond. No.                     3.27e+05\n",
       "==============================================================================\n",
       "\n",
       "Notes:\n",
       "[1] Standard Errors assume that the covariance matrix of the errors is correctly specified.\n",
       "[2] The condition number is large, 3.27e+05. This might indicate that there are\n",
       "strong multicollinearity or other numerical problems.\n",
       "\"\"\""
      ]
     },
     "execution_count": 399,
     "metadata": {},
     "output_type": "execute_result"
    }
   ],
   "source": [
    "results.summary()"
   ]
  }
 ],
 "metadata": {
  "kernelspec": {
   "display_name": "Python 3",
   "language": "python",
   "name": "python3"
  },
  "language_info": {
   "codemirror_mode": {
    "name": "ipython",
    "version": 3
   },
   "file_extension": ".py",
   "mimetype": "text/x-python",
   "name": "python",
   "nbconvert_exporter": "python",
   "pygments_lexer": "ipython3",
   "version": "3.8.5"
  }
 },
 "nbformat": 4,
 "nbformat_minor": 4
}
